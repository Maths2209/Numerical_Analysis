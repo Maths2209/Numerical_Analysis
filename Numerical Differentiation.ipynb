{
 "cells": [
  {
   "cell_type": "markdown",
   "metadata": {},
   "source": [
    "# Numerical Differentiation\n",
    "\n",
    "## by Dion Ho\n",
    "\n",
    "### Last updated: Feb 07, 2019\n",
    "\n",
    "\n",
    "# Import Python Libraries"
   ]
  },
  {
   "cell_type": "code",
   "execution_count": 13,
   "metadata": {},
   "outputs": [],
   "source": [
    "import numpy as np\n",
    "from matplotlib import pyplot as plt\n",
    "%matplotlib inline"
   ]
  },
  {
   "cell_type": "code",
   "execution_count": 14,
   "metadata": {},
   "outputs": [],
   "source": [
    "def forward_d(f,x,h):\n",
    "    return (f(x+h)-f(x))/(h)\n",
    "\n",
    "def centered_d(f,x,h):\n",
    "    return (f(x+h)-f(x-h))/(2*h)"
   ]
  },
  {
   "cell_type": "code",
   "execution_count": 15,
   "metadata": {},
   "outputs": [],
   "source": [
    "f = lambda x: x**3"
   ]
  },
  {
   "cell_type": "code",
   "execution_count": 16,
   "metadata": {},
   "outputs": [
    {
     "data": {
      "text/plain": [
       "3.1525000000000025"
      ]
     },
     "execution_count": 16,
     "metadata": {},
     "output_type": "execute_result"
    }
   ],
   "source": [
    "forward_d(f,1,.05)"
   ]
  },
  {
   "cell_type": "code",
   "execution_count": 17,
   "metadata": {},
   "outputs": [
    {
     "data": {
      "text/plain": [
       "3.002500000000002"
      ]
     },
     "execution_count": 17,
     "metadata": {},
     "output_type": "execute_result"
    }
   ],
   "source": [
    "centered_d(f,1,.05)"
   ]
  },
  {
   "cell_type": "code",
   "execution_count": 18,
   "metadata": {},
   "outputs": [
    {
     "data": {
      "text/plain": [
       "array([1.e-01, 1.e-02, 1.e-03, 1.e-04, 1.e-05, 1.e-06, 1.e-07, 1.e-08,\n",
       "       1.e-09])"
      ]
     },
     "execution_count": 18,
     "metadata": {},
     "output_type": "execute_result"
    }
   ],
   "source": [
    "h = (1/10)**(np.arange(1,10))\n",
    "h"
   ]
  },
  {
   "cell_type": "code",
   "execution_count": 19,
   "metadata": {},
   "outputs": [
    {
     "data": {
      "text/plain": [
       "array([[3.10000000e-01, 1.00000000e-02],\n",
       "       [3.01000000e-02, 1.00000000e-04],\n",
       "       [3.00100000e-03, 9.99999862e-07],\n",
       "       [3.00009999e-04, 9.99944794e-09],\n",
       "       [3.00001110e-05, 9.73683356e-11],\n",
       "       [2.99979786e-06, 8.02677924e-11],\n",
       "       [3.01511817e-07, 8.62661054e-11],\n",
       "       [3.97204625e-09, 7.13018400e-09],\n",
       "       [2.48221112e-07, 8.16876580e-08]])"
      ]
     },
     "execution_count": 19,
     "metadata": {},
     "output_type": "execute_result"
    }
   ],
   "source": [
    "err=np.zeros([np.size(h),2])\n",
    "for n in range(0,np.size(h)):\n",
    "    err[n,0] = np.abs(forward_d(f,1,h[n])-3)\n",
    "    err[n,1] = np.abs(centered_d(f,1,h[n])-3)\n",
    "err"
   ]
  },
  {
   "cell_type": "code",
   "execution_count": 22,
   "metadata": {},
   "outputs": [
    {
     "data": {
      "text/plain": [
       "array([[3.10000000e-01, 1.00000000e-02],\n",
       "       [3.01000000e-02, 1.00000000e-04],\n",
       "       [3.00100000e-03, 9.99999862e-07],\n",
       "       [3.00009999e-04, 9.99944794e-09],\n",
       "       [3.00001110e-05, 9.73683356e-11],\n",
       "       [2.99979786e-06, 8.02677924e-11],\n",
       "       [3.01511817e-07, 8.62661054e-11],\n",
       "       [3.97204625e-09, 7.13018400e-09],\n",
       "       [2.48221112e-07, 8.16876580e-08]])"
      ]
     },
     "execution_count": 22,
     "metadata": {},
     "output_type": "execute_result"
    }
   ],
   "source": [
    "plt.loglog(h,err)\n",
    "plt.grid()"
   ]
  },
  {
   "cell_type": "markdown",
   "metadata": {},
   "source": [
    "E.g. Given $\\vec{x}$ and $\\vec{f}$, find $\\vec{f'}$."
   ]
  },
  {
   "cell_type": "code",
   "execution_count": 9,
   "metadata": {},
   "outputs": [],
   "source": [
    "def forward_diff(fVals, h):\n",
    "    n = np.size(fVals)\n",
    "    Dx = np.diag(-1*np.ones(n),0)/h + np.diag(np.ones(n-1),1)/h #I need to learn how to use such code!\n",
    "    Dx[-1,-2]=-1/h\n",
    "    Dx[-1,-1]=1/h\n",
    "    return Dx@fVals"
   ]
  },
  {
   "cell_type": "code",
   "execution_count": 10,
   "metadata": {},
   "outputs": [],
   "source": [
    "xvals = np.linspace(0,1,50)\n",
    "h = xvals[1] - xvals[0]\n",
    "fvals = xvals**3"
   ]
  },
  {
   "cell_type": "code",
   "execution_count": 11,
   "metadata": {},
   "outputs": [],
   "source": [
    "fprime=forward_diff(fvals,h)"
   ]
  },
  {
   "cell_type": "code",
   "execution_count": 12,
   "metadata": {},
   "outputs": [
    {
     "data": {
      "text/plain": [
       "[<matplotlib.lines.Line2D at 0x1f49d77c198>]"
      ]
     },
     "execution_count": 12,
     "metadata": {},
     "output_type": "execute_result"
    },
    {
     "data": {
      "image/png": "[encoded data removed]",
      "text/plain": [
       "<Figure size 432x288 with 1 Axes>"
      ]
     },
     "metadata": {
      "needs_background": "light"
     },
     "output_type": "display_data"
    }
   ],
   "source": [
    "plt.plot(xvals,3*xvals**2)\n",
    "plt.plot(xvals,fprime)"
   ]
  }
 ],
 "metadata": {
  "kernelspec": {
   "display_name": "Python 3",
   "language": "python",
   "name": "python3"
  },
  "language_info": {
   "codemirror_mode": {
    "name": "ipython",
    "version": 3
   },
   "file_extension": ".py",
   "mimetype": "text/x-python",
   "name": "python",
   "nbconvert_exporter": "python",
   "pygments_lexer": "ipython3",
   "version": "3.6.7"
  }
 },
 "nbformat": 4,
 "nbformat_minor": 2
}
