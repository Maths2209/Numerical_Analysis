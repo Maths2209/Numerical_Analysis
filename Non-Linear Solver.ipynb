{
 "cells": [
  {
   "cell_type": "code",
   "execution_count": 1,
   "metadata": {},
   "outputs": [],
   "source": [
    "import numpy as np\n",
    "from matplotlib import pyplot as plt"
   ]
  },
  {
   "cell_type": "code",
   "execution_count": 2,
   "metadata": {},
   "outputs": [],
   "source": [
    "def newton(x0, f, df, tol=1e-5, maxiter=100): #This part stays the same regardless of problem.\n",
    "    for n in range(0, maxiter):\n",
    "        if np.size(x0) == 1:\n",
    "            y = -f(x0)/df(x0)\n",
    "            x1 = x0 + y\n",
    "            if abs(x1-x0)<tol:\n",
    "                return x1\n",
    "            else:\n",
    "                x0 = x1\n",
    "        else:\n",
    "            y = np.linalg.solve(df(x0),-f(x0))\n",
    "            x1 = x0 + y\n",
    "            if np.linalg.norm(x1-x0,ord=np.inf)<tol:\n",
    "                return x1\n",
    "            else:\n",
    "                x0 = x1\n",
    "            \n",
    "#This part defers between questions.\n",
    "def F_ex1(X):\n",
    "    x = X[0]\n",
    "    y = X[1]\n",
    "    return np.array([x**3 + y - 1, y**3 - x + 1])\n",
    "\n",
    "def DF_ex1(X):\n",
    "    x = X[0]\n",
    "    y = X[1]\n",
    "    return np.array([[3*x**2,1],[-1,3*y**2]])"
   ]
  },
  {
   "cell_type": "code",
   "execution_count": 3,
   "metadata": {},
   "outputs": [
    {
     "data": {
      "text/plain": [
       "array([1.00000000e+00, 1.13386543e-16])"
      ]
     },
     "execution_count": 3,
     "metadata": {},
     "output_type": "execute_result"
    }
   ],
   "source": [
    "x0 = np.array([1,2])\n",
    "newton(x0,F_ex1,DF_ex1)"
   ]
  },
  {
   "cell_type": "code",
   "execution_count": 4,
   "metadata": {},
   "outputs": [],
   "source": [
    "def F_bvp1(U):\n",
    "    N = len(U)\n",
    "    h = 2/(N+2)\n",
    "    D2 = -2*np.diag(np.ones(N),0) + np.diag(np.ones(N-1),-1) + np.diag(np.ones(N-1),1)\n",
    "    D2 = D2/h**2\n",
    "    return np.matmul(D2,U) - np.exp(U)\n",
    "\n",
    "def DF_bvp1(U):\n",
    "    N = len(U)\n",
    "    h = 2/(N+2)\n",
    "    D2 = -2*np.diag(np.ones(N),0) + np.diag(np.ones(N-1),-1) + np.diag(np.ones(N-1),1)\n",
    "    D2 = D2/h**2\n",
    "    return D2 - np.diag(np.exp(U),0)"
   ]
  },
  {
   "cell_type": "code",
   "execution_count": 5,
   "metadata": {},
   "outputs": [],
   "source": [
    "U0 = np.zeros(10)\n",
    "x = np.linspace(-1,1,len(U0)+2)"
   ]
  },
  {
   "cell_type": "code",
   "execution_count": 6,
   "metadata": {},
   "outputs": [
    {
     "data": {
      "image/png": "[encoded data removed]",
      "text/plain": [
       "<Figure size 432x288 with 1 Axes>"
      ]
     },
     "metadata": {
      "needs_background": "light"
     },
     "output_type": "display_data"
    }
   ],
   "source": [
    "UInt = newton(U0,F_bvp1,DF_bvp1)\n",
    "U = np.hstack([0,UInt,0])\n",
    "plt.plot(x,U)\n",
    "plt.show()"
   ]
  },
  {
   "cell_type": "code",
   "execution_count": 7,
   "metadata": {},
   "outputs": [],
   "source": [
    "def F_eg3(u):\n",
    "    return (u**2-1)*(u**2-4) + (u**2)*np.exp(1/10*u)\n",
    "\n",
    "def DF_eg3(u):\n",
    "    return (4*u**3 - 10*u + 2*u*np.exp(1/10*u)) + 1/10*(u**2)*np.exp(1/10*u)"
   ]
  },
  {
   "cell_type": "code",
   "execution_count": 8,
   "metadata": {},
   "outputs": [
    {
     "data": {
      "text/plain": [
       "-1.6207847468130068"
      ]
     },
     "execution_count": 8,
     "metadata": {},
     "output_type": "execute_result"
    }
   ],
   "source": [
    "U0 = 0.75\n",
    "newton(U0,F_eg3,DF_eg3)"
   ]
  },
  {
   "cell_type": "code",
   "execution_count": null,
   "metadata": {},
   "outputs": [],
   "source": []
  }
 ],
 "metadata": {
  "kernelspec": {
   "display_name": "Python 3",
   "language": "python",
   "name": "python3"
  },
  "language_info": {
   "codemirror_mode": {
    "name": "ipython",
    "version": 3
   },
   "file_extension": ".py",
   "mimetype": "text/x-python",
   "name": "python",
   "nbconvert_exporter": "python",
   "pygments_lexer": "ipython3",
   "version": "3.6.7"
  }
 },
 "nbformat": 4,
 "nbformat_minor": 2
}
