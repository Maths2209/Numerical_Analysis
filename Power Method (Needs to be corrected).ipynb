{
 "cells": [
  {
   "cell_type": "code",
   "execution_count": 1,
   "metadata": {},
   "outputs": [],
   "source": [
    "import numpy as np\n",
    "import math\n",
    "import scipy as sc\n",
    "import time\n",
    "from scipy.integrate import quad\n",
    "from scipy import linalg as la\n",
    "from scipy import sparse\n",
    "from math import pi\n",
    "from math import factorial\n",
    "from matplotlib import pyplot as plt"
   ]
  },
  {
   "cell_type": "code",
   "execution_count": 2,
   "metadata": {},
   "outputs": [],
   "source": [
    "def pwrmtd (A,v0,tol=1e-8,maxiter=100,small=False):\n",
    "    if small == True:\n",
    "        A = np.linalg.inv(A)\n",
    "    print(\"iter\",\" v_{k+1} - v_k\")\n",
    "    for k in range(0,maxiter):\n",
    "        matm = A@v0\n",
    "        matn = np.linalg.norm(matm,ord=np.inf)\n",
    "        v1 = matm/matn\n",
    "        change = np.linalg.norm((v1 - v0),ord=np.inf)\n",
    "        print('{:>3d}  {:> 10.20f}'.format(k+1, change))\n",
    "        if (change < tol):\n",
    "            return v1, np.dot(v1,A@v1)/np.dot(v1,v1)\n",
    "        v0 = v1"
   ]
  },
  {
   "cell_type": "code",
   "execution_count": 3,
   "metadata": {},
   "outputs": [],
   "source": [
    "def pwrmtd_fixosc (A,v0,tol=1e-8,maxiter=100,small=False):\n",
    "    if small == True:\n",
    "        A = np.linalg.inv(A)\n",
    "    print(\"iter\",\" v_{k+1} - v_k\")\n",
    "    matm = A@v0\n",
    "    matn = np.linalg.norm(matm,ord=np.inf)\n",
    "    v1 = matm/matn\n",
    "    change = np.linalg.norm((v1 - v0),ord=np.inf)\n",
    "    print('{:>3d}  {:> 10.20f}'.format(1, change))\n",
    "    if (change < tol):\n",
    "        return v1, np.dot(v1,A@v1)/np.dot(v1,v1)\n",
    "    for k in range(1,maxiter):\n",
    "        matm = A@v1\n",
    "        matn = np.linalg.norm(matm,ord=np.inf)\n",
    "        v2 = matm/matn\n",
    "        change = np.linalg.norm((v2 - v0),ord=np.inf)\n",
    "        print('{:>3d}  {:> 10.20f}'.format(k+1, change))\n",
    "        if (change < tol):\n",
    "            return v2, np.dot(v2,A@v2)/np.dot(v2,v2)\n",
    "        v0 = v1\n",
    "        v1 = v2"
   ]
  },
  {
   "cell_type": "code",
   "execution_count": 4,
   "metadata": {},
   "outputs": [],
   "source": [
    "def pwrmtd_v2 (A,v0,tol=1e-8,maxiter=100,small=False): #Use lambda*I - A method instead to find the smallest eigenvalue.\n",
    "    print(\"iter\",\" v_{k+1} - v_k\")\n",
    "    for k in range(0,maxiter):\n",
    "        matm = A@v0\n",
    "        matn = np.linalg.norm(matm,ord=np.inf)\n",
    "        v1 = matm/matn\n",
    "        change = np.linalg.norm((v1 - v0),ord=np.inf)\n",
    "        print('{:>3d}  {:> 10.20f}'.format(k+1, change))\n",
    "        if (change < tol):\n",
    "            return v1, np.dot(v1,A@v1)/np.dot(v1,v1)\n",
    "        v0 = v1"
   ]
  },
  {
   "cell_type": "code",
   "execution_count": 12,
   "metadata": {},
   "outputs": [
    {
     "name": "stdout",
     "output_type": "stream",
     "text": [
      "iter  v_{k+1} - v_k\n",
      "  1   0.74861015293093990941\n",
      "  2   0.74861015293093990941\n",
      "  3   0.16691677054997808294\n",
      "  4   0.08345838527498904147\n",
      "  5   0.04172919263749452073\n",
      "  6   0.02086459631874726037\n",
      "  7   0.01043229815937363018\n",
      "  8   0.00521614907968681509\n",
      "  9   0.00260807453984340755\n",
      " 10   0.00130403726992170377\n",
      " 11   0.00065201863496085189\n",
      " 12   0.00032600931748042594\n",
      " 13   0.00016300465874021297\n",
      " 14   0.00008150232937010649\n",
      " 15   0.00004075116468505324\n",
      " 16   0.00002037558234252662\n",
      " 17   0.00001018779117126331\n",
      " 18   0.00000509389558563166\n",
      " 19   0.00000254694779281583\n",
      " 20   0.00000127347389640791\n",
      " 21   0.00000063673694820396\n",
      " 22   0.00000031836847410198\n",
      " 23   0.00000015918423705099\n",
      " 24   0.00000007959211852549\n",
      " 25   0.00000003979605926275\n",
      " 26   0.00000001989802963137\n",
      " 27   0.00000000994901481569\n",
      "2.0\n",
      "q =  4\n"
     ]
    }
   ],
   "source": [
    "A = np.diag([4,3,2])\n",
    "q = 4\n",
    "C = np.diag([q,q,q])\n",
    "#A[0,1], A[0,2], A[1,2] = 3,2,1\n",
    "v1 = np.random.random(3)\n",
    "\n",
    "e1,lamb = pwrmtd_fixosc(C-A,v1)\n",
    "\n",
    "print(lamb)\n",
    "print(\"q = \",q) #Need to remove the first basis vector; try projection?"
   ]
  },
  {
   "cell_type": "code",
   "execution_count": null,
   "metadata": {},
   "outputs": [],
   "source": [
    "\n",
    "Iu1 = np.diag([u1,u1,u1])\n",
    "e2,u2 = pwrmtd_fixosc(Iu1-A,v1)"
   ]
  },
  {
   "cell_type": "code",
   "execution_count": 6,
   "metadata": {},
   "outputs": [
    {
     "name": "stdout",
     "output_type": "stream",
     "text": [
      "iter  v_{k+1} - v_k\n",
      "  1   2.00000000000000000000\n",
      "  2   1.00000000000000000000\n",
      "  3   0.37500000000000000000\n",
      "  4   0.18750000000000000000\n",
      "  5   0.09375000000000000000\n",
      "  6   0.04687500000000000000\n",
      "  7   0.02343750000000000000\n",
      "  8   0.01171875000000000000\n",
      "  9   0.00585937500000000000\n",
      " 10   0.00292968750000000000\n",
      " 11   0.00146484375000000000\n",
      " 12   0.00073242187500000000\n",
      " 13   0.00036621093750000000\n",
      " 14   0.00018310546875000000\n",
      " 15   0.00009155273437500000\n",
      " 16   0.00004577636718750000\n",
      " 17   0.00002288818359375000\n",
      " 18   0.00001144409179687500\n",
      " 19   0.00000572204589843750\n",
      " 20   0.00000286102294921875\n",
      " 21   0.00000143051147460938\n",
      " 22   0.00000071525573730469\n",
      " 23   0.00000035762786865234\n",
      " 24   0.00000017881393432617\n",
      " 25   0.00000008940696716309\n",
      " 26   0.00000004470348358154\n",
      " 27   0.00000002235174179077\n",
      " 28   0.00000001117587089539\n",
      " 29   0.00000000558793544769\n"
     ]
    },
    {
     "data": {
      "text/plain": [
       "(array([ 0.00000000e+00, -1.86264515e-09, -1.00000000e+00]), -2.0)"
      ]
     },
     "execution_count": 6,
     "metadata": {},
     "output_type": "execute_result"
    }
   ],
   "source": [
    "A = np.diag([0,-1,-2])\n",
    "pwrmtd_fixosc(A,np.ones(3))"
   ]
  },
  {
   "cell_type": "code",
   "execution_count": 7,
   "metadata": {},
   "outputs": [
    {
     "data": {
      "text/plain": [
       "array([[ 0,  0,  0],\n",
       "       [ 0, -1,  0],\n",
       "       [ 0,  0, -2]])"
      ]
     },
     "execution_count": 7,
     "metadata": {},
     "output_type": "execute_result"
    }
   ],
   "source": [
    "A = np.diag([0,-1,-2])\n",
    "A"
   ]
  },
  {
   "cell_type": "code",
   "execution_count": 8,
   "metadata": {},
   "outputs": [
    {
     "data": {
      "text/plain": [
       "(array([ 0., -1., -2.]), array([[1., 0., 0.],\n",
       "        [0., 1., 0.],\n",
       "        [0., 0., 1.]]))"
      ]
     },
     "execution_count": 8,
     "metadata": {},
     "output_type": "execute_result"
    }
   ],
   "source": [
    "np.linalg.eig(A)"
   ]
  },
  {
   "cell_type": "code",
   "execution_count": null,
   "metadata": {},
   "outputs": [],
   "source": []
  }
 ],
 "metadata": {
  "kernelspec": {
   "display_name": "Python 3",
   "language": "python",
   "name": "python3"
  },
  "language_info": {
   "codemirror_mode": {
    "name": "ipython",
    "version": 3
   },
   "file_extension": ".py",
   "mimetype": "text/x-python",
   "name": "python",
   "nbconvert_exporter": "python",
   "pygments_lexer": "ipython3",
   "version": "3.6.7"
  }
 },
 "nbformat": 4,
 "nbformat_minor": 2
}
