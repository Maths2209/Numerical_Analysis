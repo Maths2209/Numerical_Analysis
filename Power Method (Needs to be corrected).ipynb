{
 "cells": [
  {
   "cell_type": "code",
   "execution_count": 1,
   "metadata": {},
   "outputs": [],
   "source": [
    "import numpy as np\n",
    "import math\n",
    "import scipy as sc\n",
    "import time\n",
    "from scipy.integrate import quad\n",
    "from scipy import linalg as la\n",
    "from scipy import sparse\n",
    "from math import pi\n",
    "from math import factorial\n",
    "from matplotlib import pyplot as plt"
   ]
  },
  {
   "cell_type": "code",
   "execution_count": 61,
   "metadata": {},
   "outputs": [],
   "source": [
    "def pwrmtd (A,v0,tol=1e-8,maxiter=100,small=False):\n",
    "    if small == True:\n",
    "        A = np.linalg.inv(A)\n",
    "    print(\"iter\",\" v_{k+1} - v_k\")\n",
    "    for k in range(0,maxiter):\n",
    "        matm = A@v0\n",
    "        matn = np.linalg.norm(matm,ord=np.inf)\n",
    "        v1 = matm/matn\n",
    "        change = np.linalg.norm((v1 - v0),ord=np.inf)\n",
    "        print('{:>3d}  {:> 10.20f}'.format(k+1, change))\n",
    "        if (change < tol):\n",
    "            return v1, np.dot(v1,A@v1)/np.dot(v1,v1)\n",
    "        v0 = v1"
   ]
  },
  {
   "cell_type": "code",
   "execution_count": 141,
   "metadata": {},
   "outputs": [],
   "source": [
    "def pwrmtd_fixosc (A,v0,tol=1e-8,maxiter=100,small=False):\n",
    "    if small == True:\n",
    "        A = np.linalg.inv(A)\n",
    "    print(\"iter\",\" v_{k+1} - v_k\")\n",
    "    matm = A@v0\n",
    "    matn = np.linalg.norm(matm,ord=np.inf)\n",
    "    v1 = matm/matn\n",
    "    change = np.linalg.norm((v1 - v0),ord=np.inf)\n",
    "    print('{:>3d}  {:> 10.20f}'.format(1, change))\n",
    "    if (change < tol):\n",
    "        return v1, np.dot(v1,A@v1)/np.dot(v1,v1)\n",
    "    for k in range(1,maxiter):\n",
    "        matm = A@v1\n",
    "        matn = np.linalg.norm(matm,ord=np.inf)\n",
    "        v2 = matm/matn\n",
    "        change = np.linalg.norm((v2 - v0),ord=np.inf)\n",
    "        print('{:>3d}  {:> 10.20f}'.format(k+1, change))\n",
    "        if (change < tol):\n",
    "            return v2, np.dot(v2,A@v2)/np.dot(v2,v2)\n",
    "        v0 = v1\n",
    "        v1 = v2"
   ]
  },
  {
   "cell_type": "code",
   "execution_count": null,
   "metadata": {},
   "outputs": [],
   "source": [
    "def pwrmtd_v2 (A,v0,tol=1e-8,maxiter=100,small=False): #Use lambda*I - A method instead to find the smallest eigenvalue.\n",
    "    print(\"iter\",\" v_{k+1} - v_k\")\n",
    "    for k in range(0,maxiter):\n",
    "        matm = A@v0\n",
    "        matn = np.linalg.norm(matm,ord=np.inf)\n",
    "        v1 = matm/matn\n",
    "        change = np.linalg.norm((v1 - v0),ord=np.inf)\n",
    "        print('{:>3d}  {:> 10.20f}'.format(k+1, change))\n",
    "        if (change < tol):\n",
    "            return v1, np.dot(v1,A@v1)/np.dot(v1,v1)\n",
    "        v0 = v1"
   ]
  },
  {
   "cell_type": "code",
   "execution_count": 155,
   "metadata": {},
   "outputs": [
    {
     "name": "stdout",
     "output_type": "stream",
     "text": [
      "iter  v_{k+1} - v_k\n",
      "  1   1.88938927420857583073\n",
      "  2   0.64418409524892339402\n",
      "  3   0.36276865926116230732\n",
      "  4   0.23163225171858792262\n",
      "  5   0.14790004226246394881\n",
      "  6   0.09443599645102118689\n",
      "  7   0.06029854548568073375\n",
      "  8   0.03850136308536183938\n",
      "  9   0.02458359397380294534\n",
      " 10   0.01569692717966586840\n",
      " 11   0.01002268110782734804\n",
      " 12   0.00639960518637875016\n",
      " 13   0.00408622663945094368\n",
      " 14   0.00260910597805280716\n",
      " 15   0.00166594626421054186\n",
      " 16   0.00106372718417070298\n",
      " 17   0.00067920289306566261\n",
      " 18   0.00043367940277695813\n",
      " 19   0.00027690963379744686\n",
      " 20   0.00017681020772220582\n",
      " 21   0.00011289549274994496\n",
      " 22   0.00007208516096128176\n",
      " 23   0.00004602726206548607\n",
      " 24   0.00002938897305622753\n",
      " 25   0.00001876522083957127\n",
      " 26   0.00001198182435582800\n",
      " 27   0.00000765054225160897\n",
      " 28   0.00000488496534462921\n",
      " 29   0.00000311911046739332\n",
      " 30   0.00000199159040473010\n",
      " 31   0.00000127165497396691\n",
      " 32   0.00000081196734477838\n",
      " 33   0.00000051845113846392\n",
      " 34   0.00000033103742989553\n",
      " 35   0.00000021137147141102\n",
      " 36   0.00000013496328478795\n",
      " 37   0.00000008617571765554\n",
      " 38   0.00000005502425585681\n",
      " 39   0.00000003513366427301\n",
      " 40   0.00000002243327685268\n",
      " 41   0.00000001432392324463\n",
      " 42   0.00000000914600120461\n",
      "iter  v_{k+1} - v_k\n",
      "  1   1.88938927420857583073\n",
      "  2   0.81870866749580739619\n",
      "  3   0.30240312588137463479\n",
      "  4   0.18785280281940269775\n",
      "  5   0.11669414932221390535\n",
      "  6   0.07249039823550956774\n",
      "  7   0.04503103083457205003\n",
      "  8   0.02797327352839482431\n",
      "  9   0.01737699576030216769\n",
      " 10   0.01079458867576041717\n",
      " 11   0.00670559780793943388\n",
      " 12   0.00416551693746446648\n",
      " 13   0.00258761886013490414\n",
      " 14   0.00160742867352294374\n",
      " 15   0.00099853459111401855\n",
      " 16   0.00062028962533435135\n",
      " 17   0.00038532387632978448\n",
      " 18   0.00023936316779404407\n",
      " 19   0.00014869238481179207\n",
      " 20   0.00009236770011350172\n",
      " 21   0.00005737880951372816\n",
      " 22   0.00003564371286896912\n",
      " 23   0.00002214187219728823\n",
      " 24   0.00001375452961938375\n",
      " 25   0.00000854431293635933\n",
      " 26   0.00000530772665984548\n",
      " 27   0.00000329715946799560\n",
      " 28   0.00000204819525459691\n",
      " 29   0.00000127233876361570\n",
      " 30   0.00000079037676010909\n",
      " 31   0.00000049098199377758\n",
      " 32   0.00000030499798372176\n",
      " 33   0.00000018946472834700\n",
      " 34   0.00000011769547735880\n",
      " 35   0.00000007311242314900\n",
      " 36   0.00000004541743267179\n",
      " 37   0.00000002821330632543\n",
      " 38   0.00000001752610411875\n",
      " 39   0.00000001088721477867\n",
      " 40   0.00000000676313713726\n",
      "4.0\n",
      "q =  1.2336541311505211\n"
     ]
    }
   ],
   "source": [
    "A = np.diag([4,3,2])\n",
    "q = 4*np.random.random(1)[0]\n",
    "C = np.diag([q,q,q])\n",
    "#A[0,1], A[0,2], A[1,2] = 3,2,1\n",
    "v1 = np.random.random(3)\n",
    "\n",
    "e1,u1 = pwrmtd_fixosc(C-A,v1)\n",
    "u1 = np.abs(u1)\n",
    "Iu1 = np.diag([u1,u1,u1])\n",
    "e2,u2 = pwrmtd_fixosc(Iu1-A,v1)\n",
    "\n",
    "print(-(u2-u1))\n",
    "print(\"q = \",q) #Need to remove the first basis vector; try projection?"
   ]
  },
  {
   "cell_type": "code",
   "execution_count": 153,
   "metadata": {},
   "outputs": [
    {
     "name": "stdout",
     "output_type": "stream",
     "text": [
      "iter  v_{k+1} - v_k\n",
      "  1   2.00000000000000000000\n",
      "  2   1.00000000000000000000\n",
      "  3   0.37500000000000000000\n",
      "  4   0.18750000000000000000\n",
      "  5   0.09375000000000000000\n",
      "  6   0.04687500000000000000\n",
      "  7   0.02343750000000000000\n",
      "  8   0.01171875000000000000\n",
      "  9   0.00585937500000000000\n",
      " 10   0.00292968750000000000\n",
      " 11   0.00146484375000000000\n",
      " 12   0.00073242187500000000\n",
      " 13   0.00036621093750000000\n",
      " 14   0.00018310546875000000\n",
      " 15   0.00009155273437500000\n",
      " 16   0.00004577636718750000\n",
      " 17   0.00002288818359375000\n",
      " 18   0.00001144409179687500\n",
      " 19   0.00000572204589843750\n",
      " 20   0.00000286102294921875\n",
      " 21   0.00000143051147460938\n",
      " 22   0.00000071525573730469\n",
      " 23   0.00000035762786865234\n",
      " 24   0.00000017881393432617\n",
      " 25   0.00000008940696716309\n",
      " 26   0.00000004470348358154\n",
      " 27   0.00000002235174179077\n",
      " 28   0.00000001117587089539\n",
      " 29   0.00000000558793544769\n"
     ]
    },
    {
     "data": {
      "text/plain": [
       "(array([ 0.00000000e+00, -1.86264515e-09, -1.00000000e+00]), -2.0)"
      ]
     },
     "execution_count": 153,
     "metadata": {},
     "output_type": "execute_result"
    }
   ],
   "source": [
    "A = np.diag([0,-1,-2])\n",
    "pwrmtd_fixosc(A,np.ones(3))"
   ]
  },
  {
   "cell_type": "code",
   "execution_count": 86,
   "metadata": {},
   "outputs": [
    {
     "data": {
      "text/plain": [
       "array([[ 0,  0,  0],\n",
       "       [ 0, -1,  0],\n",
       "       [ 0,  0, -2]])"
      ]
     },
     "execution_count": 86,
     "metadata": {},
     "output_type": "execute_result"
    }
   ],
   "source": [
    "A = np.diag([0,-1,-2])\n",
    "A"
   ]
  },
  {
   "cell_type": "code",
   "execution_count": 87,
   "metadata": {},
   "outputs": [
    {
     "data": {
      "text/plain": [
       "(array([ 0., -1., -2.]), array([[1., 0., 0.],\n",
       "        [0., 1., 0.],\n",
       "        [0., 0., 1.]]))"
      ]
     },
     "execution_count": 87,
     "metadata": {},
     "output_type": "execute_result"
    }
   ],
   "source": [
    "np.linalg.eig(A)"
   ]
  },
  {
   "cell_type": "code",
   "execution_count": null,
   "metadata": {},
   "outputs": [],
   "source": []
  }
 ],
 "metadata": {
  "kernelspec": {
   "display_name": "Python 3",
   "language": "python",
   "name": "python3"
  },
  "language_info": {
   "codemirror_mode": {
    "name": "ipython",
    "version": 3
   },
   "file_extension": ".py",
   "mimetype": "text/x-python",
   "name": "python",
   "nbconvert_exporter": "python",
   "pygments_lexer": "ipython3",
   "version": "3.6.7"
  }
 },
 "nbformat": 4,
 "nbformat_minor": 2
}
