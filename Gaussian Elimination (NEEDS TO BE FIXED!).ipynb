{
 "cells": [
  {
   "cell_type": "markdown",
   "metadata": {},
   "source": [
    "# Gaussian Elimination\n",
    "\n",
    "## by Dion Ho\n",
    "\n",
    "### Last updated: February 14, 2019\n",
    "\n",
    "\n",
    "# Import Python Libraries"
   ]
  },
  {
   "cell_type": "code",
   "execution_count": 1,
   "metadata": {},
   "outputs": [],
   "source": [
    "import numpy as np\n",
    "import math\n",
    "import scipy.sparse as sp\n",
    "from math import pi\n",
    "from math import factorial\n",
    "from scipy.sparse.linalg import spsolve\n",
    "from matplotlib import pyplot as plt\n",
    "%matplotlib inline"
   ]
  },
  {
   "cell_type": "code",
   "execution_count": 2,
   "metadata": {},
   "outputs": [
    {
     "name": "stdout",
     "output_type": "stream",
     "text": [
      "[[1 2 1]\n",
      " [5 8 5]\n",
      " [5 4 5]]\n"
     ]
    }
   ],
   "source": [
    "A = np.array([[1,2,1],[5,8,5],[5,4,5]])\n",
    "print(A)"
   ]
  },
  {
   "cell_type": "code",
   "execution_count": 3,
   "metadata": {},
   "outputs": [
    {
     "data": {
      "text/plain": [
       "(3, 3)"
      ]
     },
     "execution_count": 3,
     "metadata": {},
     "output_type": "execute_result"
    }
   ],
   "source": [
    "nn=np.shape(A)\n",
    "nn"
   ]
  },
  {
   "cell_type": "code",
   "execution_count": 4,
   "metadata": {},
   "outputs": [],
   "source": [
    "def LU(A):\n",
    "    nn = np.shape(A)\n",
    "    m = nn[1]\n",
    "    U = A.copy()\n",
    "    L = np.eye(m)\n",
    "    for k in range (1,m):\n",
    "        for j in range (k+1,m+1):\n",
    "            L[j-1,k-1] = U[j-1,k-1]/U[k-1,k-1]\n",
    "            U[j-1,(k-1):]=U[j-1,(k-1):]-L[j-1,k-1]*U[k-1,(k-1):]\n",
    "    return L, U"
   ]
  },
  {
   "cell_type": "code",
   "execution_count": 5,
   "metadata": {},
   "outputs": [],
   "source": [
    "def LU_pivot(A):\n",
    "    nn = np.shape(A)\n",
    "    m = nn[1]\n",
    "    P = np.eye(m)\n",
    "    U = A.copy()\n",
    "    L = np.eye(m)\n",
    "    for k in range (1,m):\n",
    "        maxVal = abs(U[k-1,k-1])\n",
    "        maxIndex = k-1\n",
    "        for ii in range(k,m):\n",
    "            if abs(U[ii,k-1]) > maxVal:\n",
    "                maxVal = abs(U[ii,k-1])\n",
    "                maxIndex = ii\n",
    "        if maxIndex != k-1:\n",
    "            P[k-1],P[maxIndex] = P[maxIndex],P[k-1]\n",
    "            U[(k-1),(k-1):],U[maxIndex,(k-1):] = np.copy(U[maxIndex,(k-1):]),np.copy(U[(k-1),(k-1):])\n",
    "            #L[(k-1):,(k-1)],L[(k-1):,maxIndex] = np.copy(L[(k-1):,maxIndex]),np.copy(L[(k-1):,(k-1)])\n",
    "            print(L)\n",
    "        for j in range (k+1,m+1):\n",
    "            L[j-1,k-1] = U[j-1,k-1]/U[k-1,k-1]\n",
    "            U[j-1,(k-1):]=U[j-1,(k-1):]-L[j-1,k-1]*U[k-1,(k-1):]\n",
    "        print(L)\n",
    "    return L, U, P"
   ]
  },
  {
   "cell_type": "code",
   "execution_count": null,
   "metadata": {},
   "outputs": [],
   "source": []
  },
  {
   "cell_type": "code",
   "execution_count": 8,
   "metadata": {},
   "outputs": [
    {
     "name": "stdout",
     "output_type": "stream",
     "text": [
      "[[1. 0. 0.]\n",
      " [0. 1. 0.]\n",
      " [0. 0. 1.]]\n",
      "[[1.  0.  0. ]\n",
      " [0.2 1.  0. ]\n",
      " [1.  0.  1. ]]\n",
      "[[1.  0.  0. ]\n",
      " [0.2 1.  0. ]\n",
      " [1.  0.  1. ]]\n",
      "[[ 1.   0.   0. ]\n",
      " [ 0.2  1.   0. ]\n",
      " [ 1.  -0.   1. ]]\n",
      "L\n",
      "[[ 1.   0.   0. ]\n",
      " [ 0.2  1.   0. ]\n",
      " [ 1.  -0.   1. ]]\n",
      "U\n",
      "[[ 5  8  5]\n",
      " [ 0 -4  0]\n",
      " [ 0  0  0]]\n",
      "P\n",
      "[1 2 0]\n"
     ]
    }
   ],
   "source": [
    "L,U,P = LU_pivot(A);\n",
    "\n",
    "print(\"L\")\n",
    "print(L)\n",
    "print(\"U\")\n",
    "print(U)\n",
    "print(\"P\")\n",
    "print(P)"
   ]
  },
  {
   "cell_type": "code",
   "execution_count": 7,
   "metadata": {},
   "outputs": [
    {
     "data": {
      "text/plain": [
       "array([[ 5. ,  8. ,  5. ],\n",
       "       [ 1. , -2.4,  1. ],\n",
       "       [ 5. ,  8. ,  5. ]])"
      ]
     },
     "execution_count": 7,
     "metadata": {},
     "output_type": "execute_result"
    }
   ],
   "source": [
    "np.dot(L,U)"
   ]
  }
 ],
 "metadata": {
  "kernelspec": {
   "display_name": "Python 3",
   "language": "python",
   "name": "python3"
  },
  "language_info": {
   "codemirror_mode": {
    "name": "ipython",
    "version": 3
   },
   "file_extension": ".py",
   "mimetype": "text/x-python",
   "name": "python",
   "nbconvert_exporter": "python",
   "pygments_lexer": "ipython3",
   "version": "3.6.7"
  }
 },
 "nbformat": 4,
 "nbformat_minor": 2
}
