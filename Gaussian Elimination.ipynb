{
 "cells": [
  {
   "cell_type": "markdown",
   "metadata": {},
   "source": [
    "# Gaussian Elimination\n",
    "\n",
    "## by Dion Ho\n",
    "\n",
    "### Last updated: February 14, 2019\n",
    "\n",
    "\n",
    "# Import Python Libraries"
   ]
  },
  {
   "cell_type": "code",
   "execution_count": 1,
   "metadata": {},
   "outputs": [],
   "source": [
    "import numpy as np\n",
    "import math\n",
    "import scipy.sparse as sp\n",
    "from math import pi\n",
    "from math import factorial\n",
    "from scipy.sparse.linalg import spsolve\n",
    "from matplotlib import pyplot as plt\n",
    "%matplotlib inline"
   ]
  },
  {
   "cell_type": "code",
   "execution_count": 2,
   "metadata": {},
   "outputs": [],
   "source": [
    "def LU_orig(A):\n",
    "    m = A.shape[1]\n",
    "    U = A.copy()\n",
    "    L = np.eye(m)\n",
    "    for k in range(1,m):\n",
    "        for j in range(k+1,m+1):\n",
    "            L[j-1,k-1] = U[j-1,k-1]/U[k-1,k-1]\n",
    "            U[j-1,(k-1):] = U[j-1,(k-1):] - L[j-1,k-1]*U[k-1,(k-1):]\n",
    "    return L, U"
   ]
  },
  {
   "cell_type": "code",
   "execution_count": 3,
   "metadata": {},
   "outputs": [],
   "source": [
    "def LU_modified(B):\n",
    "    A = B*(1.0)\n",
    "    m = A.shape[1]\n",
    "    U = A.copy()\n",
    "    L = np.eye(m)\n",
    "    for k in range(1,m):\n",
    "        L[k:, k-1] = U[k:,k-1]/U[k-1,k-1]\n",
    "        U[k:, (k-1):] = U[k:, (k-1):] - np.outer(L[k:,k-1], U[k-1, (k-1):])\n",
    "    return L, U"
   ]
  },
  {
   "cell_type": "code",
   "execution_count": 4,
   "metadata": {},
   "outputs": [],
   "source": [
    "def LU_modified_pivot(B):\n",
    "    A = B*(1.0)\n",
    "    m = A.shape[1]\n",
    "    U = A.copy()\n",
    "    L = np.eye(m)\n",
    "    P = np.eye(m)\n",
    "    \"\"\"again = False\"\"\"\n",
    "    for k in range(1,m):\n",
    "        maxVal = abs(U[k-1,k-1])\n",
    "        maxIndex = k-1\n",
    "        for ii in range(k,m):\n",
    "            if abs(U[ii,k-1]) > maxVal:\n",
    "                maxVal = abs(U[ii,k-1])\n",
    "                maxIndex = ii\n",
    "        if maxIndex != k-1:\n",
    "            \"\"\"again = True\"\"\"\n",
    "            P[k-1],P[maxIndex] = np.copy(P[maxIndex]),np.copy(P[k-1])\n",
    "            U[(k-1),(k-1):],U[maxIndex,(k-1):] = np.copy(U[maxIndex,(k-1):]),np.copy(U[(k-1),(k-1):])\n",
    "            L[(k-1),:(k-1)],L[maxIndex,:(k-1)] = np.copy(L[maxIndex,:(k-1)]),np.copy(L[(k-1),:(k-1)]) #OMG it works now!\n",
    "        L[k:, k-1] = U[k:,k-1]/U[k-1,k-1]\n",
    "        U[k:, (k-1):] = U[k:, (k-1):] - np.outer(L[k:,k-1], U[k-1, (k-1):])\n",
    "    \n",
    "    \"\"\"if again == True: #Extremely crude, but I couldn't modify L correctly, so I just repeat the Gaussian Elimination after we know exactly how to permute A.\n",
    "        U = (P@A).copy()\n",
    "        L = np.eye(m)\n",
    "        for k in range(1,m):\n",
    "            L[k:, k-1] = U[k:,k-1]/U[k-1,k-1]\n",
    "            U[k:, (k-1):] = U[k:, (k-1):] - np.outer(L[k:,k-1], U[k-1, (k-1):])\"\"\"\n",
    "    return L, U, P"
   ]
  },
  {
   "cell_type": "code",
   "execution_count": 5,
   "metadata": {},
   "outputs": [
    {
     "name": "stdout",
     "output_type": "stream",
     "text": [
      "Original matrix\n",
      "[[2 1 1 0]\n",
      " [4 3 3 1]\n",
      " [8 7 9 5]\n",
      " [6 7 9 8]]\n",
      "\n",
      "Matrix L\n",
      "[[1. 0. 0. 0.]\n",
      " [2. 1. 0. 0.]\n",
      " [4. 3. 1. 0.]\n",
      " [3. 4. 1. 1.]]\n",
      "Matrix U\n",
      "[[2. 1. 1. 0.]\n",
      " [0. 1. 1. 1.]\n",
      " [0. 0. 2. 2.]\n",
      " [0. 0. 0. 2.]]\n",
      "LU_modified: Matrix formed by multiplication of L with U.\n",
      "[[2. 1. 1. 0.]\n",
      " [4. 3. 3. 1.]\n",
      " [8. 7. 9. 5.]\n",
      " [6. 7. 9. 8.]]\n",
      "LU_modified_pivot: Matrix formed by multiplication of L with U.\n",
      "[[0. 0. 1. 0.]\n",
      " [0. 0. 0. 1.]\n",
      " [0. 1. 0. 0.]\n",
      " [1. 0. 0. 0.]]\n",
      "[[2.00000000e+00 1.00000000e+00 1.00000000e+00 1.11022302e-16]\n",
      " [4.00000000e+00 3.00000000e+00 3.00000000e+00 1.00000000e+00]\n",
      " [8.00000000e+00 7.00000000e+00 9.00000000e+00 5.00000000e+00]\n",
      " [6.00000000e+00 7.00000000e+00 9.00000000e+00 8.00000000e+00]]\n"
     ]
    }
   ],
   "source": [
    "D = np.array([[2,1,1,0],[4,3,3,1], [8,7,9,5], [6,7,9,8]])\n",
    "print(\"Original matrix\")\n",
    "print(D)\n",
    "print()\n",
    "L1,U1 = LU_modified(D)\n",
    "print(\"Matrix L\")\n",
    "print(L1)\n",
    "print(\"Matrix U\")\n",
    "print(U1)\n",
    "print(\"LU_modified: Matrix formed by multiplication of L with U.\")\n",
    "print(L1@U1) #LU_modified works as intended.\n",
    "L1p,U1p,P1 = LU_modified_pivot(D)\n",
    "print(\"LU_modified_pivot: Matrix formed by multiplication of L with U.\")\n",
    "print(P1)\n",
    "print(np.matrix.transpose(P1)@L1p@U1p) #Since this actually solves PA = LU, we need to multiply P inverse with LU; the inverse of a permutation matrix is just its transpose."
   ]
  },
  {
   "cell_type": "code",
   "execution_count": 7,
   "metadata": {},
   "outputs": [
    {
     "name": "stdout",
     "output_type": "stream",
     "text": [
      "Original matrix\n",
      "[[8 0 5 8 3]\n",
      " [3 2 2 7 0]\n",
      " [3 6 5 3 6]\n",
      " [2 3 6 1 6]\n",
      " [0 2 4 8 0]]\n",
      "\n",
      "Matrix L\n",
      "[[1.         0.         0.         0.         0.        ]\n",
      " [0.375      1.         0.         0.         0.        ]\n",
      " [0.375      3.         1.         0.         0.        ]\n",
      " [0.25       1.5        1.65909091 1.         0.        ]\n",
      " [0.         1.         1.40909091 1.61971831 1.        ]]\n",
      "Matrix U\n",
      "[[  8.           0.           5.           8.           3.        ]\n",
      " [  0.           2.           0.125        4.          -1.125     ]\n",
      " [  0.           0.           2.75       -12.           8.25      ]\n",
      " [  0.           0.           0.          12.90909091  -6.75      ]\n",
      " [  0.           0.           0.           0.           0.43309859]]\n",
      "LU_modified: Matrix formed by multiplication of L with U.\n",
      "[[ 8.00000000e+00  0.00000000e+00  5.00000000e+00  8.00000000e+00\n",
      "   3.00000000e+00]\n",
      " [ 3.00000000e+00  2.00000000e+00  2.00000000e+00  7.00000000e+00\n",
      "   0.00000000e+00]\n",
      " [ 3.00000000e+00  6.00000000e+00  5.00000000e+00  3.00000000e+00\n",
      "   6.00000000e+00]\n",
      " [ 2.00000000e+00  3.00000000e+00  6.00000000e+00  1.00000000e+00\n",
      "   6.00000000e+00]\n",
      " [ 0.00000000e+00  2.00000000e+00  4.00000000e+00  8.00000000e+00\n",
      "  -2.22044605e-16]]\n",
      "LU_modified_pivot: Matrix formed by multiplication of L with U.\n",
      "[[ 8.00000000e+00  0.00000000e+00  5.00000000e+00  8.00000000e+00\n",
      "   3.00000000e+00]\n",
      " [ 3.00000000e+00  2.00000000e+00  2.00000000e+00  7.00000000e+00\n",
      "  -2.77555756e-16]\n",
      " [ 3.00000000e+00  6.00000000e+00  5.00000000e+00  3.00000000e+00\n",
      "   6.00000000e+00]\n",
      " [ 2.00000000e+00  3.00000000e+00  6.00000000e+00  1.00000000e+00\n",
      "   6.00000000e+00]\n",
      " [ 0.00000000e+00  2.00000000e+00  4.00000000e+00  8.00000000e+00\n",
      "   0.00000000e+00]]\n"
     ]
    }
   ],
   "source": [
    "D = np.random.randint(0,9,(5,5)) #With a random array, just to make sure it works.\n",
    "print(\"Original matrix\")\n",
    "print(D)\n",
    "print()\n",
    "L2,U2 = LU_modified(D)\n",
    "print(\"Matrix L\")\n",
    "print(L2)\n",
    "print(\"Matrix U\")\n",
    "print(U2)\n",
    "print(\"LU_modified: Matrix formed by multiplication of L with U.\")\n",
    "print(L2@U2) #LU_modified works as intended.\n",
    "L2p,U2p,P2 = LU_modified_pivot(D)\n",
    "print(\"LU_modified_pivot: Matrix formed by multiplication of L with U.\")\n",
    "print(np.matrix.transpose(P2)@L2p@U2p) #Since this actually solves PA = LU, we need to multiply P^-1 with LU; the inverse of a permutation matrix is just its transpose."
   ]
  }
 ],
 "metadata": {
  "kernelspec": {
   "display_name": "Python 3",
   "language": "python",
   "name": "python3"
  },
  "language_info": {
   "codemirror_mode": {
    "name": "ipython",
    "version": 3
   },
   "file_extension": ".py",
   "mimetype": "text/x-python",
   "name": "python",
   "nbconvert_exporter": "python",
   "pygments_lexer": "ipython3",
   "version": "3.6.7"
  }
 },
 "nbformat": 4,
 "nbformat_minor": 2
}
