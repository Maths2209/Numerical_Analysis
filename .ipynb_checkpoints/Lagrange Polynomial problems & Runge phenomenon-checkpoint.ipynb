{
 "cells": [
  {
   "cell_type": "markdown",
   "metadata": {},
   "source": [
    "# Interpolation and Lagrange Polynomial"
   ]
  },
  {
   "cell_type": "code",
   "execution_count": 1,
   "metadata": {},
   "outputs": [],
   "source": [
    "import numpy as np\n",
    "from math import factorial, pi\n",
    "from matplotlib import pyplot as plt\n",
    "%matplotlib inline"
   ]
  },
  {
   "cell_type": "code",
   "execution_count": 2,
   "metadata": {},
   "outputs": [
    {
     "name": "stdout",
     "output_type": "stream",
     "text": [
      "3.141592653589793\n",
      "3.141592653589793\n"
     ]
    }
   ],
   "source": [
    "x = np.linspace(-pi,pi,10)\n",
    "x #10 elements, the last element is x[9]. Also, there is backwards index, where the last element is x[-1].\n",
    "print(x[9])\n",
    "print(x[-1])"
   ]
  },
  {
   "cell_type": "code",
   "execution_count": 3,
   "metadata": {},
   "outputs": [
    {
     "name": "stdout",
     "output_type": "stream",
     "text": [
      "[[-3.14159265 -2.44346095 -1.74532925 -1.04719755 -0.34906585  0.34906585\n",
      "   1.04719755  1.74532925  2.44346095  3.14159265]\n",
      " [ 2.02612013 -0.0120131  -0.8592331  -0.85580078 -0.34197708  0.34197708\n",
      "   0.85580078  0.8592331   0.0120131  -2.02612013]\n",
      " [ 0.          0.          0.          0.          0.          0.\n",
      "   0.          0.          0.          0.        ]]\n",
      "[[-3.14159265 -2.44346095 -1.74532925 -1.04719755 -0.34906585  0.34906585\n",
      "   1.04719755  1.74532925  2.44346095  3.14159265]\n",
      " [ 2.02612013 -0.0120131  -0.8592331  -0.85580078 -0.34197708  0.34197708\n",
      "   0.85580078  0.8592331   0.0120131  -2.02612013]\n",
      " [-0.52404391 -0.73786124 -0.99419326 -0.86629528 -0.34202027  0.34202027\n",
      "   0.86629528  0.99419326  0.73786124  0.52404391]]\n"
     ]
    }
   ],
   "source": [
    "x = np.linspace(-pi,pi,10)\n",
    "pSin = np.zeros([3,10])\n",
    "pSin[0,:] = x\n",
    "for n in range(1,3):\n",
    "    pSin[n,:] = pSin[n-1,:] + (-1)**n/(factorial(2*n+1))*x**(2*n+1)\n",
    "    print(pSin)"
   ]
  },
  {
   "cell_type": "code",
   "execution_count": 4,
   "metadata": {},
   "outputs": [],
   "source": [
    "def L(xvals,kk,x):\n",
    "    lval = np.ones(x.size)\n",
    "    n = xvals.size\n",
    "    for ii in range(0,n):\n",
    "        if ii != kk:\n",
    "            lval *= (x-xvals[ii])/(xvals[kk]-xvals[ii])\n",
    "    return lval"
   ]
  },
  {
   "cell_type": "code",
   "execution_count": 5,
   "metadata": {},
   "outputs": [],
   "source": [
    "def p_Lagrange(xvals,fvals,x):\n",
    "    n = fvals.size\n",
    "    pLagrange = np.zeros(x.size)\n",
    "    for kk in range(0,n):\n",
    "        pLagrange += yvals[kk]*L(xvals,kk,x)\n",
    "    return pLagrange"
   ]
  },
  {
   "cell_type": "code",
   "execution_count": 6,
   "metadata": {},
   "outputs": [],
   "source": [
    "def LpSum(xvals,kk,x):\n",
    "    lval = np.ones(x.size)\n",
    "    n = xvals.size\n",
    "    for ii in range(0,n):\n",
    "        if ii != kk:\n",
    "            lval += 1/(x-xvals[ii])\n",
    "    return lval\n",
    "\n",
    "def p_LagrangeP(xvals,fvals,x):\n",
    "    n = fvals.size\n",
    "    pLagrange = np.zeros(x.size)\n",
    "    for kk in range(0,n):\n",
    "        pLagrange += yvals[kk]*L(xvals,kk,x)*LpSum(xvals,kk,x)\n",
    "    return pLagrange"
   ]
  },
  {
   "cell_type": "code",
   "execution_count": 7,
   "metadata": {},
   "outputs": [
    {
     "data": {
      "image/png": "[encoded data removed]",
      "text/plain": [
       "<Figure size 432x288 with 1 Axes>"
      ]
     },
     "metadata": {
      "needs_background": "light"
     },
     "output_type": "display_data"
    }
   ],
   "source": [
    "xvals = np.array([-9.,-4.,-1.,7.])\n",
    "yvals = np.array([5.,2.,-2.,9.])\n",
    "plt.plot(xvals,yvals,'o',markersize=10)\n",
    "plt.grid()"
   ]
  },
  {
   "cell_type": "code",
   "execution_count": 8,
   "metadata": {},
   "outputs": [
    {
     "name": "stderr",
     "output_type": "stream",
     "text": [
      "c:\\users\\dionh\\appdata\\local\\programs\\python\\python36\\lib\\site-packages\\ipykernel_launcher.py:6: RuntimeWarning: divide by zero encountered in true_divide\n",
      "  \n",
      "c:\\users\\dionh\\appdata\\local\\programs\\python\\python36\\lib\\site-packages\\ipykernel_launcher.py:13: RuntimeWarning: invalid value encountered in multiply\n",
      "  del sys.path[0]\n"
     ]
    },
    {
     "data": {
      "image/png": "[encoded data removed]",
      "text/plain": [
       "<Figure size 432x288 with 1 Axes>"
      ]
     },
     "metadata": {
      "needs_background": "light"
     },
     "output_type": "display_data"
    }
   ],
   "source": [
    "x = np.linspace(min(xvals),max(xvals),int(1e2))\n",
    "y = p_Lagrange(xvals,yvals,x)\n",
    "yp = p_LagrangeP(xvals,yvals,x)\n",
    "\n",
    "plt.plot(xvals,yvals,'o',markersize=10)\n",
    "plt.plot(x,y,color='k')\n",
    "plt.xlabel('$x$')\n",
    "plt.ylabel(\"$P_{3}(x)$\")\n",
    "plt.grid()"
   ]
  },
  {
   "cell_type": "markdown",
   "metadata": {},
   "source": [
    "$a_0 = 2, b_0 = 3/4, c_0 = 0, d_0 = 1/4, a_1 = 3, b_1 = 3/2, c_1 = 3/4, d_1 = -1/4$"
   ]
  },
  {
   "cell_type": "code",
   "execution_count": 18,
   "metadata": {},
   "outputs": [
    {
     "data": {
      "text/plain": [
       "[<matplotlib.lines.Line2D at 0x223bd3259b0>]"
      ]
     },
     "execution_count": 18,
     "metadata": {},
     "output_type": "execute_result"
    },
    {
     "data": {
      "image/png": "[encoded data removed]",
      "text/plain": [
       "<Figure size 432x288 with 1 Axes>"
      ]
     },
     "metadata": {
      "needs_background": "light"
     },
     "output_type": "display_data"
    }
   ],
   "source": [
    "x = np.linspace(1,3,100)\n",
    "S = (2 + (3/4)*(x-1) + (1/4)*(x-1)**3)*(x<2) + (3 + (3/2)*(x-2) + (3/4)*(x-2)**2 + (-1/4)*(x-2)**3)*(x>=2)\n",
    "xV = np.array([1, 2, 3])\n",
    "yV = np.array([2, 3, 5])\n",
    "plt.plot(x,S,\".\")\n",
    "plt.plot(xV,yV, \"o\")"
   ]
  }
 ],
 "metadata": {
  "kernelspec": {
   "display_name": "Python 3",
   "language": "python",
   "name": "python3"
  },
  "language_info": {
   "codemirror_mode": {
    "name": "ipython",
    "version": 3
   },
   "file_extension": ".py",
   "mimetype": "text/x-python",
   "name": "python",
   "nbconvert_exporter": "python",
   "pygments_lexer": "ipython3",
   "version": "3.6.7"
  }
 },
 "nbformat": 4,
 "nbformat_minor": 2
}
