{
 "cells": [
  {
   "cell_type": "markdown",
   "metadata": {},
   "source": [
    "## Fast Fourier Transform"
   ]
  },
  {
   "cell_type": "code",
   "execution_count": 1,
   "metadata": {},
   "outputs": [],
   "source": [
    "import numpy as np\n",
    "import math\n",
    "from math import pi\n",
    "from math import factorial\n",
    "from matplotlib import pyplot as plt"
   ]
  },
  {
   "cell_type": "code",
   "execution_count": 4,
   "metadata": {},
   "outputs": [],
   "source": [
    "#First create Discrete Fourier Transform\n",
    "def DFT(f):\n",
    "    f = np.asarray(f,dtype=\"float\")\n",
    "    n = len(f)\n",
    "    j = np.arange(n)\n",
    "    k = j.reshape((n,1))\n",
    "    M = np.exp(-2j*np.pi*k*j/n)\n",
    "    return np.dot(M,f)"
   ]
  },
  {
   "cell_type": "code",
   "execution_count": 5,
   "metadata": {},
   "outputs": [
    {
     "name": "stdout",
     "output_type": "stream",
     "text": [
      "1.59 s ± 23.5 ms per loop (mean ± std. dev. of 7 runs, 1 loop each)\n",
      "78.5 µs ± 1.02 µs per loop (mean ± std. dev. of 7 runs, 10000 loops each)\n"
     ]
    }
   ],
   "source": [
    "f= np.random.random(2**12)\n",
    "%timeit DFT(f)\n",
    "%timeit np.fft.fft(f)"
   ]
  },
  {
   "cell_type": "code",
   "execution_count": null,
   "metadata": {},
   "outputs": [],
   "source": [
    "def fft(f):\n",
    "    n = len(f)\n",
    "    if n <= 1:\n",
    "        return f\n",
    "    else:\n",
    "        even = fft(f[0::2]) #Start at 0 and take every second entry.\n",
    "        odd = fft(f[1::2])\n",
    "        \n",
    "        T = [np.exp(-2j*np.pi*k/n)*odd[k] for k in range (n//2)]\n",
    "        \n",
    "        return [even[k] + T[k] for k in range(n//2)] + \\\n",
    "               [even[k] - T[k] for k in range(n//2)]"
   ]
  }
 ],
 "metadata": {
  "kernelspec": {
   "display_name": "Python 3",
   "language": "python",
   "name": "python3"
  },
  "language_info": {
   "codemirror_mode": {
    "name": "ipython",
    "version": 3
   },
   "file_extension": ".py",
   "mimetype": "text/x-python",
   "name": "python",
   "nbconvert_exporter": "python",
   "pygments_lexer": "ipython3",
   "version": "3.6.7"
  }
 },
 "nbformat": 4,
 "nbformat_minor": 2
}
