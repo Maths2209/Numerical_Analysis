{
 "cells": [
  {
   "cell_type": "markdown",
   "metadata": {},
   "source": [
    "# Homework 5\n",
    "\n",
    "## by Dion Ho\n",
    "\n",
    "\n",
    "# Import Python Libraries"
   ]
  },
  {
   "cell_type": "code",
   "execution_count": 1,
   "metadata": {},
   "outputs": [],
   "source": [
    "import numpy as np\n",
    "import math\n",
    "import scipy\n",
    "from scipy import linalg as la\n",
    "from scipy import sparse\n",
    "from math import pi\n",
    "from math import factorial\n",
    "from matplotlib import pyplot as plt"
   ]
  },
  {
   "cell_type": "code",
   "execution_count": 2,
   "metadata": {},
   "outputs": [],
   "source": [
    "def rangeE(start,end): #I really dislike Python's range function, so I defined my own in line with other languages.\n",
    "    return range(start,end+1)"
   ]
  },
  {
   "cell_type": "markdown",
   "metadata": {},
   "source": [
    "## Q1"
   ]
  },
  {
   "cell_type": "markdown",
   "metadata": {},
   "source": [
    "Since $\\lVert\\vec{x}\\rVert_\\infty = 1, \\forall x_j \\in \\vec{x}, -1 \\leq \\vec{x_j} \\leq 1$.\n",
    "Each entry, $b_i$, of vector $(A\\vec{x})$ is given by\n",
    "$$b_i = \\sum_{j=1}^n x_j a_{i,j}.$$\n",
    "In order to maximise $b_i$, we choose\n",
    "$$\\begin{cases}\n",
    "x_j = 1 & \\mbox{if } a_{i,j} \\geq 0 \\\\\n",
    "x_j = -1 & \\mbox{if } a_{i,j} < 0.\n",
    "\\end{cases}\n",
    "$$\n",
    "Therefore, \n",
    "$$\\max\\limits_{\\lVert\\vec{x}\\rVert_\\infty = 1}b_i = \\sum_{j=1}^n |a_{i,j}|$$\n",
    "which implies that \n",
    "\\begin{align}\n",
    "\\lVert A \\rVert_\\infty &= \\max\\limits_{\\lVert\\vec{x}\\rVert_\\infty = 1} \\lVert A\\vec{x} \\rVert_\\infty \\\\\n",
    "&= \\max\\limits_{1 \\leq i \\leq n} \\sum_{j=1}^n |a_{i,j}|.\n",
    "\\end{align}"
   ]
  },
  {
   "cell_type": "markdown",
   "metadata": {},
   "source": [
    "## Q2"
   ]
  },
  {
   "cell_type": "markdown",
   "metadata": {},
   "source": [
    "Since the sequence $\\left (\\vec{x}^{\\left (k\\right )}\\right )_{k \\in \\mathbb{N}^0}$ converges, it must be Cauchy. Therefore, for an arbitrary $\\vec{x}^{\\left (0\\right )} \\in \\mathbb{R}^n$, for all $\\epsilon z > 0$, where $z = \\left \\lVert \\vec{x}^{\\left (1\\right )} - \\vec{x}^{\\left (0\\right )} \\right \\rVert, \\exists K \\in \\mathbb{N}^0$ such that $\\forall m,k \\geq K$, \n",
    "$$\\left \\lVert \\vec{x}^{\\left (m\\right )} - \\vec{x}^{\\left (k\\right )} \\right \\rVert< \\epsilon z.$$\n",
    "In particular, $\\forall k \\geq K$,\n",
    "\\begin{align}\n",
    "&\\left \\lVert \\vec{x}^{\\left (k+1\\right )} - \\vec{x}^{\\left (k\\right )} \\right \\rVert < \\epsilon z \\\\\n",
    "&\\implies \\left \\lVert T\\vec{x}^{\\left (k\\right )} + \\vec{c} - T\\vec{x}^{\\left (k-1\\right )} - \\vec{c} \\right \\rVert < \\epsilon z \\\\\n",
    "&\\implies \\left \\lVert T\\left (\\vec{x}^{\\left (k\\right )} - \\vec{x}^{\\left (k-1\\right )}\\right ) \\right \\rVert < \\epsilon z \\\\\n",
    "&\\implies \\left \\lVert T\\left (T\\vec{x}^{\\left (k-1\\right )} + \\vec{c} - T\\vec{x}^{\\left (k-2\\right )} - \\vec{c}\\right ) \\right \\rVert < \\epsilon z \\\\\n",
    "&\\implies \\left \\lVert T^2\\left (\\vec{x}^{\\left (k-1\\right )} - \\vec{x}^{\\left (k-2\\right )}\\right ) \\right \\rVert < \\epsilon z \\\\\n",
    "&\\implies \\ldots \\\\\n",
    "&\\implies \\left \\lVert T^k \\left (\\vec{x}^{\\left (1\\right )} - \\vec{x}^{\\left (0\\right )}\\right ) \\right \\rVert < \\epsilon z \\\\\n",
    "&\\implies \\left \\lVert T^k \\right \\rVert \\left \\lVert \\vec{x}^{\\left (1\\right )} - \\vec{x}^{\\left (0\\right )} \\right \\rVert \\leq \\left \\lVert T^k \\left (\\vec{x}^{\\left (1\\right )} - \\vec{x}^{\\left (0\\right )}\\right ) \\right \\rVert < \\epsilon z \\\\\n",
    "&\\implies \\left \\lVert T^k \\right \\rVert < \\epsilon.\n",
    "\\end{align}\n",
    "Therefore, $\\lim\\limits_{k\\rightarrow\\infty}T^k = 0_{nxn}$ which implies that $\\rho\\left (T\\right ) < 1$ by property of the spectral radius."
   ]
  },
  {
   "cell_type": "markdown",
   "metadata": {},
   "source": [
    "## Q3"
   ]
  },
  {
   "cell_type": "code",
   "execution_count": 3,
   "metadata": {},
   "outputs": [],
   "source": [
    "def jacobian_iteration(A,b,x1,tol=1e-8,maxiter=100):\n",
    "    m = A.shape[1]\n",
    "    D = np.diag(np.diag(A))\n",
    "    AA = A - D\n",
    "    D_inv = np.diag(1/np.diag(A))\n",
    "    x = D_inv @ (b - (AA @ x1))\n",
    "    iteration = 1\n",
    "    residue = la.norm((x1 - x),np.inf)\n",
    "    print(\"iter\",\"   residue\")\n",
    "    print('{:>3d} {:> 22.16f}'.format(iteration, residue))\n",
    "    while (residue > tol) & (maxiter >= iteration):\n",
    "        x1 = x\n",
    "        x = D_inv @ (b - (AA @ x1))\n",
    "        residue = la.norm((x1 - x),np.inf)\n",
    "        iteration += 1\n",
    "        print('{:>3d} {:> 22.16f}'.format(iteration, residue))\n",
    "    if maxiter >= iteration + 1:\n",
    "        return x\n",
    "    else:\n",
    "        print(\"Failed to converge.\")"
   ]
  },
  {
   "cell_type": "code",
   "execution_count": 4,
   "metadata": {},
   "outputs": [],
   "source": [
    "def diag_dom(n, num_entries=None):\n",
    "    if num_entries is None:\n",
    "        num_entries = int(n**1.5) - n\n",
    "    A = np.zeros((n,n))\n",
    "    rows = np.random.choice(np.arange(0,n), size=num_entries)\n",
    "    cols = np.random.choice(np.arange(0,n), size=num_entries)\n",
    "    data = np.random.randint(-4, 4, size=num_entries)\n",
    "    for i in range(num_entries):\n",
    "        A[rows[i], cols[i]] = data[i]\n",
    "    for i in range(n):\n",
    "        A[i,i] = np.sum(np.abs(A[i])) + 1\n",
    "    return A"
   ]
  },
  {
   "cell_type": "markdown",
   "metadata": {},
   "source": [
    "Code to generate the randomised test data."
   ]
  },
  {
   "cell_type": "code",
   "execution_count": 5,
   "metadata": {},
   "outputs": [],
   "source": [
    "size = np.random.randint(2,20)\n",
    "x = np.random.rand(size,1)\n",
    "A = diag_dom(size)\n",
    "b = A @ x\n",
    "x1 = np.random.rand(size,1)"
   ]
  },
  {
   "cell_type": "code",
   "execution_count": 6,
   "metadata": {},
   "outputs": [
    {
     "name": "stdout",
     "output_type": "stream",
     "text": [
      "iter    residue\n",
      "  1     0.7764758243471421\n",
      "  2     0.3495448900418142\n",
      "  3     0.1747724450209071\n",
      "  4     0.0559271824066904\n",
      "  5     0.0279635912033452\n",
      "  6     0.0089483491850704\n",
      "  7     0.0044741745925352\n",
      "  8     0.0014317358696111\n",
      "  9     0.0007158679348055\n",
      " 10     0.0002290777391381\n",
      " 11     0.0001145388695690\n",
      " 12     0.0000366524382620\n",
      " 13     0.0000183262191310\n",
      " 14     0.0000058643901220\n",
      " 15     0.0000029321950610\n",
      " 16     0.0000009383024194\n",
      " 17     0.0000004691512097\n",
      " 18     0.0000001501283869\n",
      " 19     0.0000000750641935\n",
      " 20     0.0000000240205420\n",
      " 21     0.0000000120102710\n",
      " 22     0.0000000038432868\n",
      "[[0.24805068]\n",
      " [0.84423675]\n",
      " [0.04296188]\n",
      " [0.95412544]\n",
      " [0.14932185]] True\n"
     ]
    }
   ],
   "source": [
    "ans = jacobian_iteration(A,b,x1)\n",
    "print(ans,np.allclose(ans, x)) #jacobian_iteration works even for random A, x, and initial guess x1."
   ]
  },
  {
   "cell_type": "markdown",
   "metadata": {},
   "source": [
    "## Q4"
   ]
  },
  {
   "cell_type": "code",
   "execution_count": 7,
   "metadata": {},
   "outputs": [],
   "source": [
    "def jacobian_iteration_plot(A,b,x1,plot = False,tol=1e-8,maxiter=100):\n",
    "    m = A.shape[1]\n",
    "    D = np.diag(np.diag(A))\n",
    "    AA = A - D\n",
    "    D_inv = np.diag(1/np.diag(A))\n",
    "    x = D_inv @ (b - (AA @ x1))\n",
    "    iteration = 1\n",
    "    residue = la.norm((x1 - x),np.inf)\n",
    "    if plot == True:\n",
    "        res_plt = [residue]\n",
    "    else:\n",
    "        print(\"iter\",\"   residue\")\n",
    "        print('{:>3d} {:> 22.16f}'.format(iteration, residue))\n",
    "    while (residue > tol) & (maxiter >= iteration):\n",
    "        x1 = x\n",
    "        x = D_inv @ (b - (AA @ x1))\n",
    "        residue = la.norm((x1 - x),np.inf)\n",
    "        iteration += 1\n",
    "        if plot == True:\n",
    "            res_plt.append(residue)\n",
    "        else:\n",
    "            print('{:>3d} {:> 22.16f}'.format(iteration, residue))\n",
    "    if plot == True:\n",
    "        plt.figure(figsize=(10,5))\n",
    "        plt.semilogy(rangeE(1,iteration),np.abs(res_plt),'o')\n",
    "        plt.title('Plot of Residue for Jacobian Iteration against Iteration Count',fontsize=18)\n",
    "        plt.xlabel('Iteration Count',fontsize=14)\n",
    "        plt.ylabel('Residue',fontsize=14)\n",
    "    if maxiter >= iteration + 1:\n",
    "        return x\n",
    "    else:\n",
    "        print(\"Failed to converge.\")"
   ]
  },
  {
   "cell_type": "markdown",
   "metadata": {},
   "source": [
    "Code to generate the randomised test data."
   ]
  },
  {
   "cell_type": "code",
   "execution_count": 8,
   "metadata": {},
   "outputs": [],
   "source": [
    "size = np.random.randint(3,20)\n",
    "x = np.random.rand(size,1)\n",
    "A = diag_dom(size)\n",
    "b = A @ x\n",
    "x1 = np.random.rand(size,1)"
   ]
  },
  {
   "cell_type": "code",
   "execution_count": 9,
   "metadata": {},
   "outputs": [
    {
     "name": "stdout",
     "output_type": "stream",
     "text": [
      "[[0.18547567]\n",
      " [0.77368695]\n",
      " [0.83485529]\n",
      " [0.12636902]\n",
      " [0.02566578]\n",
      " [0.43925882]\n",
      " [0.6909565 ]\n",
      " [0.55612317]\n",
      " [0.39498533]\n",
      " [0.07263606]\n",
      " [0.27571525]\n",
      " [0.65974984]\n",
      " [0.31648373]] True\n"
     ]
    },
    {
     "data": {
      "image/png": "[encoded data removed]",
      "text/plain": [
       "<Figure size 720x360 with 1 Axes>"
      ]
     },
     "metadata": {
      "needs_background": "light"
     },
     "output_type": "display_data"
    }
   ],
   "source": [
    "ans = jacobian_iteration_plot(A,b,x1,True)\n",
    "print(ans,np.allclose(ans, x)) #The plot shows that the log of the residue decreases about linearly as the number of iterations increase."
   ]
  },
  {
   "cell_type": "markdown",
   "metadata": {},
   "source": [
    "## Q5: With the addition of tuning parameter $\\omega$ which defaults to 1."
   ]
  },
  {
   "cell_type": "code",
   "execution_count": 10,
   "metadata": {},
   "outputs": [],
   "source": [
    "def gauss_seidel_plot(A,b,x1,plot=False,tol=1e-8,maxiter=100,omega=1):\n",
    "    m = A.shape[1]\n",
    "    x = np.zeros(np.shape(b))\n",
    "    for ii in rangeE(0,m-1):\n",
    "        sum1 = 0\n",
    "        sum2 = 0\n",
    "        for jj in rangeE(0,ii-1):\n",
    "            sum1 += A[ii,jj]*x[jj]\n",
    "        for jj in rangeE(ii,m-1): #Without omega, this is rangeE(ii+1,m-1)\n",
    "            sum2 += A[ii,jj]*x1[jj]\n",
    "        x[ii] = x1[ii] + omega*(b[ii] - sum1 - sum2)/A[ii,ii]\n",
    "    iteration = 1\n",
    "    residue = la.norm((x1 - x),np.inf)\n",
    "    if plot == True:\n",
    "        res_plt = [residue]\n",
    "    else:\n",
    "        print(\"iter\",\"   residue\")\n",
    "        print('{:>3d} {:> 22.16f}'.format(iteration, residue))\n",
    "    while (residue > tol) & (maxiter >= iteration):\n",
    "        x1 = np.copy(x)\n",
    "        for ii in rangeE(0,m-1):\n",
    "            sum1 = 0\n",
    "            sum2 = 0\n",
    "            for jj in rangeE(0,ii-1):\n",
    "                sum1 += A[ii,jj]*x[jj]\n",
    "            for jj in rangeE(ii,m-1):\n",
    "                sum2 += A[ii,jj]*x1[jj]\n",
    "            x[ii] = x1[ii] + omega*(b[ii] - sum1 - sum2)/A[ii,ii]\n",
    "        residue = la.norm((x1 - x),np.inf)\n",
    "        iteration += 1\n",
    "        if plot == True:\n",
    "            res_plt.append(residue)\n",
    "        else:\n",
    "            print('{:>3d} {:> 22.16f}'.format(iteration, residue))\n",
    "    if plot == True:\n",
    "        plt.figure(figsize=(10,5))\n",
    "        plt.semilogy(rangeE(1,iteration),np.abs(res_plt),'o')\n",
    "        plt.title('Plot of Residue for Gauss-Seidel Method against Iteration Count',fontsize=18)\n",
    "        plt.xlabel('Iteration Count',fontsize=14)\n",
    "        plt.ylabel('Residue',fontsize=14)\n",
    "    if maxiter >= iteration + 1:\n",
    "        return x\n",
    "    else:\n",
    "        print(\"Failed to converge.\")"
   ]
  },
  {
   "cell_type": "markdown",
   "metadata": {},
   "source": [
    "Code to generate the randomised test data."
   ]
  },
  {
   "cell_type": "code",
   "execution_count": 11,
   "metadata": {},
   "outputs": [],
   "source": [
    "size = np.random.randint(3,20)\n",
    "x = np.random.rand(size,1)\n",
    "A = diag_dom(size)\n",
    "b = A @ x\n",
    "x1 = np.random.rand(size,1)"
   ]
  },
  {
   "cell_type": "code",
   "execution_count": 12,
   "metadata": {},
   "outputs": [
    {
     "name": "stdout",
     "output_type": "stream",
     "text": [
      "[[0.70611153]\n",
      " [0.99701531]\n",
      " [0.25470814]\n",
      " [0.48397545]\n",
      " [0.55663815]\n",
      " [0.8415545 ]\n",
      " [0.4825912 ]\n",
      " [0.72572751]\n",
      " [0.63550765]\n",
      " [0.28628268]\n",
      " [0.61240672]\n",
      " [0.85577399]\n",
      " [0.46960637]\n",
      " [0.81321256]\n",
      " [0.48044674]\n",
      " [0.3154065 ]\n",
      " [0.97171256]] True\n"
     ]
    },
    {
     "data": {
      "image/png": "[encoded data removed]",
      "text/plain": [
       "<Figure size 720x360 with 1 Axes>"
      ]
     },
     "metadata": {
      "needs_background": "light"
     },
     "output_type": "display_data"
    }
   ],
   "source": [
    "ans = gauss_seidel_plot(A,b,x1,True)\n",
    "print(ans,np.allclose(ans, x)) #The plot shows that the log of the residue decreases about linearly as the number of iterations increase."
   ]
  },
  {
   "cell_type": "markdown",
   "metadata": {},
   "source": [
    "## Q6 & Q7: Gauss-Seidel with the addition of tuning parameter $\\omega$ which defaults to 1."
   ]
  },
  {
   "cell_type": "code",
   "execution_count": 13,
   "metadata": {},
   "outputs": [],
   "source": [
    "def gauss_seidel_plot_sparse(A,b,x1,plot=False,tol=1e-8,maxiter=100,omega=1):\n",
    "    m = A.shape[1]\n",
    "    x = np.zeros(np.shape(b))\n",
    "    D = sparse.diags(A.diagonal())\n",
    "    AA = A - D\n",
    "    for ii in rangeE(0,m-1):\n",
    "        rowstart = AA.indptr[ii]\n",
    "        rowend = AA.indptr[ii+1]\n",
    "        Aix = AA.data[rowstart:rowend] @ x1[A.indices[rowstart:rowend]]\n",
    "        x[ii] = (1-omega)*x1[ii] + omega*(b[ii] - Aix)/A[ii,ii]\n",
    "    iteration = 1\n",
    "    residue = la.norm((x1 - x),np.inf)\n",
    "    if plot == True:\n",
    "        res_plt = [residue]\n",
    "    else:\n",
    "        print(\"iter\",\"   residue\")\n",
    "        print('{:>3d} {:> 22.16f}'.format(iteration, residue))\n",
    "    while (residue > tol) & (maxiter >= iteration):\n",
    "        x1 = np.copy(x)\n",
    "        for ii in rangeE(0,m-1):\n",
    "            rowstart = AA.indptr[ii]\n",
    "            rowend = AA.indptr[ii+1]\n",
    "            Aix = AA.data[rowstart:rowend] @ x1[AA.indices[rowstart:rowend]]\n",
    "            x[ii] = (1-omega)*x1[ii] + omega*(b[ii] - Aix)/A[ii,ii]\n",
    "        residue = la.norm((x1 - x),np.inf)\n",
    "        iteration += 1\n",
    "        if plot == True:\n",
    "            res_plt.append(residue)\n",
    "        else:\n",
    "            print('{:>3d} {:> 22.16f}'.format(iteration, residue))\n",
    "    if plot == True:\n",
    "        plt.figure(figsize=(10,5))\n",
    "        plt.semilogy(rangeE(1,iteration),np.abs(res_plt),'o')\n",
    "        plt.title('Plot of Residue for Gauss-Seidel Method against Iteration Count',fontsize=18)\n",
    "        plt.xlabel('Iteration Count',fontsize=14)\n",
    "        plt.ylabel('Residue',fontsize=14)\n",
    "    if maxiter >= iteration + 1:\n",
    "        return x\n",
    "    else:\n",
    "        print(\"Failed to converge.\")"
   ]
  },
  {
   "cell_type": "code",
   "execution_count": 14,
   "metadata": {},
   "outputs": [],
   "source": [
    "def diag_dom_sparse(n, num_entries=None):\n",
    "    if num_entries is None:\n",
    "        num_entries = int(n**1.5) - n\n",
    "    rows = np.random.choice(np.arange(0,n), size=num_entries)\n",
    "    cols = np.random.choice(np.arange(0,n), size=num_entries)\n",
    "    data = np.random.randint(-4, 4, size=num_entries)\n",
    "    A = sparse.csr_matrix((data, (rows,cols)), shape=(n,n))\n",
    "    d = []\n",
    "    for i in range(n):\n",
    "        d.append(np.sum(np.abs(A[i])) + 1)\n",
    "    A.setdiag(d)\n",
    "    return A"
   ]
  },
  {
   "cell_type": "code",
   "execution_count": 15,
   "metadata": {},
   "outputs": [
    {
     "name": "stderr",
     "output_type": "stream",
     "text": [
      "c:\\users\\dionh\\appdata\\local\\programs\\python\\python36\\lib\\site-packages\\scipy\\sparse\\compressed.py:708: SparseEfficiencyWarning: Changing the sparsity structure of a csr_matrix is expensive. lil_matrix is more efficient.\n",
      "  self[i, j] = values\n"
     ]
    }
   ],
   "source": [
    "size = np.random.randint(40000,60000)\n",
    "x = np.random.rand(size,1)\n",
    "A = diag_dom_sparse(size) #Generation of the sparse matrix may take about a minute.\n",
    "b = A @ x\n",
    "x1 = np.random.rand(size,1)"
   ]
  },
  {
   "cell_type": "code",
   "execution_count": 16,
   "metadata": {},
   "outputs": [
    {
     "name": "stdout",
     "output_type": "stream",
     "text": [
      "iter    residue\n",
      "  1     1.0685991783545277\n",
      "  2     0.1427634065680327\n",
      "  3     0.0128856240558397\n",
      "  4     0.0009054782710761\n",
      "  5     0.0000809817446024\n",
      "  6     0.0000089609958783\n",
      "  7     0.0000016963363094\n",
      "  8     0.0000004082824351\n",
      "  9     0.0000001035546053\n",
      " 10     0.0000000259689003\n",
      " 11     0.0000000064546743\n",
      "[[0.08607442]\n",
      " [0.58370597]\n",
      " [0.67832102]\n",
      " ...\n",
      " [0.96366667]\n",
      " [0.97343648]\n",
      " [0.23883441]] True\n"
     ]
    }
   ],
   "source": [
    "ans = gauss_seidel_plot_sparse(A,b,x1)\n",
    "print(ans,np.allclose(ans, x)) #I only ran a few tests, but it seems like omega = 1 frequently results in the fastest convergence."
   ]
  }
 ],
 "metadata": {
  "kernelspec": {
   "display_name": "Python 3",
   "language": "python",
   "name": "python3"
  },
  "language_info": {
   "codemirror_mode": {
    "name": "ipython",
    "version": 3
   },
   "file_extension": ".py",
   "mimetype": "text/x-python",
   "name": "python",
   "nbconvert_exporter": "python",
   "pygments_lexer": "ipython3",
   "version": "3.6.7"
  }
 },
 "nbformat": 4,
 "nbformat_minor": 2
}
