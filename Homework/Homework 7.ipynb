{
 "cells": [
  {
   "cell_type": "markdown",
   "metadata": {},
   "source": [
    "# Homework 7\n",
    "\n",
    "## by Dion Ho\n",
    "\n",
    "\n",
    "# Import Python Libraries"
   ]
  },
  {
   "cell_type": "code",
   "execution_count": 1,
   "metadata": {},
   "outputs": [],
   "source": [
    "import numpy as np\n",
    "import math\n",
    "import scipy as sc\n",
    "import time\n",
    "from scipy import sparse as sp\n",
    "from scipy.sparse.linalg import spsolve\n",
    "from numpy import sin, cos, linspace, exp\n",
    "from math import pi\n",
    "from math import factorial\n",
    "from matplotlib import pyplot as plt"
   ]
  },
  {
   "cell_type": "markdown",
   "metadata": {},
   "source": [
    "## Q1"
   ]
  },
  {
   "cell_type": "markdown",
   "metadata": {},
   "source": [
    "\\begin{align*}\n",
    "[D_N]_{i,j} &= L'_j(x_i) \\\\\n",
    "&= L_j(x_i)\\sum_{k=0,k\\neq j}^N \\frac{1}{x_i - x_k} \\\\\n",
    "&= \\frac{1}{a_j}\\prod_{k=0,k\\neq j}^N (x_i - x_k)\\sum_{k=0,k\\neq j}^N \\frac{1}{x_i - x_k} \\\\\n",
    "&= \\frac{1}{a_j}\\prod_{k=0,k\\neq j}^N(x_i - x_k)\\left(\\frac{\\displaystyle\\sum_{k=0,k\\neq j}^N\\left(\\prod_{m=0,m\\neq k, m\\neq j}^N (x_i - x_m)\\right)}{\\displaystyle\\prod_{k=0,k\\neq j}^N(x_i - x_k)}\\right) \\\\\n",
    "&= \\frac{1}{a_j}\\sum_{k=0,k\\neq j}^N\\left(\\prod_{m=0,m\\neq k, m\\neq j}^N (x_i - x_m)\\right).\n",
    "\\end{align*}\n",
    "\n",
    "Suppose that $i \\neq j$, then within the summation, every term equals zero due to a multiplication by $(x_i - x_i) = 0$ in the product. The only exception is when $k = i$. Therefore, we get\n",
    "\n",
    "\\begin{align*}\n",
    "[D_N]_{i,j} &= \\frac{1}{a_j}\\prod_{m=0,m\\neq i, m\\neq j}^N (x_i - x_m) \\\\\n",
    "&= \\frac{\\displaystyle\\prod_{m=0,m\\neq i}^N (x_i - x_m)}{a_j(x_i - x_j)} \\\\\n",
    "&= \\frac{a_i}{a_j(x_i - x_j)}.\n",
    "\\end{align*}\n",
    "\n",
    "Suppose that $i = j$, then\n",
    "\\begin{align*}\n",
    "[D_N]_{i,j} &= \\frac{1}{a_j}\\sum_{k=0,k\\neq j}^N\\left(\\prod_{m=0,m\\neq k, m\\neq j}^N (x_j - x_m)\\right) \\\\\n",
    "&= \\frac{1}{a_j}\\sum_{k=0,k\\neq j}^N\\left(\\frac{\\displaystyle\\prod_{m=0, m\\neq j}^N (x_j - x_m)}{x_j - x_k}\\right) \\\\\n",
    "&= \\frac{1}{a_j}\\sum_{k=0,k\\neq j}^N\\left(\\frac{a_j}{x_j - x_k}\\right) \\\\\n",
    "&= \\sum_{k=0,k\\neq j}^N\\left(x_j - x_k\\right)^{-1}.\n",
    "\\end{align*}"
   ]
  },
  {
   "cell_type": "markdown",
   "metadata": {},
   "source": [
    "## Q2"
   ]
  },
  {
   "cell_type": "code",
   "execution_count": 2,
   "metadata": {},
   "outputs": [],
   "source": [
    "def chebspace(N,m=-1,M=1,Zero=False): #Returns N Chebyshev Extremum (Default) or Zero points in the specified interval (Default is [-1,1]).\n",
    "    r = (m + M)/2\n",
    "    if (Zero == True):\n",
    "        pts = cos((np.array(range(N,0,-1)) - 0.5)*np.pi/N)\n",
    "    else:\n",
    "        pts = cos(np.array(range(N-1,-1,-1))*np.pi/(N-1))\n",
    "    return (pts*(M - r) + r)"
   ]
  },
  {
   "cell_type": "code",
   "execution_count": 3,
   "metadata": {},
   "outputs": [],
   "source": [
    "def chebdiffmat(x): #Returns the Chebyshev Differentiation Matrix\n",
    "    N = len(x)-1\n",
    "    DN = np.empty((N+1,N+1))\n",
    "    def a(j):\n",
    "        A = 1\n",
    "        for k in range(0,N+1):\n",
    "            if j != k:\n",
    "                A *= x[j] - x[k]\n",
    "        return A\n",
    "    for i in range(0,N+1):\n",
    "        for j in range(0,N+1):\n",
    "            if i != j:\n",
    "                DN[i,j] = a(i)/(a(j)*(x[i]-x[j]))\n",
    "            else:\n",
    "                E = 0\n",
    "                for k in range(0,N+1):\n",
    "                    if k != j:\n",
    "                        E += 1/(x[j] - x[k])\n",
    "                DN[i,j] = np.copy(E)\n",
    "    return DN"
   ]
  },
  {
   "cell_type": "markdown",
   "metadata": {},
   "source": [
    "#### Show that the power $D_N^{N+1}$ is identically equal to zero"
   ]
  },
  {
   "cell_type": "markdown",
   "metadata": {},
   "source": [
    "Consider an arbitrary $N$ degree polynomial uniquely represented by the vector\n",
    "$$\\left(\\begin{array}{c} P(x_0) \\\\ P(x_1) \\\\ \\vdots \\\\ P(x_N) \\end{array}\\right).$$\n",
    "\n",
    "We know that differentiating the polynomial $N+1$ times will produce $\\vec{0}$. We are also given that $D_N$ is the differential operator, i.e.\n",
    "$$\\left(\\begin{array}{c} y_0' \\\\ y_1' \\\\ \\vdots \\\\ y_N' \\end{array}\\right)\n",
    "= D_N \\left(\\begin{array}{c} y_0 \\\\ y_1 \\\\ \\vdots \\\\ y_N \\end{array}\\right).$$\n",
    "Therefore, by repeated application of the operator $D_N$,\n",
    "$$(D_N)^{N+1}\\left(\\begin{array}{c} P(x_0) \\\\ P(x_1) \\\\ \\vdots \\\\ P(x_N) \\end{array}\\right) = \\left(\\begin{array}{c} P^{(N+1)}(x_0) \\\\ P^{(N+1)}(x_1) \\\\ \\vdots \\\\ P^{(N+1)}(x_N) \\end{array}\\right) = \\left(\\begin{array}{c} 0 \\\\ 0 \\\\ \\vdots \\\\ 0 \\end{array}\\right).$$\n",
    "\n",
    "Since $P(x_0),\\ldots,P(x_N)$ are arbitrary, it must be that $D_N^{N+1}$ is the zero operator, which implies that $[D_N]^{N+1}$ is the zero matrix."
   ]
  },
  {
   "cell_type": "markdown",
   "metadata": {},
   "source": [
    "#### Check that $D_N^{N+1}$ is identically equal to zero"
   ]
  },
  {
   "cell_type": "code",
   "execution_count": 4,
   "metadata": {},
   "outputs": [
    {
     "name": "stdout",
     "output_type": "stream",
     "text": [
      "For N = 5 , the 2-norm of DN^6 = 6.787688568284223e-11\n",
      "For N = 20 , the 2-norm of DN^21 = 9.416741003680831e+18\n"
     ]
    }
   ],
   "source": [
    "N = 5\n",
    "x = chebspace(N+1)\n",
    "A = np.eye(N+1)\n",
    "DN = chebdiffmat(x)\n",
    "for k in range(0,N+1):\n",
    "    A = A@DN\n",
    "print(\"For N =\",N,\", the 2-norm of DN^%i =\" %(N+1), np.linalg.norm(A,ord=2))\n",
    "\n",
    "N = 20\n",
    "x = chebspace(N+1)\n",
    "A = np.eye(N+1)\n",
    "DN = chebdiffmat(x)\n",
    "for k in range(0,N+1):\n",
    "    A = A@DN\n",
    "print(\"For N =\",N,\", the 2-norm of DN^%i =\" %(N+1), np.linalg.norm(A,ord=2))"
   ]
  },
  {
   "cell_type": "markdown",
   "metadata": {},
   "source": [
    "Theoretically, we know that $D_N^{N+1}$ is equal to zero. Indeed, for small values of $N$, for example $N = 5$, the 2-norm of the matrix $[D_N^{N+1}]$ is close to zero. However, the matrix $[D_N^{N+1}]$ is very numerically unstable. The instability is probably due to the terms $(x_i - x_j)$ and $(x_i - x_k)$ which appear in the denominator of the terms of $[D_N^{N+1}]$ being close to zero. Accordingly, the 2-norm of $[D_N^{N+1}]$ for large values of $N$, for example, $N=20$, is massive."
   ]
  },
  {
   "cell_type": "markdown",
   "metadata": {},
   "source": [
    "## Q3"
   ]
  },
  {
   "cell_type": "markdown",
   "metadata": {},
   "source": [
    "We will cast the problem into the form $A\\vec{U} = \\vec{G}$. By distributivity of matrix multiplication, we know that\n",
    "\\begin{align*}\n",
    "u_{xx} + 4u_x + e^xu &= \\partial_{xx}u + \\partial_{x}4u + e^xu \\\\\n",
    "&= \\left([\\partial_{xx}] + 4[\\partial_{x}] + e^\\vec{x}I\\right)\\vec{U} \\\\\n",
    "&= \\sin(8\\vec{x}).\n",
    "\\end{align*}\n",
    "\n",
    "\n",
    "### Finite Difference Matrices\n",
    "\n",
    "Using the finite difference formulas,\n",
    "\\begin{align*}\n",
    "&u''(x) = \\frac{1}{h^2}u(x-h) - \\frac{2}{h^2}u(x) + \\frac{1}{h^2}u(x+h), \\\\\n",
    "&u'(x) = - \\frac{1}{h}u(x) + \\frac{1}{h}u(x+h).\n",
    "\\end{align*}\n",
    "we get\n",
    "$$A = \\frac{1}{h^2}\\left(\n",
    "\\begin{array}{ccccccccc}\n",
    "-2 & 1 & 0 & 0 & 0 & \\ldots & 0 & 0 & 0\\\\\n",
    " 1 & -2 & 1 & 0 & 0 & \\ldots & 0 & 0 & 0\\\\\n",
    " 0 & 1 & -2 & 1 & 0 & \\ldots & 0 & 0 & 0\\\\\n",
    " \\vdots & \\vdots & \\vdots & \\vdots & \\vdots & \\ddots & \\vdots & \\vdots & \\vdots \\\\\n",
    " 0 & 0 & 0 & 0 & 0 &\\ldots & 1 & -2 & 1 \\\\\n",
    " 0 & 0 & 0 & 0 & 0 & \\ldots & 0 & 1 & -2\n",
    " \\end{array} \\right) +\n",
    " \\frac{4}{h}\\left(\n",
    "\\begin{array}{ccccccccc}\n",
    "-1 & 1 & 0 & 0 & 0 & \\ldots & 0 & 0 & 0\\\\\n",
    " 0 & -1 & 1 & 0 & 0 & \\ldots & 0 & 0 & 0\\\\\n",
    " 0 & 0 & -1 & 1 & 0 & \\ldots & 0 & 0 & 0\\\\\n",
    " \\vdots & \\vdots & \\vdots & \\vdots & \\vdots & \\ddots & \\vdots & \\vdots & \\vdots \\\\\n",
    " 0 & 0 & 0 & 0 & 0 &\\ldots & 0 & -1 & 1 \\\\\n",
    " 0 & 0 & 0 & 0 & 0 & \\ldots & 0 & 0 & -1\n",
    " \\end{array} \\right) + e^{\\vec{x}[1:n]}I\n",
    " $$\n",
    " \n",
    " $$\\vec{U} = \\left(\n",
    " \\begin{array}{c}\n",
    " u(x_1) \\\\\n",
    " u(x_2) \\\\\n",
    " \\vdots \\\\\n",
    " u(x_n)\n",
    " \\end{array} \\right) \\hspace{2pc}\n",
    " \\vec{G} = \\left(\n",
    " \\begin{array}{c}\n",
    " \\sin(8x_1) - \\displaystyle \\frac{1}{h^2}u(x_0) \\\\\n",
    " \\sin(8x_2) \\\\\n",
    " \\vdots \\\\\n",
    " \\sin(8x_{n-1}) \\\\\n",
    " \\sin(8x_n) - \\displaystyle \\frac{1}{h^2}u(x_{n+1}) - \\frac{4}{h}u(x_{n+1})\n",
    " \\end{array} \\right)$$\n",
    " \n",
    " \n",
    " ### Chebyshev Differentiation Matrices\n",
    " \n",
    " Using the Chebyshev Differentiation matrix,\n",
    " $$D_{n} := \\left(\\begin{array}{cccc}\n",
    " L'_1(x_1) & L'_2(x_1) & \\ldots & L'_n(x_1) \\\\\n",
    " L'_1(x_2) & L'_2(x_2) & \\ldots & L'_n(x_2) \\\\\n",
    " \\vdots & \\vdots & \\ddots & \\vdots \\\\\n",
    " L'_1(x_n) & L'_2(x_n) &\\ldots & L'_n(x_n)\n",
    " \\end{array} \\right)$$\n",
    " we get\n",
    " $$A = 4[D_{n}] + [D_{n}]^2 + e^{\\vec{x}[1:n]}I \\hspace{2pc}\\vec{U} = \\left(\n",
    " \\begin{array}{c}\n",
    " u(x_1) \\\\\n",
    " u(x_2) \\\\\n",
    " \\vdots \\\\\n",
    " u(x_n)\n",
    " \\end{array} \\right) \\hspace{2pc}\n",
    " \\vec{G} = \\left(\n",
    " \\begin{array}{c}\n",
    " \\sin(8x_1) \\\\\n",
    " \\sin(8x_2) \\\\\n",
    " \\vdots \\\\\n",
    " \\sin(8x_{n-1}) \\\\\n",
    " \\sin(8x_n)\n",
    " \\end{array} \\right)$$"
   ]
  },
  {
   "cell_type": "code",
   "execution_count": 5,
   "metadata": {},
   "outputs": [],
   "source": [
    "def solve_for_U(xvals,G): #Finite Difference method\n",
    "    h = xvals[2:]-xvals[1:-1] #We assume that the points are equispaced.\n",
    "    d0 = -2/h**2\n",
    "    d1 = 1/h[1:]**2\n",
    "    dm1 = 1/h[0:-1]**2\n",
    "    # Create the second diff. part of the \"A\" matrix by using the np.diag command\n",
    "    A2 = np.diag(d0) + np.diag(d1,1) + np.diag(dm1,-1)\n",
    "    \n",
    "    d0_2 = -1/h\n",
    "    d1_2 = 1/h[1:]\n",
    "    # Create the first diff. part of the \"A\" matrix by using the np.diag command\n",
    "    A1 = np.diag(d0_2) + np.diag(d1_2,1)\n",
    "    \n",
    "    A = A2 + 4*A1 + np.diag(exp(xvals[1:-1]))\n",
    "    \n",
    "    # Ax = b, solve for x.\n",
    "    uvals = np.linalg.solve(A,G) #I'm using scipy sparse matrice solver else I may run into memory problems later.\n",
    "    \n",
    "    return uvals"
   ]
  },
  {
   "cell_type": "code",
   "execution_count": 6,
   "metadata": {},
   "outputs": [],
   "source": [
    "def solve_for_U_sp(xvals,G): #Finite Difference method (using sparse matrices)\n",
    "    h = xvals[2:]-xvals[1:-1] #We assume that the points are equispaced.\n",
    "    d0 = -2/h**2\n",
    "    d1 = 1/h[1:]**2\n",
    "    dm1 = 1/h[0:-1]**2\n",
    "    # Create the second diff. part of the \"A\" matrix by using the np.diag command\n",
    "    A2 = sp.diags(d0) + sp.diags(d1,1)+ sp.diags(dm1,-1)\n",
    "    \n",
    "    d0_2 = -1/h\n",
    "    d1_2 = 1/h[1:]\n",
    "    # Create the first diff. part of the \"A\" matrix by using the np.diag command\n",
    "    A1 = sp.diags(d0_2) + sp.diags(d1_2,1)\n",
    "    \n",
    "    A = A2 + 4*A1 + sp.diags(exp(xvals[1:-1]))\n",
    "    \n",
    "    # Ax = b, solve for x.\n",
    "    uvals = spsolve(A,G) #I'm using scipy sparse matrice solver else I may run into memory problems later.\n",
    "    \n",
    "    return uvals"
   ]
  },
  {
   "cell_type": "code",
   "execution_count": 7,
   "metadata": {},
   "outputs": [],
   "source": [
    "def appendBC(sol): #This function simply makes it easier to append the boundary conditions.\n",
    "    return (np.insert((np.insert(sol,len(sol),Rbc)),0,Lbc)) #Add u_0 and u_n into yvals."
   ]
  },
  {
   "cell_type": "code",
   "execution_count": 8,
   "metadata": {},
   "outputs": [],
   "source": [
    "Lbc = 0\n",
    "Rbc = 0\n",
    "N = 2**8+1\n",
    "\n",
    "#Using the Finite Difference matrices\n",
    "xlin = linspace(-1,1,N)\n",
    "h = np.abs(xlin[1] - xlin[0])\n",
    "rhs = lambda x: sin(8*x)\n",
    "\n",
    "G = rhs(xlin[1:N-1])\n",
    "G[0] = np.copy(G[0]) - Lbc/h**2\n",
    "G[N-3] = np.copy(G[N-3]) - Rbc/h**2 - 4*Lbc/h\n",
    "\n",
    "#fd = appendBC(solve_for_U(xlin,G))\n",
    "fd_sp = appendBC(solve_for_U_sp(xlin,G))"
   ]
  },
  {
   "cell_type": "code",
   "execution_count": 9,
   "metadata": {},
   "outputs": [],
   "source": [
    "#Using the Chebyshev Differentiation matrices (it'll take a few seconds)\n",
    "xcheb = chebspace(N)\n",
    "Dn = chebdiffmat(xcheb)\n",
    "G = rhs(xcheb)\n",
    "A = 4*Dn + Dn@Dn + np.diag(exp(xcheb))\n",
    "cheb = appendBC(np.linalg.solve(A,G)[1:N-1])"
   ]
  },
  {
   "cell_type": "code",
   "execution_count": 10,
   "metadata": {},
   "outputs": [
    {
     "data": {
      "image/png": "[encoded data removed]",
      "text/plain": [
       "<Figure size 1440x720 with 1 Axes>"
      ]
     },
     "metadata": {
      "needs_background": "light"
     },
     "output_type": "display_data"
    }
   ],
   "source": [
    "#plt.plot(xlin,fd)\n",
    "plt.figure(figsize=(20,10))\n",
    "plt.title(\"Numerical Solution to the ODE using 257 Grid Points\", fontsize = 14)\n",
    "plt.xlabel(\"x\", fontsize = 14)\n",
    "plt.ylabel(\"y\", fontsize = 14)\n",
    "plt.plot(xcheb,cheb,\".\")\n",
    "plt.plot(xlin,fd_sp)\n",
    "plt.legend([\"Chebyshev Differentiation Matrices\",\"Finite Difference Matrices\"])\n",
    "plt.grid()"
   ]
  },
  {
   "cell_type": "markdown",
   "metadata": {},
   "source": [
    "Both methods produce comparable solutions to the ODE, with the results differing the most at the two peaks of the curve. Without the solution, it is difficult to determine which method is more accurate. The finite difference matrices method should be a first-order method due to the forward-difference first-order differential matrix. On the other hand, Chebyshev Differentiation matrices suffer from numerical instability as was demonstrated in Q2."
   ]
  },
  {
   "cell_type": "code",
   "execution_count": 11,
   "metadata": {},
   "outputs": [
    {
     "name": "stdout",
     "output_type": "stream",
     "text": [
      "FD method\n",
      "u(0) = 0.009579881900 \n",
      "\n",
      "Cheb method\n",
      "u(0) = 0.009589111410 \n",
      "\n",
      "Difference = 9.229510712473535e-06\n",
      "% Difference (based on fd_sp value) = 0.09634263563122258 %\n"
     ]
    }
   ],
   "source": [
    "print(\"FD method\")\n",
    "print(\"u(0) ={:> 10.12f}\".format(fd_sp[128]),\"\\n\") #To 10 s.f.\n",
    "print(\"Cheb method\")\n",
    "print(\"u(0) ={:> 10.12f}\".format(cheb[128]),\"\\n\")\n",
    "print(\"Difference =\",np.abs(fd_sp[128]-cheb[128]))\n",
    "print(\"% Difference (based on fd_sp value) =\",np.abs(fd_sp[128]-cheb[128])/fd_sp[128]*100,\"%\") "
   ]
  },
  {
   "cell_type": "markdown",
   "metadata": {},
   "source": [
    "The values produced by the two methods are comparable."
   ]
  },
  {
   "cell_type": "markdown",
   "metadata": {},
   "source": [
    "### Runtime Tests"
   ]
  },
  {
   "cell_type": "code",
   "execution_count": 12,
   "metadata": {},
   "outputs": [
    {
     "name": "stdout",
     "output_type": "stream",
     "text": [
      "Runtime of FD method using sparse matrices\n",
      "0.002530256907145182 \n",
      "\n",
      "Runtime of FD method using dense matrices\n",
      "0.003457514444986979 \n",
      "\n",
      "Runtime of Cheb method\n",
      "0.9843186060587565 \n",
      "\n",
      "Runtime of Cheb method ignoring construction of Cheb Diff. matrix\n",
      "0.003127320607503255 \n",
      "\n"
     ]
    }
   ],
   "source": [
    "Lbc = 0\n",
    "Rbc = 0\n",
    "N = 100\n",
    "rhs = lambda x: sin(8*x)\n",
    "xlin = linspace(-1,1,N)\n",
    "xcheb = chebspace(N)\n",
    "\n",
    "trials = 15\n",
    "avg1,avg2,avg3,avg4 = 0,0,0,0\n",
    "for jj in range(0,trials): #Algorithm will take about half a minute.\n",
    "    start_time = time.time()\n",
    "    G = rhs(xlin[1:N-1])\n",
    "    G[0] = np.copy(G[0]) - Lbc/h**2\n",
    "    G[N-3] = np.copy(G[N-3]) - Rbc/h**2 - 4*Lbc/h\n",
    "    fd_sp = appendBC(solve_for_U_sp(xlin,G))\n",
    "    end_time = time.time()\n",
    "    avg1+=(end_time-start_time)\n",
    "\n",
    "    start_time = time.time()\n",
    "    G = rhs(xlin[1:N-1])\n",
    "    G[0] = np.copy(G[0]) - Lbc/h**2\n",
    "    G[N-3] = np.copy(G[N-3]) - Rbc/h**2 - 4*Lbc/h\n",
    "    fd = appendBC(solve_for_U(xlin,G))\n",
    "    end_time = time.time()\n",
    "    avg2+=(end_time-start_time)\n",
    "\n",
    "    start_time = time.time()\n",
    "    Dn = chebdiffmat(xcheb)\n",
    "    G = rhs(xcheb)\n",
    "    A = 4*Dn + Dn@Dn + np.diag(exp(xcheb))\n",
    "    cheb = appendBC(np.linalg.solve(A,G)[1:N-1])\n",
    "    end_time = time.time()\n",
    "    avg3+=(end_time-start_time)\n",
    "\n",
    "    start_time = time.time()\n",
    "    G = rhs(xcheb)\n",
    "    A = 4*Dn + Dn@Dn + np.diag(exp(xcheb))\n",
    "    cheb = appendBC(np.linalg.solve(A,G)[1:N-1])\n",
    "    end_time = time.time()\n",
    "    avg4+=(end_time-start_time)\n",
    "print(\"Runtime of FD method using sparse matrices\")\n",
    "print(avg1/trials,\"\\n\")\n",
    "print(\"Runtime of FD method using dense matrices\")\n",
    "print(avg2/trials,\"\\n\")\n",
    "print(\"Runtime of Cheb method\")\n",
    "print(avg3/trials,\"\\n\")\n",
    "print(\"Runtime of Cheb method ignoring construction of Cheb Diff. matrix\")\n",
    "print(avg4/trials,\"\\n\")"
   ]
  },
  {
   "cell_type": "markdown",
   "metadata": {},
   "source": [
    "Evidently, my construction of the Chebyshev Differentiation matrix is an atrocity (it involves three loops after all). Regardless, even without including the time taken for the construction of the Cheb Diff. matrix into the runtime of the Cheb method, the most efficient variant of the FD method (using sparse matrices) is faster than the Cheb method. Granted, when dense matrices are used in the FD method it becomes slower than the Cheb method. Yet, a major advantage of the FD method is precisely that it uses sparse matrices and hence allows one to capitalise on their efficiency. The Cheb method on the other hand involves Cheb Diff. matrices which are dense."
   ]
  },
  {
   "cell_type": "markdown",
   "metadata": {},
   "source": [
    "## Q4"
   ]
  },
  {
   "cell_type": "code",
   "execution_count": 13,
   "metadata": {},
   "outputs": [],
   "source": [
    "def InvPwrMtd(A,mu):\n",
    "    m,n = np.shape(A)\n",
    "    x0 = np.random.random(n)\n",
    "    x0 = np.copy(x0/np.linalg.norm(x0,ord=2))\n",
    "    Q,R = sc.linalg.qr(A - mu*np.eye(n))\n",
    "    for k in range(0,n):\n",
    "        x1 = sc.linalg.solve_triangular(R,np.matmul(np.matrix.getH(Q),x0))\n",
    "        x1 = np.copy(x1/np.linalg.norm(x1,ord=2))\n",
    "        x0 = x1\n",
    "    return np.matmul(np.matmul(np.matrix.getH(x1),A),x1), x1"
   ]
  },
  {
   "cell_type": "code",
   "execution_count": 14,
   "metadata": {},
   "outputs": [
    {
     "name": "stdout",
     "output_type": "stream",
     "text": [
      "Singular matrix in solver!\n"
     ]
    }
   ],
   "source": [
    "A = np.diag([4,3,2])\n",
    "try: InvPwrMtd(A,4) \n",
    "except: print(\"Singular matrix in solver!\")"
   ]
  },
  {
   "cell_type": "markdown",
   "metadata": {},
   "source": [
    "When we input an exact eigenvalue, the matrix in the solver (sc.linalg.solve_triangular) is singular and the method fails. This can be resolved by returning the eigenvalue if the matrix is found to be singular, though a separate method will be required to solve for the eigenvector."
   ]
  },
  {
   "cell_type": "code",
   "execution_count": 15,
   "metadata": {},
   "outputs": [],
   "source": [
    "def InvPwrMtd_edit(A,mu): #This edited version of the algorithm attempts to deal with the singular matrix that is formed when an exact eigenvalue is inputed.\n",
    "    m,n = np.shape(A)\n",
    "    x0 = np.random.random(n)\n",
    "    x0 = np.copy(x0/np.linalg.norm(x0,ord=2))\n",
    "    Q,R = sc.linalg.qr(A - mu*np.eye(n))\n",
    "    for k in range(0,n):\n",
    "        try:\n",
    "            x1 = sc.linalg.solve_triangular(R,np.matmul(np.matrix.getH(Q),x0))\n",
    "        except:\n",
    "            return mu, np.empty(n)\n",
    "        x1 = np.copy(x1/np.linalg.norm(x1,ord=2))\n",
    "        x0 = x1\n",
    "    return np.matmul(np.matmul(np.matrix.getH(x1),A),x1), x1"
   ]
  },
  {
   "cell_type": "code",
   "execution_count": 16,
   "metadata": {},
   "outputs": [
    {
     "data": {
      "text/plain": [
       "(3, array([4.89124989e-322, 1.97626258e-323, 3.71349264e-312]))"
      ]
     },
     "execution_count": 16,
     "metadata": {},
     "output_type": "execute_result"
    }
   ],
   "source": [
    "A = np.diag([4,3,2])\n",
    "InvPwrMtd_edit(A,3) #It works, though it fails to find the eigenvector."
   ]
  },
  {
   "cell_type": "code",
   "execution_count": 17,
   "metadata": {},
   "outputs": [
    {
     "name": "stdout",
     "output_type": "stream",
     "text": [
      "Eigenvalue = 3.8152967227169134\n",
      "Eigenvalue = 3.534541399780117\n",
      "Eigenvalue = 3.997016911553169\n",
      "Eigenvalue = 3.499142992492133\n",
      "Eigenvalue = 3.979443443551571\n",
      "Eigenvalue = 3.997576401847119\n",
      "Eigenvalue = 3.9137733037013356\n",
      "Eigenvalue = 3.4516347880973677\n",
      "Eigenvalue = 3.7990367661580393\n",
      "Eigenvalue = 3.9998350849731783\n",
      "Eigenvalue = 3.9463916072525134\n",
      "Eigenvalue = 3.97997696817545\n",
      "Eigenvalue = 3.8247336708986026\n",
      "Eigenvalue = 3.9305531994951655\n",
      "Eigenvalue = 3.9486576715977537\n",
      "Eigenvalue = 3.976436692414702\n",
      "Eigenvalue = 3.710449246764741\n",
      "Eigenvalue = 3.996968952738506\n",
      "Eigenvalue = 3.8770152599079477\n",
      "Eigenvalue = 3.972330245458339\n",
      "Eigenvalue = 3.917725080755413\n",
      "Eigenvalue = 3.962919573773416\n",
      "Eigenvalue = 3.555889052996059\n",
      "Eigenvalue = 3.999455268768527\n",
      "Eigenvalue = 3.865805168183628\n",
      "Eigenvalue = 3.9985946069048572\n",
      "Eigenvalue = 3.9919004106792793\n",
      "Eigenvalue = 3.9590788059685735\n",
      "Eigenvalue = 3.994280388880504\n",
      "Eigenvalue = 3.9997692934599804\n",
      "Eigenvalue = 3.955954173059825\n",
      "Eigenvalue = 3.947941294519048\n",
      "Eigenvalue = 3.9829333323239546\n",
      "Eigenvalue = 3.9823828402519443\n",
      "Eigenvalue = 3.9820612388800467\n",
      "Eigenvalue = 3.98913537370403\n",
      "Eigenvalue = 3.046972559590984\n",
      "Eigenvalue = 3.08891523642834\n",
      "Eigenvalue = 3.9880842224640616\n",
      "Eigenvalue = 3.186389664348564\n",
      "Eigenvalue = 3.9572946373652464\n",
      "Eigenvalue = 3.8382376873368758\n",
      "Eigenvalue = 3.912411821921591\n",
      "Eigenvalue = 3.5597885655668167\n",
      "Eigenvalue = 3.9027184890365363\n",
      "Eigenvalue = 3.981691254003514\n",
      "Eigenvalue = 3.933476839685807\n",
      "Eigenvalue = 3.8169685254871712\n",
      "Eigenvalue = 3.4268874555670834\n",
      "Eigenvalue = 3.9986370631011265\n",
      "Eigenvalue = 3.3370151843596045\n",
      "Eigenvalue = 3.6734561536118466\n",
      "Eigenvalue = 3.9828762507665156\n",
      "Eigenvalue = 3.975935052061899\n",
      "Eigenvalue = 3.9209355248877276\n",
      "Eigenvalue = 3.7675583655071927\n",
      "Eigenvalue = 3.9837748755627924\n",
      "Eigenvalue = 3.8445081480235075\n",
      "Eigenvalue = 3.9843285329344056\n",
      "Eigenvalue = 3.9721599175218847\n",
      "Eigenvalue = 3.9007590025946306\n",
      "Eigenvalue = 3.6971954089902765\n",
      "Eigenvalue = 3.8291985475380916\n",
      "Eigenvalue = 3.9372199948372586\n",
      "Eigenvalue = 3.9806100876245805\n",
      "Eigenvalue = 3.9572717128159183\n",
      "Eigenvalue = 3.977066635127226\n",
      "Eigenvalue = 3.5964851571638667\n",
      "Eigenvalue = 3.9966871268643445\n",
      "Eigenvalue = 3.982606493786061\n",
      "Eigenvalue = 3.5129091475589656\n",
      "Eigenvalue = 3.9201067512421672\n",
      "Eigenvalue = 3.9659933752616814\n",
      "Eigenvalue = 3.8231637331390016\n",
      "Eigenvalue = 3.9156120720746643\n",
      "Eigenvalue = 3.9954744379337828\n",
      "Eigenvalue = 3.9997686111535473\n",
      "Eigenvalue = 3.999074629296259\n",
      "Eigenvalue = 3.6420546020076516\n",
      "Eigenvalue = 3.9337517467967844\n",
      "Eigenvalue = 3.654426660175884\n",
      "Eigenvalue = 3.944944412752739\n",
      "Eigenvalue = 3.7951934039111053\n",
      "Eigenvalue = 3.848382279718287\n",
      "Eigenvalue = 3.7472646147967024\n",
      "Eigenvalue = 3.9960276815280595\n",
      "Eigenvalue = 3.995457932912557\n",
      "Eigenvalue = 3.5686125770795525\n",
      "Eigenvalue = 3.7800503275232553\n",
      "Eigenvalue = 3.880606842226765\n",
      "Eigenvalue = 3.9963300129699473\n",
      "Eigenvalue = 3.8623722977068677\n",
      "Eigenvalue = 3.7597825202233404\n",
      "Eigenvalue = 3.9610394013001047\n",
      "Eigenvalue = 3.982353993860353\n",
      "Eigenvalue = 3.9902219876461262\n",
      "Eigenvalue = 3.7539332597572805\n",
      "Eigenvalue = 3.9551875487159633\n",
      "Eigenvalue = 3.801942520474883\n",
      "Eigenvalue = 3.969817020684794\n",
      "Eigenvalue = 3.9071205682584327\n",
      "Eigenvalue = 3.5906162619613102\n",
      "Eigenvalue = 3.0965263333369193\n",
      "Eigenvalue = 3.880902087331415\n",
      "Eigenvalue = 3.9250543001185796\n",
      "Eigenvalue = 3.9768961809917776\n",
      "Eigenvalue = 3.89579127084299\n",
      "Eigenvalue = 3.001804883109089\n",
      "Eigenvalue = 3.991012325124404\n",
      "Eigenvalue = 3.994500266241971\n",
      "Eigenvalue = 3.501598245525795\n",
      "Eigenvalue = 3.8757541104772417\n",
      "Eigenvalue = 3.982273243562012\n",
      "Eigenvalue = 3.9441802017957928\n",
      "Eigenvalue = 3.8618688238884658\n",
      "Eigenvalue = 3.9770531334405437\n",
      "Eigenvalue = 3.981233440419347\n",
      "Eigenvalue = 3.6200286149203698\n",
      "Eigenvalue = 3.930323076385111\n",
      "Eigenvalue = 3.957170519917144\n",
      "Eigenvalue = 3.892070782027295\n",
      "Eigenvalue = 3.6551600572354173\n",
      "Eigenvalue = 3.994628488504447\n",
      "Eigenvalue = 3.9229740641192925\n",
      "Eigenvalue = 3.7631440936503466\n",
      "Eigenvalue = 3.9997384124575044\n",
      "Eigenvalue = 3.912013144940946\n",
      "Eigenvalue = 3.846180283300967\n",
      "Eigenvalue = 3.7672939497331313\n",
      "Eigenvalue = 3.866875338436999\n",
      "Eigenvalue = 3.0291183552616614\n",
      "Eigenvalue = 3.9935177581900123\n",
      "Eigenvalue = 3.9889015153048217\n",
      "Eigenvalue = 3.989463300181604\n",
      "Eigenvalue = 3.6595852323158904\n",
      "Eigenvalue = 3.941184607088752\n",
      "Eigenvalue = 3.863166002930408\n",
      "Eigenvalue = 3.908217086476233\n",
      "Eigenvalue = 3.961706402738353\n",
      "Eigenvalue = 3.9328017128202912\n",
      "Eigenvalue = 3.99478255536967\n",
      "Eigenvalue = 3.9435524718020325\n",
      "Eigenvalue = 3.987334673686662\n",
      "Eigenvalue = 2.990779038741363\n",
      "Eigenvalue = 3.7045265715987927\n",
      "Eigenvalue = 3.9284006753096388\n",
      "Eigenvalue = 3.5728090381172826\n",
      "Eigenvalue = 3.5396108221115203\n",
      "Eigenvalue = 3.174847252358788\n",
      "Eigenvalue = 3.567856378671874\n",
      "Eigenvalue = 3.4891468392325558\n",
      "Eigenvalue = 3.206543474546784\n",
      "Eigenvalue = 3.8296023665241563\n",
      "Eigenvalue = 3.4213888305411295\n",
      "Eigenvalue = 3.9902731604422654\n",
      "Eigenvalue = 3.8669306782029453\n",
      "Eigenvalue = 3.9707832642622805\n",
      "Eigenvalue = 3.245653983625908\n",
      "Eigenvalue = 3.7861655051340106\n",
      "Eigenvalue = 3.9981569676080935\n",
      "Eigenvalue = 3.9724724196435397\n",
      "Eigenvalue = 3.994865957326567\n",
      "Eigenvalue = 3.959076632794709\n",
      "Eigenvalue = 3.9985776453903923\n",
      "Eigenvalue = 3.4782593214055706\n",
      "Eigenvalue = 3.9806049929311205\n",
      "Eigenvalue = 3.37619099706122\n",
      "Eigenvalue = 3.6432909109836653\n",
      "Eigenvalue = 3.901535913814526\n",
      "Eigenvalue = 3.9991123527675683\n",
      "Eigenvalue = 3.992815041290357\n",
      "Eigenvalue = 3.3064956214656824\n",
      "Eigenvalue = 3.9114865905547394\n",
      "Eigenvalue = 3.6748886307425996\n",
      "Eigenvalue = 3.9642943406810063\n",
      "Eigenvalue = 3.958665070098595\n",
      "Eigenvalue = 3.7453086317199777\n",
      "Eigenvalue = 3.9829607166840226\n",
      "Eigenvalue = 3.1608111264297403\n",
      "Eigenvalue = 3.5258163098585276\n",
      "Eigenvalue = 3.9998530224184083\n",
      "Eigenvalue = 3.982037117327958\n",
      "Eigenvalue = 3.9024572633828094\n",
      "Eigenvalue = 3.9651787751417302\n",
      "Eigenvalue = 3.8836720179858006\n",
      "Eigenvalue = 3.938786242812028\n",
      "Eigenvalue = 3.6628698081539914\n",
      "Eigenvalue = 3.7970689466039835\n",
      "Eigenvalue = 3.892303169079252\n",
      "Eigenvalue = 3.896951725941865\n",
      "Eigenvalue = 3.7848247465635816\n",
      "Eigenvalue = 3.9260821682330778\n",
      "Eigenvalue = 3.7544333657974516\n",
      "Eigenvalue = 3.91800304038775\n",
      "Eigenvalue = 3.962865364521107\n",
      "Eigenvalue = 3.828501365929491\n",
      "Eigenvalue = 3.8370055083192045\n",
      "Eigenvalue = 3.887149734550988\n",
      "Eigenvalue = 3.9983972960978766\n",
      "Eigenvalue = 3.8051733949675333\n"
     ]
    }
   ],
   "source": [
    "A = np.diag([4,3,2])\n",
    "for kk in range(0,200):\n",
    "    print(\"Eigenvalue =\",InvPwrMtd(A,3.6)[0]) #The eigenvalue returned fluctuates significantly due to the random initial guess."
   ]
  },
  {
   "cell_type": "code",
   "execution_count": 18,
   "metadata": {},
   "outputs": [
    {
     "data": {
      "text/plain": [
       "[<matplotlib.lines.Line2D at 0x1d357eb2908>]"
      ]
     },
     "execution_count": 18,
     "metadata": {},
     "output_type": "execute_result"
    },
    {
     "data": {
      "image/png": "[encoded data removed]",
      "text/plain": [
       "<Figure size 1440x720 with 1 Axes>"
      ]
     },
     "metadata": {
      "needs_background": "light"
     },
     "output_type": "display_data"
    }
   ],
   "source": [
    "A = np.diag([4,3,2])\n",
    "N = 200\n",
    "\n",
    "e = np.empty(N)\n",
    "q = linspace(2,4,N)\n",
    "for kk in range(0,N):\n",
    "    e[kk] = InvPwrMtd_edit(A,q[kk])[0]\n",
    "plt.figure(figsize=(20,10))\n",
    "plt.title(\"Testing InvPwrMtd using 200 mu values and a 3X3 matrix\", fontsize = 14)\n",
    "plt.xlabel(\"mu\", fontsize = 14)\n",
    "plt.ylabel(\"eigenvalue\", fontsize = 14)\n",
    "plt.plot(q,e)"
   ]
  },
  {
   "cell_type": "markdown",
   "metadata": {},
   "source": [
    "Input of mu values in a sufficiently small neighbourhood around an eigenvalue will cause the algorithm to accurately return that eigenvalue. However, if the mu inputed is too far from any eigenvalue, the algorithm will not be able to accurately find the closest eigenvalue to mu."
   ]
  },
  {
   "cell_type": "code",
   "execution_count": 19,
   "metadata": {},
   "outputs": [
    {
     "data": {
      "text/plain": [
       "[<matplotlib.lines.Line2D at 0x1d357f23eb8>]"
      ]
     },
     "execution_count": 19,
     "metadata": {},
     "output_type": "execute_result"
    },
    {
     "data": {
      "image/png": "[encoded data removed]",
      "text/plain": [
       "<Figure size 1440x720 with 1 Axes>"
      ]
     },
     "metadata": {
      "needs_background": "light"
     },
     "output_type": "display_data"
    }
   ],
   "source": [
    "A = np.diag(linspace(1,10,10))\n",
    "N = 200\n",
    "\n",
    "e = np.empty(N)\n",
    "q = linspace(1,10,N)\n",
    "for kk in range(0,N):\n",
    "    e[kk],u = InvPwrMtd_edit(A,q[kk])\n",
    "plt.figure(figsize=(20,10))\n",
    "plt.title(\"Testing InvPwrMtd using 200 mu values and a 10X10 matrix\", fontsize = 14)\n",
    "plt.xlabel(\"mu\", fontsize = 14)\n",
    "plt.ylabel(\"eigenvalue\", fontsize = 14)\n",
    "plt.plot(q,e)"
   ]
  },
  {
   "cell_type": "markdown",
   "metadata": {},
   "source": [
    "The algorithm is a lot more accurate when the matrix used is larger. It is likely that the larger the matrix is, the larger the neighbourhood around each eigenvalue in which a mu value inputed can have the algorithm accurately return the closest eigenvalue to mu."
   ]
  },
  {
   "cell_type": "code",
   "execution_count": 20,
   "metadata": {},
   "outputs": [
    {
     "data": {
      "text/plain": [
       "[<matplotlib.lines.Line2D at 0x1d358247c88>]"
      ]
     },
     "execution_count": 20,
     "metadata": {},
     "output_type": "execute_result"
    },
    {
     "data": {
      "image/png": "[encoded data removed]",
      "text/plain": [
       "<Figure size 1440x720 with 1 Axes>"
      ]
     },
     "metadata": {
      "needs_background": "light"
     },
     "output_type": "display_data"
    }
   ],
   "source": [
    "A = np.diag(linspace(1,10,10))\n",
    "N = 1000\n",
    "\n",
    "e = np.empty(N)\n",
    "q = linspace(1,10,N)\n",
    "for kk in range(0,N):\n",
    "    e[kk],u = InvPwrMtd_edit(A,q[kk])\n",
    "plt.figure(figsize=(20,10))\n",
    "plt.title(\"Testing InvPwrMtd using 1000 mu values and a 10X10 matrix\", fontsize = 14)\n",
    "plt.xlabel(\"mu\", fontsize = 14)\n",
    "plt.ylabel(\"eigenvalue\", fontsize = 14)\n",
    "plt.plot(q,e)"
   ]
  },
  {
   "cell_type": "markdown",
   "metadata": {},
   "source": [
    "Nonetheless, with a finer grid, we can see that some fluctuation persists near the midpoint between two eigenvalues."
   ]
  },
  {
   "cell_type": "markdown",
   "metadata": {},
   "source": [
    "## Q5"
   ]
  },
  {
   "cell_type": "code",
   "execution_count": 21,
   "metadata": {},
   "outputs": [],
   "source": [
    "def QR_algorithm2(A,N,tol=1e-8):\n",
    "    m,n = np.shape(A)\n",
    "    if n == 1:\n",
    "        return A[0][0]\n",
    "    if n == 2:\n",
    "        alpha = np.matrix.trace(A[0:2,0:2])\n",
    "        beta = np.linalg.det(A[0:2,0:2])\n",
    "        eig1 = 0.5*(alpha+np.sqrt(alpha**2 - 4*beta + 0j))\n",
    "        eig2 = 0.5*(alpha-np.sqrt(alpha**2 - 4*beta + 0j))\n",
    "        return eig1, eig2\n",
    "    S = sc.linalg.hessenberg(A)\n",
    "    for k in range(0,N):\n",
    "        mu = np.copy(S[n-1,n-1])\n",
    "        Q,R = np.linalg.qr(S-mu*np.eye(n))\n",
    "        S = np.matmul(R,Q) + mu*np.eye(n)\n",
    "        for j in range(0,m-1):\n",
    "            if abs(S[j,j+1]) < tol:\n",
    "                S[j,j+1] = S[j+1,j] = 0\n",
    "    return QR_algorithm2(S[0:m//2,0:n//2],N), QR_algorithm2(S[m//2:,n//2:],N)"
   ]
  },
  {
   "cell_type": "markdown",
   "metadata": {},
   "source": [
    "### Gram-Schmidt Solver Implemented in Class"
   ]
  },
  {
   "cell_type": "code",
   "execution_count": 22,
   "metadata": {},
   "outputs": [],
   "source": [
    "def QR_GS_modified(A): #This uses a modified version of Gram-Schmitz which avoids possible numerical instability.\n",
    "    n = np.shape(A)\n",
    "    Q = np.zeros((n[0],n[1]))\n",
    "    R = np.zeros((n[1],n[1]))\n",
    "    S = np.copy(A)*1.0\n",
    "    for j in range(0,n[1]):\n",
    "        R[j,j] = np.linalg.norm(S[:,j])\n",
    "        Q[:,j] = S[:,j]/R[j,j]\n",
    "        for i in range(j+1,n[1]):\n",
    "            R[j,i] = np.matmul(np.matrix.getH(Q[:,j]),A[:,i])\n",
    "            S[:,i] -= R[j,i]*Q[:,j]\n",
    "    return Q, R\n",
    "\n",
    "def QREig_GS(A, maxiter = 1000, tol = 1e-8, printiter = False):\n",
    "    n = np.shape(A)[0]\n",
    "    eig = np.empty(n, dtype = \"cfloat\")\n",
    "    if n == 1:\n",
    "        return A[0,0]\n",
    "    if n == 2:\n",
    "        alpha = np.matrix.trace(A[0:2,0:2])\n",
    "        beta = np.linalg.det(A[0:2,0:2])\n",
    "        eig[0] = 0.5*(alpha+np.sqrt(alpha**2 - 4*beta + 0j))\n",
    "        eig[1] = 0.5*(alpha-np.sqrt(alpha**2 - 4*beta + 0j))\n",
    "        return eig\n",
    "    if n == 3:\n",
    "        for j in range(1,50):\n",
    "            AO = A\n",
    "            Q,R = QR_GS_modified(A)\n",
    "            A = np.matmul(R,Q)\n",
    "    for j in range(1,maxiter):\n",
    "        AO = A\n",
    "        Q,R = QR_GS_modified(A)\n",
    "        A = np.matmul(R,Q)\n",
    "        if np.linalg.norm(np.tril(A,-2),ord=np.inf) < tol:\n",
    "            i = 0\n",
    "            while i < n-1:\n",
    "                if abs(A[i+1,i]) < tol**0.5:\n",
    "                    eig[i] = A[i,i]\n",
    "                    i += 1\n",
    "                else:\n",
    "                    alpha = np.matrix.trace(A[i:(i+2),i:(i+2)])\n",
    "                    beta = np.linalg.det(A[i:(i+2),i:(i+2)])\n",
    "                    im = np.sqrt(alpha**2 - 4*beta + 0j)\n",
    "                    eig[i] = 0.5*(alpha+im)\n",
    "                    eig[i+1] = 0.5*(alpha-im)\n",
    "                    i += 2\n",
    "            if i >= n:\n",
    "                if printiter == True:\n",
    "                    print(\"Iterations used =\",j)\n",
    "                return eig\n",
    "            else:\n",
    "                eig[n-1] = A[n-1,n-1]\n",
    "                if printiter == True:\n",
    "                    print(\"Iterations used =\",j)\n",
    "                return eig"
   ]
  },
  {
   "cell_type": "code",
   "execution_count": 23,
   "metadata": {},
   "outputs": [
    {
     "name": "stdout",
     "output_type": "stream",
     "text": [
      "Eigenvalues from Numpy's Eigenvalue solver\n",
      "[1.02778941e+01 7.64921079e-01 4.99997758e-01 2.40012632e-01\n",
      " 3.39659556e-03 5.12389390e-02] \n",
      "\n",
      "Eigenvalues from the Gram-Schmidt solver\n",
      "Iterations used = 16\n",
      "[1.02778941e+01+0.j 7.64921079e-01+0.j 4.99997758e-01+0.j\n",
      " 2.40012632e-01+0.j 5.12389390e-02+0.j 3.39659556e-03+0.j] \n",
      "\n",
      "Eigenvalues from the Single-Shift Algorithm\n",
      "((10.277894106261057, ((0.7649186755718211+0j), (0.022719698575052794+0j))), (0.4862193119528558, ((0.2400126324286635+0j), (0.0456966852263546+0j)))) \n",
      "\n"
     ]
    }
   ],
   "source": [
    "B = np.random.random((6,6))\n",
    "A = np.matrix.getH(B)@B #We want a random but symmetric matrix\n",
    "print(\"Eigenvalues from Numpy's Eigenvalue solver\")\n",
    "print(np.linalg.eig(A)[0],\"\\n\")\n",
    "print(\"Eigenvalues from the Gram-Schmidt solver\")\n",
    "print(QREig_GS(A,printiter=True),\"\\n\")\n",
    "print(\"Eigenvalues from the Single-Shift Algorithm\")\n",
    "print(QR_algorithm2(A,5),\"\\n\") #5 iterations seem insufficient"
   ]
  },
  {
   "cell_type": "code",
   "execution_count": 24,
   "metadata": {},
   "outputs": [
    {
     "name": "stdout",
     "output_type": "stream",
     "text": [
      "Eigenvalues from Numpy's Eigenvalue solver\n",
      "[11.25354832  1.37074715  0.80124868  0.57291194  0.18676328  0.06632776] \n",
      "\n",
      "Eigenvalues from the Gram-Schmidt solver\n",
      "Iterations used = 20\n",
      "[11.25354832+0.j  1.37074714+0.j  0.80124869+0.j  0.57291194+0.j\n",
      "  0.18676328+0.j  0.06632776+0.j] \n",
      "\n",
      "Eigenvalues from the Single-Shift Algorithm\n",
      "((11.25354832195505, ((1.3707471421252753+0j), (0.8000129097230418+0j))), (0.5741477209403287, ((0.18676327905666534+0j), (0.06632776487058106+0j)))) \n",
      "\n"
     ]
    }
   ],
   "source": [
    "B = np.random.random((6,6))\n",
    "A = np.matrix.getH(B)@B #We want a random but symmetric matrix\n",
    "print(\"Eigenvalues from Numpy's Eigenvalue solver\")\n",
    "print(np.linalg.eig(A)[0],\"\\n\")\n",
    "print(\"Eigenvalues from the Gram-Schmidt solver\")\n",
    "print(QREig_GS(A,printiter=True),\"\\n\")\n",
    "print(\"Eigenvalues from the Single-Shift algorithm\")\n",
    "print(QR_algorithm2(A,10),\"\\n\") #10 iterations appears to be sufficient"
   ]
  },
  {
   "cell_type": "code",
   "execution_count": 25,
   "metadata": {},
   "outputs": [
    {
     "name": "stdout",
     "output_type": "stream",
     "text": [
      "Eigenvalues from Numpy's Eigenvalue solver\n",
      "[1.02588623e+02 5.44888279e+00 4.45144643e+00 4.02169610e+00\n",
      " 3.54104657e+00 2.61027517e+00 2.46018000e+00 2.18748082e+00\n",
      " 1.62026611e+00 1.52113463e+00 1.09764245e+00 8.93036012e-01\n",
      " 6.92649503e-01 4.01083118e-01 3.44740807e-01 1.98483066e-01\n",
      " 1.42290282e-01 4.16334338e-02 8.18534156e-03 7.22617630e-04] \n",
      "\n",
      "Eigenvalues from the Gram-Schmidt solver\n",
      "Iterations used = 106\n",
      "[1.02588623e+02+0.j 5.44888279e+00+0.j 4.45144643e+00+0.j\n",
      " 4.02169610e+00+0.j 3.54104657e+00+0.j 2.61027517e+00+0.j\n",
      " 2.46018000e+00+0.j 2.18748082e+00+0.j 1.62026611e+00+0.j\n",
      " 1.52113463e+00+0.j 1.09764245e+00+0.j 8.93036012e-01+0.j\n",
      " 6.92649503e-01+0.j 4.01083118e-01+0.j 3.44740807e-01+0.j\n",
      " 1.98483066e-01+0.j 1.42290282e-01+0.j 4.16334338e-02+0.j\n",
      " 8.18534156e-03+0.j 7.22617630e-04+0.j] \n",
      "\n",
      "Eigenvalues from the Single-Shift Algorithm\n",
      "(((((102.58862300116331+0j), (5.448882794581699+0j)), (4.451446427930778, ((4.021696102457686+0j), (3.54104657097213+0j)))), (((2.610275174863753+0j), (2.4601799950608503+0j)), (2.187480812896662, ((1.6200774286855888+0j), (1.5206367201735957+0j))))), ((((1.0983284386789265+0j), (0.8930366241362192+0j)), (0.6926495033797352, ((0.40108311806467933+0j), (0.344740806508833+0j)))), (((0.19848306591175183+0j), (0.14229028186262596+0j)), (0.04163343380491486, ((0.008185341559360465+0j), (0.0007226176295881989+0j)))))) \n",
      "\n"
     ]
    }
   ],
   "source": [
    "B = np.random.random((20,20))\n",
    "A = np.matrix.getH(B)@B #We want a random but symmetric matrix\n",
    "print(\"Eigenvalues from Numpy's Eigenvalue solver\")\n",
    "print(np.linalg.eig(A)[0],\"\\n\")\n",
    "print(\"Eigenvalues from the Gram-Schmidt solver\")\n",
    "print(QREig_GS(A,printiter=True),\"\\n\")\n",
    "print(\"Eigenvalues from the Single-Shift algorithm\")\n",
    "print(QR_algorithm2(A,20),\"\\n\") #20 iterations appears to be sufficient"
   ]
  },
  {
   "cell_type": "markdown",
   "metadata": {},
   "source": [
    "Running the algorithms multiple times for random 6X6 matrices, we can see that both the Gram-Schmidt solver and the Single-Shift algorithm have similar accuracy."
   ]
  },
  {
   "cell_type": "code",
   "execution_count": 26,
   "metadata": {},
   "outputs": [
    {
     "name": "stdout",
     "output_type": "stream",
     "text": [
      "For a 6X6 matrix:\n",
      "\n",
      "Runtime of Numpy's Eigenvalue solver\n",
      "35.4 µs ± 3.67 µs per loop (mean ± std. dev. of 7 runs, 10000 loops each)\n",
      "\n",
      "Runtime of the Gram-Schmidt solver\n",
      "2.75 ms ± 243 µs per loop (mean ± std. dev. of 7 runs, 100 loops each)\n",
      "\n",
      "Runtime of the Single-Shift algorithm\n",
      "2.31 ms ± 36.1 µs per loop (mean ± std. dev. of 7 runs, 100 loops each)\n"
     ]
    }
   ],
   "source": [
    "B = np.random.random((6,6))\n",
    "A = np.matrix.getH(B)@B #We want a random but symmetric matrix\n",
    "print(\"For a 6X6 matrix:\")\n",
    "print()\n",
    "print(\"Runtime of Numpy's Eigenvalue solver\")\n",
    "%timeit np.linalg.eig(A)[0]\n",
    "print()\n",
    "print(\"Runtime of the Gram-Schmidt solver\")\n",
    "%timeit QREig_GS(A)\n",
    "print()\n",
    "print(\"Runtime of the Single-Shift algorithm\")\n",
    "%timeit QR_algorithm2(A,10)"
   ]
  },
  {
   "cell_type": "code",
   "execution_count": 27,
   "metadata": {},
   "outputs": [
    {
     "name": "stdout",
     "output_type": "stream",
     "text": [
      "For a 20X20 matrix:\n",
      "\n",
      "Runtime of Numpy's Eigenvalue solver\n",
      "114 µs ± 2.43 µs per loop (mean ± std. dev. of 7 runs, 10000 loops each)\n",
      "\n",
      "Runtime of the Gram-Schmidt solver\n",
      "168 ms ± 11.8 ms per loop (mean ± std. dev. of 7 runs, 10 loops each)\n",
      "\n",
      "Runtime of the Single-Shift algorithm\n",
      "17 ms ± 651 µs per loop (mean ± std. dev. of 7 runs, 100 loops each)\n"
     ]
    }
   ],
   "source": [
    "B = np.random.random((20,20))\n",
    "A = np.matrix.getH(B)@B #We want a random but symmetric matrix\n",
    "print(\"For a 20X20 matrix:\")\n",
    "print()\n",
    "print(\"Runtime of Numpy's Eigenvalue solver\")\n",
    "%timeit np.linalg.eig(A)[0]\n",
    "print()\n",
    "print(\"Runtime of the Gram-Schmidt solver\")\n",
    "%timeit QREig_GS(A)\n",
    "print()\n",
    "print(\"Runtime of the Single-Shift algorithm\")\n",
    "%timeit QR_algorithm2(A,20)"
   ]
  },
  {
   "cell_type": "markdown",
   "metadata": {},
   "source": [
    "It is difficult to determine how many iterations are required by the Single-Shift algorithm to produce an accurate result; we simply used trial and error. \n",
    "\n",
    "For small matrices, the number of iterations required by the Gram-Schmidt and Single-Shift algorithms appear to be similar, hence, their runtimes are comparable. However, when the matrix is large, the Gram-Schmidt method requires far more iterations than the Single-Shift method. Both algorithms require around a dozen iterations for a 6X6 matrix, but when the matrix is 20X20, the Gram-Schmidt algorithm requires hundreds of iterations, whereas the Single-Shift algorithm only requires 20 iterations. Therefore, it seems like the number of iterations required grows with the size of the matrix much more quickly for the Gram-Schmidt algorithm than the Single-Shift algorithm.\n",
    "\n",
    "In summary, the Gram-Schmidt algorithm may be more convenient to use for small matrices. However, for large matrices, the Single-Shift algorithm will be much faster."
   ]
  }
 ],
 "metadata": {
  "kernelspec": {
   "display_name": "Python 3",
   "language": "python",
   "name": "python3"
  },
  "language_info": {
   "codemirror_mode": {
    "name": "ipython",
    "version": 3
   },
   "file_extension": ".py",
   "mimetype": "text/x-python",
   "name": "python",
   "nbconvert_exporter": "python",
   "pygments_lexer": "ipython3",
   "version": "3.6.7"
  }
 },
 "nbformat": 4,
 "nbformat_minor": 2
}
