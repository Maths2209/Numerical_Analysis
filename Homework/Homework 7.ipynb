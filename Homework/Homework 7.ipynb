{
 "cells": [
  {
   "cell_type": "markdown",
   "metadata": {},
   "source": [
    "# Homework 7\n",
    "\n",
    "## by Dion Ho\n",
    "\n",
    "\n",
    "# Import Python Libraries"
   ]
  },
  {
   "cell_type": "code",
   "execution_count": 1,
   "metadata": {},
   "outputs": [],
   "source": [
    "import numpy as np\n",
    "import math\n",
    "import scipy as sc\n",
    "import time\n",
    "from scipy import sparse as sp\n",
    "from scipy.sparse.linalg import spsolve\n",
    "from numpy import sin, cos, linspace, exp\n",
    "from math import pi\n",
    "from math import factorial\n",
    "from matplotlib import pyplot as plt"
   ]
  },
  {
   "cell_type": "markdown",
   "metadata": {},
   "source": [
    "## Q1"
   ]
  },
  {
   "cell_type": "markdown",
   "metadata": {},
   "source": [
    "\\begin{align*}\n",
    "[D_N]_{i,j} &= L'_j(x_i) \\\\\n",
    "&= L_j(x_i)\\sum_{k=0,k\\neq j}^N \\frac{1}{x_i - x_k} \\\\\n",
    "&= \\frac{1}{a_j}\\prod_{k=0,k\\neq j}^N (x_i - x_k)\\sum_{k=0,k\\neq j}^N \\frac{1}{x_i - x_k} \\\\\n",
    "&= \\frac{1}{a_j}\\prod_{k=0,k\\neq j}^N(x_i - x_k)\\left(\\frac{\\displaystyle\\sum_{k=0,k\\neq j}^N\\left(\\prod_{m=0,m\\neq k, m\\neq j}^N (x_i - x_m)\\right)}{\\displaystyle\\prod_{k=0,k\\neq j}^N(x_i - x_k)}\\right) \\\\\n",
    "&= \\frac{1}{a_j}\\sum_{k=0,k\\neq j}^N\\left(\\prod_{m=0,m\\neq k, m\\neq j}^N (x_i - x_m)\\right).\n",
    "\\end{align*}\n",
    "\n",
    "Suppose that $i \\neq j$, then within the summation, every term equals zero due to a multiplication by $(x_i - x_i) = 0$ in the product. The only exception is when $k = i$. Therefore, we get\n",
    "\n",
    "\\begin{align*}\n",
    "[D_N]_{i,j} &= \\frac{1}{a_j}\\prod_{m=0,m\\neq i, m\\neq j}^N (x_i - x_m) \\\\\n",
    "&= \\frac{\\displaystyle\\prod_{m=0,m\\neq i}^N (x_i - x_m)}{a_j(x_i - x_j)} \\\\\n",
    "&= \\frac{a_i}{a_j(x_i - x_j)}.\n",
    "\\end{align*}\n",
    "\n",
    "Suppose that $i = j$, then\n",
    "\\begin{align*}\n",
    "[D_N]_{i,j} &= \\frac{1}{a_j}\\sum_{k=0,k\\neq j}^N\\left(\\prod_{m=0,m\\neq k, m\\neq j}^N (x_j - x_m)\\right) \\\\\n",
    "&= \\frac{1}{a_j}\\sum_{k=0,k\\neq j}^N\\left(\\frac{\\displaystyle\\prod_{m=0, m\\neq j}^N (x_j - x_m)}{x_j - x_k}\\right) \\\\\n",
    "&= \\frac{1}{a_j}\\sum_{k=0,k\\neq j}^N\\left(\\frac{a_j}{x_j - x_k}\\right) \\\\\n",
    "&= \\sum_{k=0,k\\neq j}^N\\left(x_j - x_k\\right)^{-1}.\n",
    "\\end{align*}"
   ]
  },
  {
   "cell_type": "markdown",
   "metadata": {},
   "source": [
    "## Q2"
   ]
  },
  {
   "cell_type": "code",
   "execution_count": 2,
   "metadata": {},
   "outputs": [],
   "source": [
    "def chebspace(N,m=-1,M=1,Zero=False): #Returns N Chebyshev Extremum (Default) or Zero points in the specified interval (Default is [-1,1]).\n",
    "    r = (m + M)/2\n",
    "    if (Zero == True):\n",
    "        pts = cos((np.array(range(N,0,-1)) - 0.5)*np.pi/N)\n",
    "    else:\n",
    "        pts = cos(np.array(range(N-1,-1,-1))*np.pi/(N-1))\n",
    "    return (pts*(M - r) + r)"
   ]
  },
  {
   "cell_type": "code",
   "execution_count": 3,
   "metadata": {},
   "outputs": [],
   "source": [
    "def chebdiffmat(x): #Returns the Chebyshev Differentiation Matrix\n",
    "    N = len(x)-1\n",
    "    DN = np.empty((N+1,N+1))\n",
    "    def a(j):\n",
    "        A = 1\n",
    "        for k in range(0,N+1):\n",
    "            if j != k:\n",
    "                A *= x[j] - x[k]\n",
    "        return A\n",
    "    for i in range(0,N+1):\n",
    "        for j in range(0,N+1):\n",
    "            if i != j:\n",
    "                DN[i,j] = a(i)/(a(j)*(x[i]-x[j]))\n",
    "            else:\n",
    "                E = 0\n",
    "                for k in range(0,N+1):\n",
    "                    if k != j:\n",
    "                        E += 1/(x[j] - x[k])\n",
    "                DN[i,j] = np.copy(E)\n",
    "    return DN"
   ]
  },
  {
   "cell_type": "markdown",
   "metadata": {},
   "source": [
    "#### Show that the power $D_N^{N+1}$ is identically equal to zero"
   ]
  },
  {
   "cell_type": "markdown",
   "metadata": {},
   "source": [
    "Consider an arbitrary $N$ degree polynomial uniquely represented by the vector\n",
    "$$\\left(\\begin{array}{c} P(x_0) \\\\ P(x_1) \\\\ \\vdots \\\\ P(x_N) \\end{array}\\right).$$\n",
    "\n",
    "We know that differentiating the polynomial $N+1$ times will produce $\\vec{0}$. We are also given that $D_N$ is the differential operator, i.e.\n",
    "$$\\left(\\begin{array}{c} y_0' \\\\ y_1' \\\\ \\vdots \\\\ y_N' \\end{array}\\right)\n",
    "= D_N \\left(\\begin{array}{c} y_0 \\\\ y_1 \\\\ \\vdots \\\\ y_N \\end{array}\\right).$$\n",
    "Therefore, by repeated application of the operator $D_N$,\n",
    "$$(D_N)^{N+1}\\left(\\begin{array}{c} P(x_0) \\\\ P(x_1) \\\\ \\vdots \\\\ P(x_N) \\end{array}\\right) = \\left(\\begin{array}{c} P^{(N+1)}(x_0) \\\\ P^{(N+1)}(x_1) \\\\ \\vdots \\\\ P^{(N+1)}(x_N) \\end{array}\\right) = \\left(\\begin{array}{c} 0 \\\\ 0 \\\\ \\vdots \\\\ 0 \\end{array}\\right).$$\n",
    "\n",
    "Since $P(x_0),\\ldots,P(x_N)$ are arbitrary, it must be that $D_N^{N+1}$ is the zero operator, which implies that $[D_N]^{N+1}$ is the zero matrix."
   ]
  },
  {
   "cell_type": "markdown",
   "metadata": {},
   "source": [
    "#### Check that $D_N^{N+1}$ is identically equal to zero"
   ]
  },
  {
   "cell_type": "code",
   "execution_count": 4,
   "metadata": {},
   "outputs": [
    {
     "name": "stdout",
     "output_type": "stream",
     "text": [
      "For N = 5 , the 2-norm of DN^6 = 6.787688568284223e-11\n",
      "For N = 20 , the 2-norm of DN^21 = 9.416741003680831e+18\n"
     ]
    }
   ],
   "source": [
    "N = 5\n",
    "x = chebspace(N+1)\n",
    "A = np.eye(N+1)\n",
    "DN = chebdiffmat(x)\n",
    "for k in range(0,N+1):\n",
    "    A = A@DN\n",
    "print(\"For N =\",N,\", the 2-norm of DN^%i =\" %(N+1), np.linalg.norm(A,ord=2))\n",
    "\n",
    "N = 20\n",
    "x = chebspace(N+1)\n",
    "A = np.eye(N+1)\n",
    "DN = chebdiffmat(x)\n",
    "for k in range(0,N+1):\n",
    "    A = A@DN\n",
    "print(\"For N =\",N,\", the 2-norm of DN^%i =\" %(N+1), np.linalg.norm(A,ord=2))"
   ]
  },
  {
   "cell_type": "markdown",
   "metadata": {},
   "source": [
    "Theoretically, we know that $D_N^{N+1}$ is equal to zero. Indeed, for small values of $N$, for example $N = 5$, the 2-norm of the matrix $[D_N^{N+1}]$ is close to zero. However, the matrix $[D_N^{N+1}]$ is very numerically unstable. The instability is probably due to the terms $(x_i - x_j)$ and $(x_i - x_k)$ which appear in the denominator of the terms of $[D_N^{N+1}]$ being close to zero. Accordingly, the 2-norm of $[D_N^{N+1}]$ for large values of $N$, for example, $N=20$, is massive."
   ]
  },
  {
   "cell_type": "markdown",
   "metadata": {},
   "source": [
    "## Q3"
   ]
  },
  {
   "cell_type": "markdown",
   "metadata": {},
   "source": [
    "We will cast the problem into the form $A\\vec{U} = \\vec{G}$. By distributivity of matrix multiplication, we know that\n",
    "\\begin{align*}\n",
    "u_{xx} + 4u_x + e^xu &= \\partial_{xx}u + \\partial_{x}4u + e^xu \\\\\n",
    "&= \\left([\\partial_{xx}] + 4[\\partial_{x}] + e^\\vec{x}I\\right)\\vec{U} \\\\\n",
    "&= \\sin(8\\vec{x}).\n",
    "\\end{align*}\n",
    "\n",
    "\n",
    "### Finite Difference Matrices\n",
    "\n",
    "Using the finite difference formulas,\n",
    "\\begin{align*}\n",
    "&u''(x) = \\frac{1}{h^2}u(x-h) - \\frac{2}{h^2}u(x) + \\frac{1}{h^2}u(x+h), \\\\\n",
    "&u'(x) = - \\frac{1}{h}u(x) + \\frac{1}{h}u(x+h).\n",
    "\\end{align*}\n",
    "we get\n",
    "$$A = \\frac{1}{h^2}\\left(\n",
    "\\begin{array}{ccccccccc}\n",
    "-2 & 1 & 0 & 0 & 0 & \\ldots & 0 & 0 & 0\\\\\n",
    " 1 & -2 & 1 & 0 & 0 & \\ldots & 0 & 0 & 0\\\\\n",
    " 0 & 1 & -2 & 1 & 0 & \\ldots & 0 & 0 & 0\\\\\n",
    " \\vdots & \\vdots & \\vdots & \\vdots & \\vdots & \\ddots & \\vdots & \\vdots & \\vdots \\\\\n",
    " 0 & 0 & 0 & 0 & 0 &\\ldots & 1 & -2 & 1 \\\\\n",
    " 0 & 0 & 0 & 0 & 0 & \\ldots & 0 & 1 & -2\n",
    " \\end{array} \\right) +\n",
    " \\frac{4}{h}\\left(\n",
    "\\begin{array}{ccccccccc}\n",
    "-1 & 1 & 0 & 0 & 0 & \\ldots & 0 & 0 & 0\\\\\n",
    " 0 & -1 & 1 & 0 & 0 & \\ldots & 0 & 0 & 0\\\\\n",
    " 0 & 0 & -1 & 1 & 0 & \\ldots & 0 & 0 & 0\\\\\n",
    " \\vdots & \\vdots & \\vdots & \\vdots & \\vdots & \\ddots & \\vdots & \\vdots & \\vdots \\\\\n",
    " 0 & 0 & 0 & 0 & 0 &\\ldots & 0 & -1 & 1 \\\\\n",
    " 0 & 0 & 0 & 0 & 0 & \\ldots & 0 & 0 & -1\n",
    " \\end{array} \\right) + e^{\\vec{x}[1:n]}I\n",
    " $$\n",
    " \n",
    " $$\\vec{U} = \\left(\n",
    " \\begin{array}{c}\n",
    " u(x_1) \\\\\n",
    " u(x_2) \\\\\n",
    " \\vdots \\\\\n",
    " u(x_n)\n",
    " \\end{array} \\right) \\hspace{2pc}\n",
    " \\vec{G} = \\left(\n",
    " \\begin{array}{c}\n",
    " \\sin(8x_1) - \\displaystyle \\frac{1}{h^2}u(x_0) \\\\\n",
    " \\sin(8x_2) \\\\\n",
    " \\vdots \\\\\n",
    " \\sin(8x_{n-1}) \\\\\n",
    " \\sin(8x_n) - \\displaystyle \\frac{1}{h^2}u(x_{n+1}) - \\frac{4}{h}u(x_{n+1})\n",
    " \\end{array} \\right)$$\n",
    " \n",
    " \n",
    " ### Chebyshev Differentiation Matrices\n",
    " \n",
    " Using the Chebyshev Differentiation matrix,\n",
    " $$D_{n} := \\left(\\begin{array}{cccc}\n",
    " L'_1(x_1) & L'_2(x_1) & \\ldots & L'_n(x_1) \\\\\n",
    " L'_1(x_2) & L'_2(x_2) & \\ldots & L'_n(x_2) \\\\\n",
    " \\vdots & \\vdots & \\ddots & \\vdots \\\\\n",
    " L'_1(x_n) & L'_2(x_n) &\\ldots & L'_n(x_n)\n",
    " \\end{array} \\right)$$\n",
    " we get\n",
    " $$A = 4[D_{n}] + [D_{n}]^2 + e^{\\vec{x}[1:n]}I \\hspace{2pc}\\vec{U} = \\left(\n",
    " \\begin{array}{c}\n",
    " u(x_1) \\\\\n",
    " u(x_2) \\\\\n",
    " \\vdots \\\\\n",
    " u(x_n)\n",
    " \\end{array} \\right) \\hspace{2pc}\n",
    " \\vec{G} = \\left(\n",
    " \\begin{array}{c}\n",
    " \\sin(8x_1) \\\\\n",
    " \\sin(8x_2) \\\\\n",
    " \\vdots \\\\\n",
    " \\sin(8x_{n-1}) \\\\\n",
    " \\sin(8x_n)\n",
    " \\end{array} \\right)$$"
   ]
  },
  {
   "cell_type": "code",
   "execution_count": 5,
   "metadata": {},
   "outputs": [],
   "source": [
    "def solve_for_U(xvals,G): #Finite Difference method\n",
    "    h = xvals[2:]-xvals[1:-1] #We assume that the points are equispaced.\n",
    "    d0 = -2/h**2\n",
    "    d1 = 1/h[1:]**2\n",
    "    dm1 = 1/h[0:-1]**2\n",
    "    # Create the second diff. part of the \"A\" matrix by using the np.diag command\n",
    "    A2 = np.diag(d0) + np.diag(d1,1) + np.diag(dm1,-1)\n",
    "    \n",
    "    d0_2 = -1/h\n",
    "    d1_2 = 1/h[1:]\n",
    "    # Create the first diff. part of the \"A\" matrix by using the np.diag command\n",
    "    A1 = np.diag(d0_2) + np.diag(d1_2,1)\n",
    "    \n",
    "    A = A2 + 4*A1 + np.diag(exp(xvals[1:-1]))\n",
    "    \n",
    "    # Ax = b, solve for x.\n",
    "    uvals = np.linalg.solve(A,G) #I'm using scipy sparse matrice solver else I may run into memory problems later.\n",
    "    \n",
    "    return uvals"
   ]
  },
  {
   "cell_type": "code",
   "execution_count": 6,
   "metadata": {},
   "outputs": [],
   "source": [
    "def solve_for_U_sp(xvals,G): #Finite Difference method (using sparse matrices)\n",
    "    h = xvals[2:]-xvals[1:-1] #We assume that the points are equispaced.\n",
    "    d0 = -2/h**2\n",
    "    d1 = 1/h[1:]**2\n",
    "    dm1 = 1/h[0:-1]**2\n",
    "    # Create the second diff. part of the \"A\" matrix by using the np.diag command\n",
    "    A2 = sp.diags(d0) + sp.diags(d1,1)+ sp.diags(dm1,-1)\n",
    "    \n",
    "    d0_2 = -1/h\n",
    "    d1_2 = 1/h[1:]\n",
    "    # Create the first diff. part of the \"A\" matrix by using the np.diag command\n",
    "    A1 = sp.diags(d0_2) + sp.diags(d1_2,1)\n",
    "    \n",
    "    A = A2 + 4*A1 + sp.diags(exp(xvals[1:-1]))\n",
    "    \n",
    "    # Ax = b, solve for x.\n",
    "    uvals = spsolve(A,G) #I'm using scipy sparse matrice solver else I may run into memory problems later.\n",
    "    \n",
    "    return uvals"
   ]
  },
  {
   "cell_type": "code",
   "execution_count": 7,
   "metadata": {},
   "outputs": [],
   "source": [
    "def appendBC(sol): #This function simply makes it easier to append the boundary conditions.\n",
    "    return (np.insert((np.insert(sol,len(sol),Rbc)),0,Lbc)) #Add u_0 and u_n into yvals."
   ]
  },
  {
   "cell_type": "code",
   "execution_count": 8,
   "metadata": {},
   "outputs": [],
   "source": [
    "Lbc = 0\n",
    "Rbc = 0\n",
    "N = 2**8+1\n",
    "\n",
    "#Using the Finite Difference matrices\n",
    "xlin = linspace(-1,1,N)\n",
    "h = np.abs(xlin[1] - xlin[0])\n",
    "rhs = lambda x: sin(8*x)\n",
    "\n",
    "G = rhs(xlin[1:N-1])\n",
    "G[0] = np.copy(G[0]) - Lbc/h**2\n",
    "G[N-3] = np.copy(G[N-3]) - Rbc/h**2 - 4*Lbc/h\n",
    "\n",
    "#fd = appendBC(solve_for_U(xlin,G))\n",
    "fd_sp = appendBC(solve_for_U_sp(xlin,G))"
   ]
  },
  {
   "cell_type": "code",
   "execution_count": 9,
   "metadata": {},
   "outputs": [],
   "source": [
    "#Using the Chebyshev Differentiation matrices (it'll take a few seconds)\n",
    "xcheb = chebspace(N)\n",
    "Dn = chebdiffmat(xcheb)\n",
    "G = rhs(xcheb)\n",
    "A = 4*Dn + Dn@Dn + np.diag(exp(xcheb))\n",
    "cheb = appendBC(np.linalg.solve(A,G)[1:N-1])"
   ]
  },
  {
   "cell_type": "code",
   "execution_count": 10,
   "metadata": {},
   "outputs": [
    {
     "data": {
      "image/png": "[encoded data removed]",
      "text/plain": [
       "<Figure size 1440x720 with 1 Axes>"
      ]
     },
     "metadata": {
      "needs_background": "light"
     },
     "output_type": "display_data"
    }
   ],
   "source": [
    "#plt.plot(xlin,fd)\n",
    "plt.figure(figsize=(20,10))\n",
    "plt.title(\"Numerical Solution to the ODE using 257 Grid Points\", fontsize = 14)\n",
    "plt.xlabel(\"x\", fontsize = 14)\n",
    "plt.ylabel(\"y\", fontsize = 14)\n",
    "plt.plot(xcheb,cheb,\".\")\n",
    "plt.plot(xlin,fd_sp)\n",
    "plt.legend([\"Chebyshev Differentiation Matrices\",\"Finite Difference Matrices\"])\n",
    "plt.grid()"
   ]
  },
  {
   "cell_type": "markdown",
   "metadata": {},
   "source": [
    "Both methods produce comparable solutions to the ODE, with the results differing the most at the two peaks of the curve. Without the solution, it is difficult to determine which method is more accurate. The finite difference matrices method should be a first-order method due to the forward-difference first-order differential matrix. On the other hand, Chebyshev Differentiation matrices suffer from numerical instability as was demonstrated in Q2."
   ]
  },
  {
   "cell_type": "code",
   "execution_count": 11,
   "metadata": {},
   "outputs": [
    {
     "name": "stdout",
     "output_type": "stream",
     "text": [
      "FD method\n",
      "u(0) = 0.009579881900 \n",
      "\n",
      "Cheb method\n",
      "u(0) = 0.009589111410 \n",
      "\n",
      "Difference = 9.229510712473535e-06\n",
      "% Difference (based on fd_sp value) = 0.09634263563122258 %\n"
     ]
    }
   ],
   "source": [
    "print(\"FD method\")\n",
    "print(\"u(0) ={:> 10.12f}\".format(fd_sp[128]),\"\\n\") #To 10 s.f.\n",
    "print(\"Cheb method\")\n",
    "print(\"u(0) ={:> 10.12f}\".format(cheb[128]),\"\\n\")\n",
    "print(\"Difference =\",np.abs(fd_sp[128]-cheb[128]))\n",
    "print(\"% Difference (based on fd_sp value) =\",np.abs(fd_sp[128]-cheb[128])/fd_sp[128]*100,\"%\") "
   ]
  },
  {
   "cell_type": "markdown",
   "metadata": {},
   "source": [
    "The values produced by the two methods are comparable."
   ]
  },
  {
   "cell_type": "markdown",
   "metadata": {},
   "source": [
    "### Runtime Tests"
   ]
  },
  {
   "cell_type": "code",
   "execution_count": 12,
   "metadata": {},
   "outputs": [
    {
     "name": "stdout",
     "output_type": "stream",
     "text": [
      "Runtime of FD method using sparse matrices\n",
      "0.002132892608642578 \n",
      "\n",
      "Runtime of FD method using dense matrices\n",
      "0.00398867925008138 \n",
      "\n",
      "Runtime of Cheb method\n",
      "0.8440804958343506 \n",
      "\n",
      "Runtime of Cheb method ignoring construction of Cheb Diff. matrix\n",
      "0.00281521479288737 \n",
      "\n"
     ]
    }
   ],
   "source": [
    "Lbc = 0\n",
    "Rbc = 0\n",
    "N = 100\n",
    "rhs = lambda x: sin(8*x)\n",
    "xlin = linspace(-1,1,N)\n",
    "xcheb = chebspace(N)\n",
    "\n",
    "trials = 15\n",
    "avg1,avg2,avg3,avg4 = 0,0,0,0\n",
    "for jj in range(0,trials): #Algorithm will take about half a minute.\n",
    "    start_time = time.time()\n",
    "    G = rhs(xlin[1:N-1])\n",
    "    G[0] = np.copy(G[0]) - Lbc/h**2\n",
    "    G[N-3] = np.copy(G[N-3]) - Rbc/h**2 - 4*Lbc/h\n",
    "    fd_sp = appendBC(solve_for_U_sp(xlin,G))\n",
    "    end_time = time.time()\n",
    "    avg1+=(end_time-start_time)\n",
    "\n",
    "    start_time = time.time()\n",
    "    G = rhs(xlin[1:N-1])\n",
    "    G[0] = np.copy(G[0]) - Lbc/h**2\n",
    "    G[N-3] = np.copy(G[N-3]) - Rbc/h**2 - 4*Lbc/h\n",
    "    fd = appendBC(solve_for_U(xlin,G))\n",
    "    end_time = time.time()\n",
    "    avg2+=(end_time-start_time)\n",
    "\n",
    "    start_time = time.time()\n",
    "    Dn = chebdiffmat(xcheb)\n",
    "    G = rhs(xcheb)\n",
    "    A = 4*Dn + Dn@Dn + np.diag(exp(xcheb))\n",
    "    cheb = appendBC(np.linalg.solve(A,G)[1:N-1])\n",
    "    end_time = time.time()\n",
    "    avg3+=(end_time-start_time)\n",
    "\n",
    "    start_time = time.time()\n",
    "    G = rhs(xcheb)\n",
    "    A = 4*Dn + Dn@Dn + np.diag(exp(xcheb))\n",
    "    cheb = appendBC(np.linalg.solve(A,G)[1:N-1])\n",
    "    end_time = time.time()\n",
    "    avg4+=(end_time-start_time)\n",
    "print(\"Runtime of FD method using sparse matrices\")\n",
    "print(avg1/trials,\"\\n\")\n",
    "print(\"Runtime of FD method using dense matrices\")\n",
    "print(avg2/trials,\"\\n\")\n",
    "print(\"Runtime of Cheb method\")\n",
    "print(avg3/trials,\"\\n\")\n",
    "print(\"Runtime of Cheb method ignoring construction of Cheb Diff. matrix\")\n",
    "print(avg4/trials,\"\\n\")"
   ]
  },
  {
   "cell_type": "markdown",
   "metadata": {},
   "source": [
    "Evidently, my construction of the Chebyshev Differentiation matrix is an atrocity (it involves three loops after all). Regardless, even without including the time taken for the construction of the Cheb Diff. matrix into the runtime of the Cheb method, the most efficient variant of the FD method (using sparse matrices) is faster than the Cheb method. Granted, when dense matrices are used in the FD method it becomes slower than the Cheb method. Yet, a major advantage of the FD method is precisely that it uses sparse matrices and hence allows one to capitalise on their efficiency. The Cheb method on the other hand involves Cheb Diff. matrices which are dense."
   ]
  },
  {
   "cell_type": "markdown",
   "metadata": {},
   "source": [
    "## Q4"
   ]
  },
  {
   "cell_type": "code",
   "execution_count": 13,
   "metadata": {},
   "outputs": [],
   "source": [
    "def InvPwrMtd(A,mu):\n",
    "    m,n = np.shape(A)\n",
    "    x0 = np.random.random(n)\n",
    "    x0 = np.copy(x0/np.linalg.norm(x0,ord=2))\n",
    "    Q,R = sc.linalg.qr(A - mu*np.eye(n))\n",
    "    for k in range(0,n):\n",
    "        x1 = sc.linalg.solve_triangular(R,np.matmul(np.matrix.getH(Q),x0))\n",
    "        x1 = np.copy(x1/np.linalg.norm(x1,ord=2))\n",
    "        x0 = x1\n",
    "    return np.matmul(np.matmul(np.matrix.getH(x1),A),x1), x1"
   ]
  },
  {
   "cell_type": "code",
   "execution_count": 14,
   "metadata": {},
   "outputs": [
    {
     "name": "stdout",
     "output_type": "stream",
     "text": [
      "Singular matrix in solver!\n"
     ]
    }
   ],
   "source": [
    "A = np.diag([4,3,2])\n",
    "try: InvPwrMtd(A,4) \n",
    "except: print(\"Singular matrix in solver!\")"
   ]
  },
  {
   "cell_type": "markdown",
   "metadata": {},
   "source": [
    "When we input an exact eigenvalue, the matrix in the solver (sc.linalg.solve_triangular) is singular and the method fails. This can be resolved by returning the eigenvalue if the matrix is found to be singular, though a separate method will be required to solve for the eigenvector."
   ]
  },
  {
   "cell_type": "code",
   "execution_count": 15,
   "metadata": {},
   "outputs": [],
   "source": [
    "def InvPwrMtd_edit(A,mu): #This edited version of the algorithm attempts to deal with the singular matrix that is formed when an exact eigenvalue is inputed.\n",
    "    m,n = np.shape(A)\n",
    "    x0 = np.random.random(n)\n",
    "    x0 = np.copy(x0/np.linalg.norm(x0,ord=2))\n",
    "    Q,R = sc.linalg.qr(A - mu*np.eye(n))\n",
    "    for k in range(0,n):\n",
    "        try:\n",
    "            x1 = sc.linalg.solve_triangular(R,np.matmul(np.matrix.getH(Q),x0))\n",
    "        except:\n",
    "            return mu, np.empty(n)\n",
    "        x1 = np.copy(x1/np.linalg.norm(x1,ord=2))\n",
    "        x0 = x1\n",
    "    return np.matmul(np.matmul(np.matrix.getH(x1),A),x1), x1"
   ]
  },
  {
   "cell_type": "code",
   "execution_count": 16,
   "metadata": {},
   "outputs": [
    {
     "data": {
      "text/plain": [
       "(3, array([1.443e-321, 1.976e-323, 0.000e+000]))"
      ]
     },
     "execution_count": 16,
     "metadata": {},
     "output_type": "execute_result"
    }
   ],
   "source": [
    "A = np.diag([4,3,2])\n",
    "InvPwrMtd_edit(A,3) #It works, though it fails to find the eigenvector."
   ]
  },
  {
   "cell_type": "code",
   "execution_count": 17,
   "metadata": {},
   "outputs": [
    {
     "name": "stdout",
     "output_type": "stream",
     "text": [
      "Eigenvalue = 3.8586545968361\n",
      "Eigenvalue = 3.8938889709170326\n",
      "Eigenvalue = 3.638870244855275\n",
      "Eigenvalue = 3.892392163225342\n",
      "Eigenvalue = 3.0100031912007337\n",
      "Eigenvalue = 3.9971438328249387\n",
      "Eigenvalue = 3.8620452456752683\n",
      "Eigenvalue = 3.999308562534175\n",
      "Eigenvalue = 3.935808228075549\n",
      "Eigenvalue = 3.9608253645627935\n",
      "Eigenvalue = 3.6519514442997147\n",
      "Eigenvalue = 3.7636715775881604\n",
      "Eigenvalue = 3.697339008756728\n",
      "Eigenvalue = 3.959462566950385\n",
      "Eigenvalue = 3.295649283679064\n",
      "Eigenvalue = 3.9992688315742346\n",
      "Eigenvalue = 3.999846632139596\n",
      "Eigenvalue = 3.956121423781565\n",
      "Eigenvalue = 3.9583811495868684\n",
      "Eigenvalue = 3.9003241169719507\n",
      "Eigenvalue = 3.037050078852611\n",
      "Eigenvalue = 3.932144180061631\n",
      "Eigenvalue = 3.946009643141563\n",
      "Eigenvalue = 3.8433041934335836\n",
      "Eigenvalue = 3.908891990855444\n",
      "Eigenvalue = 3.2522965837105464\n",
      "Eigenvalue = 3.9959184849429303\n",
      "Eigenvalue = 3.151775462015405\n",
      "Eigenvalue = 3.980406793982208\n",
      "Eigenvalue = 3.872851587929224\n",
      "Eigenvalue = 3.767078460096579\n",
      "Eigenvalue = 3.418161220489059\n",
      "Eigenvalue = 3.9575917936522726\n",
      "Eigenvalue = 3.9902702591661963\n",
      "Eigenvalue = 3.9487745672961916\n",
      "Eigenvalue = 3.852476022113499\n",
      "Eigenvalue = 3.7796607998469067\n",
      "Eigenvalue = 3.0509355910706097\n",
      "Eigenvalue = 3.969030076150513\n",
      "Eigenvalue = 3.709404770746186\n",
      "Eigenvalue = 3.9693349471338775\n",
      "Eigenvalue = 3.9947086701406436\n",
      "Eigenvalue = 3.9948147073596316\n",
      "Eigenvalue = 3.53521038337816\n",
      "Eigenvalue = 3.9715373967015606\n",
      "Eigenvalue = 3.9237927473788132\n",
      "Eigenvalue = 3.8120907409019815\n",
      "Eigenvalue = 3.985530645104312\n",
      "Eigenvalue = 3.96899097716848\n",
      "Eigenvalue = 3.9872895551072856\n",
      "Eigenvalue = 3.7711446956397827\n",
      "Eigenvalue = 3.986830808951548\n",
      "Eigenvalue = 3.99562842183058\n",
      "Eigenvalue = 3.927496745147592\n",
      "Eigenvalue = 3.967016509050034\n",
      "Eigenvalue = 3.9985542924768787\n",
      "Eigenvalue = 3.9146666469685005\n",
      "Eigenvalue = 3.8440035934481847\n",
      "Eigenvalue = 3.9888383066919793\n",
      "Eigenvalue = 3.920411614358345\n",
      "Eigenvalue = 3.3143733249696843\n",
      "Eigenvalue = 3.870379240216099\n",
      "Eigenvalue = 3.9336261470359024\n",
      "Eigenvalue = 3.066966021789868\n",
      "Eigenvalue = 3.9916942785418192\n",
      "Eigenvalue = 3.9806623948731223\n",
      "Eigenvalue = 3.9938938856362074\n",
      "Eigenvalue = 3.874783356596807\n",
      "Eigenvalue = 3.975259578060136\n",
      "Eigenvalue = 3.930349381830795\n",
      "Eigenvalue = 3.703375183962268\n",
      "Eigenvalue = 3.6987699290093845\n",
      "Eigenvalue = 3.968381882995923\n",
      "Eigenvalue = 3.9512371235954196\n",
      "Eigenvalue = 3.9366123598001592\n",
      "Eigenvalue = 3.7183099330307865\n",
      "Eigenvalue = 3.6516339290132964\n",
      "Eigenvalue = 3.9997567944491674\n",
      "Eigenvalue = 3.9995304126118767\n",
      "Eigenvalue = 3.99574133751632\n",
      "Eigenvalue = 3.9991038766531606\n",
      "Eigenvalue = 3.968856415637796\n",
      "Eigenvalue = 3.0000134739244997\n",
      "Eigenvalue = 3.9919319472974424\n",
      "Eigenvalue = 3.572225935071172\n",
      "Eigenvalue = 3.9873772644153287\n",
      "Eigenvalue = 3.8810047302910817\n",
      "Eigenvalue = 3.965228755351175\n",
      "Eigenvalue = 3.9864624228770325\n",
      "Eigenvalue = 3.9671268216952393\n",
      "Eigenvalue = 3.867348426179224\n",
      "Eigenvalue = 3.9807042261916696\n",
      "Eigenvalue = 3.836042908006639\n",
      "Eigenvalue = 3.9126983393575197\n",
      "Eigenvalue = 3.024497127811532\n",
      "Eigenvalue = 3.342446331024199\n",
      "Eigenvalue = 3.3047486394695773\n",
      "Eigenvalue = 3.5676677033476003\n",
      "Eigenvalue = 3.92856859069977\n",
      "Eigenvalue = 3.9576374525655424\n",
      "Eigenvalue = 3.7345765746173316\n",
      "Eigenvalue = 3.999930401812238\n",
      "Eigenvalue = 3.9642590275240193\n",
      "Eigenvalue = 3.686891898942564\n",
      "Eigenvalue = 3.958893048160462\n",
      "Eigenvalue = 3.982999620670144\n",
      "Eigenvalue = 3.7959705115225044\n",
      "Eigenvalue = 3.736148706032897\n",
      "Eigenvalue = 3.9402170166385453\n",
      "Eigenvalue = 3.9470435713601644\n",
      "Eigenvalue = 3.083315996900124\n",
      "Eigenvalue = 3.9731055611717947\n",
      "Eigenvalue = 3.2753799389277773\n",
      "Eigenvalue = 3.6901655782513947\n",
      "Eigenvalue = 3.9336697937500875\n",
      "Eigenvalue = 3.1461727289616523\n",
      "Eigenvalue = 3.9948991093579926\n",
      "Eigenvalue = 3.999087041847447\n",
      "Eigenvalue = 3.970817038102746\n",
      "Eigenvalue = 3.981720856545761\n",
      "Eigenvalue = 3.8192784408028007\n",
      "Eigenvalue = 3.786602035715567\n",
      "Eigenvalue = 3.0240195904346283\n",
      "Eigenvalue = 3.901710235938346\n",
      "Eigenvalue = 3.850736087092055\n",
      "Eigenvalue = 3.898746582755735\n",
      "Eigenvalue = 3.814793620001451\n",
      "Eigenvalue = 3.941287332409203\n",
      "Eigenvalue = 3.9992406321169205\n",
      "Eigenvalue = 3.9130695513968274\n",
      "Eigenvalue = 3.999237146292206\n",
      "Eigenvalue = 3.900135605965526\n",
      "Eigenvalue = 3.934716743942288\n",
      "Eigenvalue = 3.992997165912602\n",
      "Eigenvalue = 3.898499627157093\n",
      "Eigenvalue = 3.9909447578281143\n",
      "Eigenvalue = 3.7701542365587972\n",
      "Eigenvalue = 3.8258332230967707\n",
      "Eigenvalue = 3.9593790462092477\n",
      "Eigenvalue = 3.7643285282968364\n",
      "Eigenvalue = 3.89056315657467\n",
      "Eigenvalue = 3.978697382926928\n",
      "Eigenvalue = 3.744335840679135\n",
      "Eigenvalue = 3.998846157738713\n",
      "Eigenvalue = 3.854671121143754\n",
      "Eigenvalue = 3.997431048145226\n",
      "Eigenvalue = 3.8712228049304036\n",
      "Eigenvalue = 3.955706986704359\n",
      "Eigenvalue = 3.9269982125319327\n",
      "Eigenvalue = 3.9636505649217955\n",
      "Eigenvalue = 3.9865648486617977\n",
      "Eigenvalue = 3.6924753935776145\n",
      "Eigenvalue = 3.648372449237392\n",
      "Eigenvalue = 3.8649062624380055\n",
      "Eigenvalue = 3.4858729817828897\n",
      "Eigenvalue = 3.8353305636178194\n",
      "Eigenvalue = 3.7914897453343146\n",
      "Eigenvalue = 3.936037565530776\n",
      "Eigenvalue = 3.998348162351939\n",
      "Eigenvalue = 3.762464880247797\n",
      "Eigenvalue = 3.188343191862186\n",
      "Eigenvalue = 3.992778440729981\n",
      "Eigenvalue = 3.715721830198752\n",
      "Eigenvalue = 3.972272014875532\n",
      "Eigenvalue = 3.7072045167173604\n",
      "Eigenvalue = 3.975642850980663\n",
      "Eigenvalue = 3.998414695827001\n",
      "Eigenvalue = 3.8170083691495234\n",
      "Eigenvalue = 3.176739107353563\n",
      "Eigenvalue = 3.8308466608629566\n",
      "Eigenvalue = 3.7789315953010982\n",
      "Eigenvalue = 3.9075806582455073\n",
      "Eigenvalue = 3.682169081745445\n",
      "Eigenvalue = 3.997430204471515\n",
      "Eigenvalue = 3.7959639377960235\n",
      "Eigenvalue = 3.9771350509844785\n",
      "Eigenvalue = 3.990454924689312\n",
      "Eigenvalue = 3.979674651282373\n",
      "Eigenvalue = 3.9378832755734487\n",
      "Eigenvalue = 3.3196129873690867\n",
      "Eigenvalue = 3.6365630324414204\n",
      "Eigenvalue = 3.936857638902535\n",
      "Eigenvalue = 3.977844955612295\n",
      "Eigenvalue = 3.9634562966066906\n",
      "Eigenvalue = 3.9371925591316725\n",
      "Eigenvalue = 3.992571563956085\n",
      "Eigenvalue = 3.999867562779935\n",
      "Eigenvalue = 3.96435257520451\n",
      "Eigenvalue = 3.9799126906539692\n",
      "Eigenvalue = 3.000110887569446\n",
      "Eigenvalue = 3.979245749531875\n",
      "Eigenvalue = 3.998558361058391\n",
      "Eigenvalue = 3.6826864771472376\n",
      "Eigenvalue = 3.7163919963832086\n",
      "Eigenvalue = 3.8296180025469106\n",
      "Eigenvalue = 3.9101562837933934\n",
      "Eigenvalue = 3.991744940087143\n",
      "Eigenvalue = 3.924959426540564\n",
      "Eigenvalue = 3.9913627181809415\n",
      "Eigenvalue = 3.7964860010650083\n"
     ]
    }
   ],
   "source": [
    "A = np.diag([4,3,2])\n",
    "for kk in range(0,200):\n",
    "    print(\"Eigenvalue =\",InvPwrMtd(A,3.6)[0]) #The eigenvalue returned fluctuates significantly due to the random initial guess."
   ]
  },
  {
   "cell_type": "code",
   "execution_count": 18,
   "metadata": {},
   "outputs": [
    {
     "data": {
      "text/plain": [
       "[<matplotlib.lines.Line2D at 0x1aa839a58d0>]"
      ]
     },
     "execution_count": 18,
     "metadata": {},
     "output_type": "execute_result"
    },
    {
     "data": {
      "image/png": "[encoded data removed]",
      "text/plain": [
       "<Figure size 1440x720 with 1 Axes>"
      ]
     },
     "metadata": {
      "needs_background": "light"
     },
     "output_type": "display_data"
    }
   ],
   "source": [
    "A = np.diag([4,3,2])\n",
    "N = 200\n",
    "\n",
    "e = np.empty(N)\n",
    "q = linspace(2,4,N)\n",
    "for kk in range(0,N):\n",
    "    e[kk] = InvPwrMtd_edit(A,q[kk])[0]\n",
    "plt.figure(figsize=(20,10))\n",
    "plt.title(\"Testing InvPwrMtd using 200 mu values and a 3X3 matrix\", fontsize = 14)\n",
    "plt.xlabel(\"mu\", fontsize = 14)\n",
    "plt.ylabel(\"eigenvalue\", fontsize = 14)\n",
    "plt.plot(q,e)"
   ]
  },
  {
   "cell_type": "markdown",
   "metadata": {},
   "source": [
    "Input of mu values in a sufficiently small neighbourhood around an eigenvalue will cause the algorithm to accurately return that eigenvalue. However, if the mu inputed is too far from any eigenvalue, the algorithm will not be able to accurately find the closest eigenvalue to mu."
   ]
  },
  {
   "cell_type": "code",
   "execution_count": 19,
   "metadata": {},
   "outputs": [
    {
     "data": {
      "text/plain": [
       "[<matplotlib.lines.Line2D at 0x1aa83a12eb8>]"
      ]
     },
     "execution_count": 19,
     "metadata": {},
     "output_type": "execute_result"
    },
    {
     "data": {
      "image/png": "[encoded data removed]",
      "text/plain": [
       "<Figure size 1440x720 with 1 Axes>"
      ]
     },
     "metadata": {
      "needs_background": "light"
     },
     "output_type": "display_data"
    }
   ],
   "source": [
    "A = np.diag(linspace(1,10,10))\n",
    "N = 200\n",
    "\n",
    "e = np.empty(N)\n",
    "q = linspace(1,10,N)\n",
    "for kk in range(0,N):\n",
    "    e[kk],u = InvPwrMtd_edit(A,q[kk])\n",
    "plt.figure(figsize=(20,10))\n",
    "plt.title(\"Testing InvPwrMtd using 200 mu values and a 10X10 matrix\", fontsize = 14)\n",
    "plt.xlabel(\"mu\", fontsize = 14)\n",
    "plt.ylabel(\"eigenvalue\", fontsize = 14)\n",
    "plt.plot(q,e)"
   ]
  },
  {
   "cell_type": "markdown",
   "metadata": {},
   "source": [
    "The algorithm is a lot more accurate when the matrix used is larger. It is likely that the larger the matrix is, the larger the neighbourhood around each eigenvalue in which a mu value inputed can have the algorithm accurately return the closest eigenvalue to mu."
   ]
  },
  {
   "cell_type": "code",
   "execution_count": 20,
   "metadata": {},
   "outputs": [
    {
     "data": {
      "text/plain": [
       "[<matplotlib.lines.Line2D at 0x1aa83d38c88>]"
      ]
     },
     "execution_count": 20,
     "metadata": {},
     "output_type": "execute_result"
    },
    {
     "data": {
      "image/png": "[encoded data removed]",
      "text/plain": [
       "<Figure size 1440x720 with 1 Axes>"
      ]
     },
     "metadata": {
      "needs_background": "light"
     },
     "output_type": "display_data"
    }
   ],
   "source": [
    "A = np.diag(linspace(1,10,10))\n",
    "N = 1000\n",
    "\n",
    "e = np.empty(N)\n",
    "q = linspace(1,10,N)\n",
    "for kk in range(0,N):\n",
    "    e[kk],u = InvPwrMtd_edit(A,q[kk])\n",
    "plt.figure(figsize=(20,10))\n",
    "plt.title(\"Testing InvPwrMtd using 1000 mu values and a 10X10 matrix\", fontsize = 14)\n",
    "plt.xlabel(\"mu\", fontsize = 14)\n",
    "plt.ylabel(\"eigenvalue\", fontsize = 14)\n",
    "plt.plot(q,e)"
   ]
  },
  {
   "cell_type": "markdown",
   "metadata": {},
   "source": [
    "Nonetheless, with a finer grid, we can see that some fluctuation persists near the midpoint between two eigenvalues."
   ]
  },
  {
   "cell_type": "markdown",
   "metadata": {},
   "source": [
    "## Q5"
   ]
  },
  {
   "cell_type": "code",
   "execution_count": 21,
   "metadata": {},
   "outputs": [],
   "source": [
    "def singleshift(A,N,tol=1e-8):\n",
    "    m,n = np.shape(A)\n",
    "    if n == 1:\n",
    "        return A[0][0]\n",
    "    if n == 2:\n",
    "        alpha = np.matrix.trace(A[0:2,0:2])\n",
    "        beta = np.linalg.det(A[0:2,0:2])\n",
    "        eig1 = 0.5*(alpha+np.sqrt(alpha**2 - 4*beta + 0j))\n",
    "        eig2 = 0.5*(alpha-np.sqrt(alpha**2 - 4*beta + 0j))\n",
    "        return eig1, eig2\n",
    "    S = sc.linalg.hessenberg(A)\n",
    "    for k in range(0,N):\n",
    "        mu = np.copy(S[n-1,n-1])\n",
    "        Q,R = np.linalg.qr(S-mu*np.eye(n))\n",
    "        S = np.matmul(R,Q) + mu*np.eye(n)\n",
    "        for j in range(0,m-1):\n",
    "            if abs(S[j,j+1]) < tol:\n",
    "                S[j,j+1] = S[j+1,j] = 0\n",
    "    return QR_algorithm2(S[0:m//2,0:n//2],N), QR_algorithm2(S[m//2:,n//2:],N)"
   ]
  },
  {
   "cell_type": "markdown",
   "metadata": {},
   "source": [
    "### Gram-Schmidt Solver Implemented in Class"
   ]
  },
  {
   "cell_type": "code",
   "execution_count": 22,
   "metadata": {},
   "outputs": [],
   "source": [
    "def QR_GS_modified(A): #This uses a modified version of Gram-Schmitz which avoids possible numerical instability.\n",
    "    n = np.shape(A)\n",
    "    Q = np.zeros((n[0],n[1]))\n",
    "    R = np.zeros((n[1],n[1]))\n",
    "    S = np.copy(A)*1.0\n",
    "    for j in range(0,n[1]):\n",
    "        R[j,j] = np.linalg.norm(S[:,j])\n",
    "        Q[:,j] = S[:,j]/R[j,j]\n",
    "        for i in range(j+1,n[1]):\n",
    "            R[j,i] = np.matmul(np.matrix.getH(Q[:,j]),A[:,i])\n",
    "            S[:,i] -= R[j,i]*Q[:,j]\n",
    "    return Q, R\n",
    "\n",
    "def QREig_GS(A, maxiter = 1000, tol = 1e-8, printiter = False):\n",
    "    n = np.shape(A)[0]\n",
    "    eig = np.empty(n, dtype = \"cfloat\")\n",
    "    if n == 1:\n",
    "        return A[0,0]\n",
    "    if n == 2:\n",
    "        alpha = np.matrix.trace(A[0:2,0:2])\n",
    "        beta = np.linalg.det(A[0:2,0:2])\n",
    "        eig[0] = 0.5*(alpha+np.sqrt(alpha**2 - 4*beta + 0j))\n",
    "        eig[1] = 0.5*(alpha-np.sqrt(alpha**2 - 4*beta + 0j))\n",
    "        return eig\n",
    "    if n == 3:\n",
    "        for j in range(1,50):\n",
    "            AO = A\n",
    "            Q,R = QR_GS_modified(A)\n",
    "            A = np.matmul(R,Q)\n",
    "    for j in range(1,maxiter):\n",
    "        AO = A\n",
    "        Q,R = QR_GS_modified(A)\n",
    "        A = np.matmul(R,Q)\n",
    "        if np.linalg.norm(np.tril(A,-2),ord=np.inf) < tol:\n",
    "            i = 0\n",
    "            while i < n-1:\n",
    "                if abs(A[i+1,i]) < tol**0.5:\n",
    "                    eig[i] = A[i,i]\n",
    "                    i += 1\n",
    "                else:\n",
    "                    alpha = np.matrix.trace(A[i:(i+2),i:(i+2)])\n",
    "                    beta = np.linalg.det(A[i:(i+2),i:(i+2)])\n",
    "                    im = np.sqrt(alpha**2 - 4*beta + 0j)\n",
    "                    eig[i] = 0.5*(alpha+im)\n",
    "                    eig[i+1] = 0.5*(alpha-im)\n",
    "                    i += 2\n",
    "            if i >= n:\n",
    "                if printiter == True:\n",
    "                    print(\"Iterations used =\",j)\n",
    "                return eig\n",
    "            else:\n",
    "                eig[n-1] = A[n-1,n-1]\n",
    "                if printiter == True:\n",
    "                    print(\"Iterations used =\",j)\n",
    "                return eig"
   ]
  },
  {
   "cell_type": "code",
   "execution_count": 23,
   "metadata": {},
   "outputs": [
    {
     "name": "stdout",
     "output_type": "stream",
     "text": [
      "Eigenvalues from Numpy's Eigenvalue solver\n",
      "[9.76498596 1.05796534 0.61987376 0.17962434 0.0373973  0.08182543] \n",
      "\n",
      "Eigenvalues from the Gram-Schmidt solver\n",
      "Iterations used = 11\n",
      "[9.76498596+0.j 1.05796534+0.j 0.61987376+0.j 0.17962434+0.j\n",
      " 0.08182543+0.j 0.0373973 +0.j] \n",
      "\n",
      "Eigenvalues from the Single-Shift Algorithm\n",
      "((9.764985959577977, ((1.0579653347463724+0j), (0.6198735239665789+0j))), (0.17962458100901868, ((0.08182543040918792+0j), (0.03739729693829709+0j)))) \n",
      "\n"
     ]
    }
   ],
   "source": [
    "B = np.random.random((6,6))\n",
    "A = np.matrix.getH(B)@B #We want a random but symmetric matrix\n",
    "print(\"Eigenvalues from Numpy's Eigenvalue solver\")\n",
    "print(np.linalg.eig(A)[0],\"\\n\")\n",
    "print(\"Eigenvalues from the Gram-Schmidt solver\")\n",
    "print(QREig(A,printiter=True),\"\\n\")\n",
    "print(\"Eigenvalues from the Single-Shift Algorithm\")\n",
    "print(singleshift(A,5),\"\\n\") #5 iterations seem insufficient"
   ]
  },
  {
   "cell_type": "code",
   "execution_count": 24,
   "metadata": {},
   "outputs": [
    {
     "name": "stdout",
     "output_type": "stream",
     "text": [
      "Eigenvalues from Numpy's Eigenvalue solver\n",
      "[9.66512698e+00 1.18780277e+00 6.00839548e-01 5.48491388e-02\n",
      " 4.76324913e-04 3.26187241e-01] \n",
      "\n",
      "Eigenvalues from the Gram-Schmidt solver\n",
      "Iterations used = 16\n",
      "[9.66512698e+00+0.j 1.18780277e+00+0.j 6.00839547e-01+0.j\n",
      " 3.26187242e-01+0.j 5.48491388e-02+0.j 4.76324913e-04+0.j] \n",
      "\n",
      "Eigenvalues from the Single-Shift algorithm\n",
      "((9.665126982637299, ((1.1878027623332692+0j), (0.4610383626189843+0j))), (0.013112657324431787, ((0.32618724090861473+0j), (0.18201399763606+0j)))) \n",
      "\n"
     ]
    }
   ],
   "source": [
    "B = np.random.random((6,6))\n",
    "A = np.matrix.getH(B)@B #We want a random but symmetric matrix\n",
    "print(\"Eigenvalues from Numpy's Eigenvalue solver\")\n",
    "print(np.linalg.eig(A)[0],\"\\n\")\n",
    "print(\"Eigenvalues from the Gram-Schmidt solver\")\n",
    "print(QREig(A,printiter=True),\"\\n\")\n",
    "print(\"Eigenvalues from the Single-Shift algorithm\")\n",
    "print(singleshift(A,10),\"\\n\") #10 iterations appears to be sufficient"
   ]
  },
  {
   "cell_type": "code",
   "execution_count": 25,
   "metadata": {},
   "outputs": [
    {
     "name": "stdout",
     "output_type": "stream",
     "text": [
      "Eigenvalues from Numpy's Eigenvalue solver\n",
      "[1.00235004e+02 4.84558199e+00 4.74681204e+00 3.75876201e+00\n",
      " 3.22366652e+00 2.50279334e+00 2.07937908e+00 1.80733968e+00\n",
      " 2.71493022e-04 5.35446654e-02 8.09321748e-02 1.91578393e-01\n",
      " 1.34591804e-01 3.44858984e-01 1.17330485e+00 1.10419442e+00\n",
      " 5.99474938e-01 7.51498609e-01 9.05815319e-01 8.76131703e-01] \n",
      "\n",
      "Eigenvalues from the Gram-Schmidt solver\n",
      "Iterations used = 98\n",
      "[1.00235004e+02+0.j 4.84558199e+00+0.j 4.74681204e+00+0.j\n",
      " 3.75876201e+00+0.j 3.22366652e+00+0.j 2.50279334e+00+0.j\n",
      " 2.07937908e+00+0.j 1.80733968e+00+0.j 1.17330476e+00+0.j\n",
      " 1.10419451e+00+0.j 9.05815319e-01+0.j 8.76131703e-01+0.j\n",
      " 7.51498609e-01+0.j 5.99474938e-01+0.j 3.44858984e-01+0.j\n",
      " 1.91578393e-01+0.j 1.34591804e-01+0.j 8.09321748e-02+0.j\n",
      " 5.35446654e-02+0.j 2.71493022e-04+0.j] \n",
      "\n",
      "Eigenvalues from the Single-Shift algorithm\n",
      "(((((100.23500431253763+0j), (4.844689012526935+0j)), (4.74770502212736, ((3.7587620142949194+0j), (3.2236665172691485+0j)))), (((2.502793335577552+0j), (2.079378905314865+0j)), (1.807339851600718, ((0.0586630655496234+0j), (0.00031402509386969576+0j))))), ((((1.1732832572876113+0j), (0.07650911171913322+0j)), (0.13445392336060835, ((0.39150740849408294+0j), (0.1909784143456652+0j)))), (((1.0575675784878424+0j), (0.8961085182106944+0j)), (0.6091817392202417, ((0.8761317033684982+0j), (0.7514986091744297+0j)))))) \n",
      "\n"
     ]
    }
   ],
   "source": [
    "B = np.random.random((20,20))\n",
    "A = np.matrix.getH(B)@B #We want a random but symmetric matrix\n",
    "print(\"Eigenvalues from Numpy's Eigenvalue solver\")\n",
    "print(np.linalg.eig(A)[0],\"\\n\")\n",
    "print(\"Eigenvalues from the Gram-Schmidt solver\")\n",
    "print(QREig(A,printiter=True),\"\\n\")\n",
    "print(\"Eigenvalues from the Single-Shift algorithm\")\n",
    "print(singleshift(A,20),\"\\n\") #20 iterations appears to be sufficient"
   ]
  },
  {
   "cell_type": "markdown",
   "metadata": {},
   "source": [
    "Running the algorithms multiple times for random 6X6 matrices, we can see that both the Gram-Schmidt solver and the Single-Shift algorithm have similar accuracy."
   ]
  },
  {
   "cell_type": "code",
   "execution_count": 26,
   "metadata": {},
   "outputs": [
    {
     "name": "stdout",
     "output_type": "stream",
     "text": [
      "For a 6X6 matrix:\n",
      "\n",
      "Runtime of Numpy's Eigenvalue solver\n",
      "31.8 µs ± 142 ns per loop (mean ± std. dev. of 7 runs, 10000 loops each)\n",
      "\n",
      "Runtime of the Gram-Schmidt solver\n",
      "3.58 ms ± 75.7 µs per loop (mean ± std. dev. of 7 runs, 100 loops each)\n",
      "\n",
      "Runtime of the Single-Shift algorithm\n",
      "2.37 ms ± 19.2 µs per loop (mean ± std. dev. of 7 runs, 100 loops each)\n"
     ]
    }
   ],
   "source": [
    "B = np.random.random((6,6))\n",
    "A = np.matrix.getH(B)@B #We want a random but symmetric matrix\n",
    "print(\"For a 6X6 matrix:\")\n",
    "print()\n",
    "print(\"Runtime of Numpy's Eigenvalue solver\")\n",
    "%timeit np.linalg.eig(A)[0]\n",
    "print()\n",
    "print(\"Runtime of the Gram-Schmidt solver\")\n",
    "%timeit QREig(A)\n",
    "print()\n",
    "print(\"Runtime of the Single-Shift algorithm\")\n",
    "%timeit singleshift(A,10)"
   ]
  },
  {
   "cell_type": "code",
   "execution_count": 27,
   "metadata": {},
   "outputs": [
    {
     "name": "stdout",
     "output_type": "stream",
     "text": [
      "For a 20X20 matrix:\n",
      "\n",
      "Runtime of Numpy's Eigenvalue solver\n",
      "111 µs ± 831 ns per loop (mean ± std. dev. of 7 runs, 10000 loops each)\n",
      "\n",
      "Runtime of the Gram-Schmidt solver\n",
      "149 ms ± 1.33 ms per loop (mean ± std. dev. of 7 runs, 10 loops each)\n",
      "\n",
      "Runtime of the Single-Shift algorithm\n",
      "16.6 ms ± 21.8 µs per loop (mean ± std. dev. of 7 runs, 100 loops each)\n"
     ]
    }
   ],
   "source": [
    "B = np.random.random((20,20))\n",
    "A = np.matrix.getH(B)@B #We want a random but symmetric matrix\n",
    "print(\"For a 20X20 matrix:\")\n",
    "print()\n",
    "print(\"Runtime of Numpy's Eigenvalue solver\")\n",
    "%timeit np.linalg.eig(A)[0]\n",
    "print()\n",
    "print(\"Runtime of the Gram-Schmidt solver\")\n",
    "%timeit QREig(A)\n",
    "print()\n",
    "print(\"Runtime of the Single-Shift algorithm\")\n",
    "%timeit singleshift(A,20)"
   ]
  },
  {
   "cell_type": "markdown",
   "metadata": {},
   "source": [
    "It is difficult to determine how many iterations are required by the Single-Shift algorithm to produce an accurate result; we simply used trial and error. \n",
    "\n",
    "For small matrices, the number of iterations required by the Gram-Schmidt and Single-Shift algorithms appear to be similar, hence, their runtimes are comparable. However, when the matrix is large, the Gram-Schmidt method requires far more iterations than the Single-Shift method. Both algorithms require around a dozen iterations for a 6X6 matrix, but when the matrix is 20X20, the Gram-Schmidt algorithm requires hundreds of iterations, whereas the Single-Shift algorithm only requires 20 iterations. Therefore, it seems like the number of iterations required grows with the size of the matrix much more quickly for the Gram-Schmidt algorithm than the Single-Shift algorithm.\n",
    "\n",
    "In summary, the Gram-Schmidt algorithm may be more convenient to use for small matrices. However, for large matrices, the Single-Shift algorithm will be much faster."
   ]
  }
 ],
 "metadata": {
  "kernelspec": {
   "display_name": "Python 3",
   "language": "python",
   "name": "python3"
  },
  "language_info": {
   "codemirror_mode": {
    "name": "ipython",
    "version": 3
   },
   "file_extension": ".py",
   "mimetype": "text/x-python",
   "name": "python",
   "nbconvert_exporter": "python",
   "pygments_lexer": "ipython3",
   "version": "3.6.7"
  }
 },
 "nbformat": 4,
 "nbformat_minor": 2
}
