{
 "cells": [
  {
   "cell_type": "markdown",
   "metadata": {},
   "source": [
    "# Homework 3\n",
    "\n",
    "## by Dion Ho\n",
    "\n",
    "\n",
    "# Import Python Libraries"
   ]
  },
  {
   "cell_type": "code",
   "execution_count": 1,
   "metadata": {},
   "outputs": [],
   "source": [
    "import numpy as np\n",
    "import math\n",
    "import scipy.sparse as sp\n",
    "from math import pi\n",
    "from math import factorial\n",
    "from scipy.sparse.linalg import spsolve\n",
    "from matplotlib import pyplot as plt\n",
    "%matplotlib inline"
   ]
  },
  {
   "cell_type": "markdown",
   "metadata": {},
   "source": [
    "## Q3(a)"
   ]
  },
  {
   "cell_type": "markdown",
   "metadata": {},
   "source": [
    "$u'' = -\\pi^2\\sin(\\pi x) \\implies u(x) = D + Cx + \\sin(\\pi x)$. Since $u(0) = 0$, $D = 0$. Since $u(1) = 1$, $1 = D + C \\implies C = 1$. Therefore, $u(x) = x + \\sin(\\pi x)$."
   ]
  },
  {
   "cell_type": "markdown",
   "metadata": {},
   "source": [
    "## Q3(b)"
   ]
  },
  {
   "cell_type": "markdown",
   "metadata": {},
   "source": [
    "Suppose that $u''(x) = au(x-h) + bu(x) +cu(x+h)$. We will Taylor expand $u(x-h)$ and $u(x+h)$ at point $x$.\n",
    "\n",
    "\\begin{align*}\n",
    "au(x-h) &= a\\left(u(x) + u'(x)(x-h-x) + \\frac{u''(x)}{2!}(x-h-x)^2 + \\frac{u^{(3)}(x)}{3!}(x-h-x)^3 + \\frac{u^{(4)}(\\xi_1)}{3!}(x-h-x)^4\\right) \\\\\n",
    "&= a\\left(u(x) - u'(x)h + \\frac{u''(x)}{2!}h^2 - \\frac{u^{(3)}(x)}{3!}h^3 + \\frac{u^{(4)}(\\xi_1)}{3!}h^4\\right)\n",
    "\\end{align*}\n",
    "\\begin{align*}\n",
    "cu(x+h) &= c\\left(u(x) + u'(x)(x+h-x) + \\frac{u''(x)}{2!}(x+h-x)^2 + \\frac{u^{(3)}(x)}{3!}(x+h-x)^3 + \\frac{u^{(4)}(\\xi_2)}{3!}(x+h-x)^4\\right) \\\\\n",
    "&= c\\left(u(x) + u'(x)h + \\frac{u''(x)}{2!}h^2 + \\frac{u^{(3)}(x)}{3!}h^3 + \\frac{u^{(4)}(\\xi_2)}{3!}h^4\\right)\n",
    "\\end{align*}\n",
    "Therefore,\n",
    "$$u''(x) = (a+b+c)u(x) + (c-a)u'(x)h + (a+c)\\frac{u''(x)}{2!}h^2 + (c-a)\\frac{u^{(3)}(x)}{3!}h^3 + (c+a)\\mathcal{O}(h^4).$$\n",
    "By comparing coefficients, $\\displaystyle a+b+c=0, c-a=0, (a+c)\\frac{h^2}{2!}=1$. Therefore, \n",
    "$$c = a = \\frac{1}{h^2}, \\hspace{1pc} b = -2a = -\\frac{2}{h^2}.$$\n",
    "Since $\\displaystyle(c+a)\\mathcal{O}(h^4) = \\frac{2}{h^2}\\mathcal{O}(h^4) = \\mathcal{O}(h^2)$, the order of the method is $\\mathcal{O}(h^2)$."
   ]
  },
  {
   "cell_type": "markdown",
   "metadata": {},
   "source": [
    "## Q3(c)"
   ]
  },
  {
   "cell_type": "markdown",
   "metadata": {},
   "source": [
    "We will cast the problem into the from $A\\vec{U} = \\vec{G}$ using the finite difference formula,\n",
    "$$u''(x) = \\frac{1}{h^2}u(x-h) - \\frac{2}{h^2}u(x) + \\frac{1}{h^2}u(x+h).$$\n",
    "\n",
    "$$\\therefore A = \\frac{1}{h^2}\\left(\n",
    "\\begin{array}{ccccccccc}\n",
    "-2 & 1 & 0 & 0 & 0 & \\ldots & 0 & 0 & 0\\\\\n",
    " 1 & -2 & 1 & 0 & 0 & \\ldots & 0 & 0 & 0\\\\\n",
    " 0 & 1 & -2 & 1 & 0 & \\ldots & 0 & 0 & 0\\\\\n",
    " \\vdots & \\vdots & \\vdots & \\vdots & \\vdots & \\vdots & \\vdots & \\vdots & \\vdots \\\\\n",
    " 0 & 0 & 0 & 0 & 0 &\\ldots & 1 & -2 & 1 \\\\\n",
    " 0 & 0 & 0 & 0 & 0 & \\ldots & 0 & 1 & -2\n",
    " \\end{array} \\right) \\hspace{2pc}\n",
    " \\vec{U} = \\left(\n",
    " \\begin{array}{c}\n",
    " u(x_1) \\\\\n",
    " u(x_2) \\\\\n",
    " \\vdots \\\\\n",
    " u(x_n)\n",
    " \\end{array} \\right) \\hspace{2pc}\n",
    " \\vec{G} = \\left(\n",
    " \\begin{array}{c}\n",
    " u''(x_1) - \\displaystyle \\frac{1}{h^2}u(x_0) \\\\\n",
    " u''(x_2) \\\\\n",
    " \\vdots \\\\\n",
    " u''(x_{n-1}) \\\\\n",
    " u''(x_n) - \\displaystyle \\frac{1}{h^2}u(x_{n+1})\n",
    " \\end{array} \\right)$$"
   ]
  },
  {
   "cell_type": "markdown",
   "metadata": {},
   "source": [
    "## Q3(d)"
   ]
  },
  {
   "cell_type": "code",
   "execution_count": 2,
   "metadata": {},
   "outputs": [],
   "source": [
    "def solve_for_U(xvals,upp):\n",
    "    h = xvals[2:]-xvals[1:-1] #h_j := x_{j+1} - x_j.\n",
    "                              #h_j's definition results in x_0 being ignored, whereas x_n is used to calculated h_{n-1}.\n",
    "                              #The answer did specify a formula for h, but this definition is more flexible (allows for non-equispaced points).\n",
    "    d0 = -2*(1/h**2)\n",
    "    d1 = 1/h[1:]**2\n",
    "    dm1 = 1/h[0:-1]**2\n",
    "    # create the \"A\" matrix by using the np.diag command\n",
    "    A = sp.diags(d0) + sp.diags(d1,1)+ sp.diags(dm1,-1)\n",
    "    \n",
    "    # create the \"b\" matrix by applying the function to x_i.\n",
    "    uppvals = np.hstack([upp(xvals[1:-2]),upp(xvals[-2])-1/(h[-2]**2)])\n",
    "    # Ax = b, solve for x.\n",
    "    uvals = spsolve(A,uppvals) #I'm using scipy sparse matrice solver else I'll run into memory problems later.\n",
    "    \n",
    "    return uvals"
   ]
  },
  {
   "cell_type": "code",
   "execution_count": 3,
   "metadata": {},
   "outputs": [
    {
     "data": {
      "text/plain": [
       "[<matplotlib.lines.Line2D at 0x2b07b2595f8>]"
      ]
     },
     "execution_count": 3,
     "metadata": {},
     "output_type": "execute_result"
    },
    {
     "data": {
      "image/png": "[encoded data removed]",
      "text/plain": [
       "<Figure size 432x288 with 1 Axes>"
      ]
     },
     "metadata": {
      "needs_background": "light"
     },
     "output_type": "display_data"
    }
   ],
   "source": [
    "u_0, u_n = 0, 1 #Boundary conditions\n",
    "upp = lambda x: -(np.pi**2)*np.sin(np.pi*x)\n",
    "xvals = np.linspace(0,1,10) #xvals includes x_0 for grpahing purposes, but x_0 is not used in the function.\n",
    "\n",
    "incomplete_yvals = solve_for_U(xvals,upp) #This is an array of u_1,...,u_{n-1}.\n",
    "#Add u_0 and u_n into yvals.\n",
    "yvals = np.insert((np.insert(incomplete_yvals,len(incomplete_yvals),u_n)),0,u_0)\n",
    "\n",
    "u = lambda x: x + np.sin(x*np.pi)\n",
    "yvals_actual = u(xvals)\n",
    "\n",
    "plt.grid(True)\n",
    "plt.plot(xvals,yvals) #The numerical solution.\n",
    "plt.plot(xvals,yvals_actual) #The actual solution."
   ]
  },
  {
   "cell_type": "markdown",
   "metadata": {},
   "source": [
    "## 3(e)"
   ]
  },
  {
   "cell_type": "code",
   "execution_count": 8,
   "metadata": {},
   "outputs": [
    {
     "data": {
      "text/plain": [
       "7.433222926067629e-10"
      ]
     },
     "execution_count": 8,
     "metadata": {},
     "output_type": "execute_result"
    }
   ],
   "source": [
    "def error(h, upp, u):\n",
    "    xvals = np.linspace(0,1,int(1/h))\n",
    "    \n",
    "    u_0, u_n = 0, 1\n",
    "    \n",
    "    incomplete_yvals = solve_for_U(xvals,upp)\n",
    "    yvals = np.insert((np.insert(incomplete_yvals,len(incomplete_yvals),u_n)),0,u_0)\n",
    "    \n",
    "    yvals_actual = u(xvals)\n",
    "    diff = np.abs(yvals_actual - yvals)\n",
    "    err = np.max(diff) #The error is the max difference between yvals and yvals_actual.\n",
    "    return err"
   ]
  },
  {
   "cell_type": "code",
   "execution_count": 21,
   "metadata": {},
   "outputs": [
    {
     "data": {
      "image/png": "[encoded data removed]",
      "text/plain": [
       "<Figure size 432x288 with 1 Axes>"
      ]
     },
     "metadata": {
      "needs_background": "light"
     },
     "output_type": "display_data"
    }
   ],
   "source": [
    "upp = lambda x: -(np.pi**2)*np.sin(np.pi*x)\n",
    "u = lambda x: x + np.sin(x*np.pi)\n",
    "\n",
    "n = 5\n",
    "h = np.zeros(n)\n",
    "for ii in range(0,n):\n",
    "    h[ii] = 0.1**(1+ii)\n",
    "\n",
    "results = np.zeros(n)\n",
    "for ii in range(0,n):\n",
    "    results[ii] = error(h[ii],upp,u)\n",
    "\n",
    "plt.loglog(h,results)\n",
    "plt.grid(True)"
   ]
  },
  {
   "cell_type": "markdown",
   "metadata": {},
   "source": [
    "$\\ln(error)$ is directly proportional to $\\ln(h)$."
   ]
  },
  {
   "cell_type": "markdown",
   "metadata": {},
   "source": [
    "## 3(f)"
   ]
  },
  {
   "cell_type": "code",
   "execution_count": null,
   "metadata": {},
   "outputs": [],
   "source": []
  }
 ],
 "metadata": {
  "kernelspec": {
   "display_name": "Python 3",
   "language": "python",
   "name": "python3"
  },
  "language_info": {
   "codemirror_mode": {
    "name": "ipython",
    "version": 3
   },
   "file_extension": ".py",
   "mimetype": "text/x-python",
   "name": "python",
   "nbconvert_exporter": "python",
   "pygments_lexer": "ipython3",
   "version": "3.6.7"
  }
 },
 "nbformat": 4,
 "nbformat_minor": 2
}
