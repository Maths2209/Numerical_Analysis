{
 "cells": [
  {
   "cell_type": "code",
   "execution_count": 1,
   "metadata": {},
   "outputs": [],
   "source": [
    "import numpy as np\n",
    "import math\n",
    "import time\n",
    "import scipy\n",
    "from math import pi, exp, factorial, sin, cos\n",
    "from matplotlib import pyplot as plt"
   ]
  },
  {
   "cell_type": "code",
   "execution_count": 2,
   "metadata": {},
   "outputs": [],
   "source": [
    "def QR_Householder(A): #UPGRADE: Let the algorithm accept non-square matrices?\n",
    "    n = np.shape(A)[0]\n",
    "    R = np.copy(A)\n",
    "    Q = np.eye(n)\n",
    "    V = np.zeros((n,n))\n",
    "    for k in range(0,n):\n",
    "        x = R[k:,k]\n",
    "        e1 = np.zeros(np.size(x))\n",
    "        e1[0] = 1\n",
    "        v = np.sign(x[0])*np.linalg.norm(x,2)*e1 + x\n",
    "        v = v/np.linalg.norm(v,2)\n",
    "        V[0:(n-k),k] = v\n",
    "        F = np.eye(n-k,n-k) - 2*np.outer(v,v)\n",
    "        R[k:,k:] =  F@R[k:,k:]\n",
    "        Q[k:,:] = F@np.copy(Q[k:,:]) #Modification to get Q.\n",
    "    return R, V, np.matrix.getH(Q)\n",
    "        "
   ]
  },
  {
   "cell_type": "code",
   "execution_count": 3,
   "metadata": {},
   "outputs": [],
   "source": [
    "def QR_GS_gen(A): #This uses Gram-Schmitz, but can accept non-square matrix inputs.\n",
    "    n = np.shape(A)\n",
    "    Q = np.zeros((n[0],n[1]))\n",
    "    R = np.zeros((n[1],n[1]))\n",
    "    for j in range(0,n[1]):\n",
    "        S = A[:,j]\n",
    "        for i in range(0,j):\n",
    "            R[i,j] = np.dot(np.matrix.getH(Q[:,i]),A[:,j])\n",
    "            S = S - R[i,j]*Q[:,i]\n",
    "        R[j,j] = np.linalg.norm(S)\n",
    "        Q[:,j] = S/R[j,j]\n",
    "    return Q, R"
   ]
  },
  {
   "cell_type": "code",
   "execution_count": 4,
   "metadata": {},
   "outputs": [],
   "source": [
    "def QREig(A, maxiter = 2000, tol = 1e-7, printiter = False):\n",
    "    n = np.shape(A)[0]\n",
    "    eig = np.empty(n, dtype = \"cfloat\")\n",
    "    ev = np.eye(n)\n",
    "    if n == 1:\n",
    "        return A[0,0]\n",
    "    if n == 2:\n",
    "        alpha = np.matrix.trace(A[0:2,0:2])\n",
    "        beta = np.linalg.det(A[0:2,0:2])\n",
    "        eig[0] = 0.5*(alpha+np.sqrt(alpha**2 - 4*beta + 0j))\n",
    "        eig[1] = 0.5*(alpha-np.sqrt(alpha**2 - 4*beta + 0j))\n",
    "        v2_1 = -(A[0,0] - eig1)/A[0,1]\n",
    "        v2_2 = -(A[0,0] - eig2)/A[0,1]\n",
    "        return eig, np.matrix([[1,1],[v2_1,v2_2]])\n",
    "    if n == 3:\n",
    "        for j in range(1,50):\n",
    "            AO = A\n",
    "            R,u,Q = QR_Householder(A) #QR algorithm goes here.\n",
    "            ev = np.matmul(ev,Q)\n",
    "            A = np.matmul(R,Q)\n",
    "    for j in range(1,maxiter):\n",
    "        AO = A\n",
    "        R,u,Q = QR_Householder(A) #QR algorithm goes here.\n",
    "        ev = np.matmul(ev,Q)\n",
    "        A = np.matmul(R,Q)\n",
    "        if np.linalg.norm(np.tril(A,-2)) < tol:\n",
    "            i = 0\n",
    "            while i < n-1:\n",
    "                if abs(A[i+1,i]) < tol**0.5:\n",
    "                    eig[i] = A[i,i]\n",
    "                    i += 1\n",
    "                else:\n",
    "                    alpha = np.matrix.trace(A[i:(i+2),i:(i+2)])\n",
    "                    beta = np.linalg.det(A[i:(i+2),i:(i+2)])\n",
    "                    im = np.sqrt(alpha**2 - 4*beta + 0j)\n",
    "                    eig[i] = 0.5*(alpha+im)\n",
    "                    eig[i+1] = 0.5*(alpha-im)\n",
    "                    i += 2\n",
    "            if i >= n:\n",
    "                if printiter == True:\n",
    "                    print(\"Iterations used =\",j)\n",
    "                return eig, ev\n",
    "            else:\n",
    "                eig[n-1] = A[n-1,n-1]\n",
    "                if printiter == True:\n",
    "                    print(\"Iterations used =\",j)\n",
    "                return eig, ev"
   ]
  },
  {
   "cell_type": "code",
   "execution_count": 5,
   "metadata": {},
   "outputs": [],
   "source": [
    "def SVD(A, maxiter = 2000, tol = 1e-8, printiter = False):\n",
    "    r = np.shape(A)[0]\n",
    "    c = np.shape(A)[1]\n",
    "    GS = False\n",
    "    if r < c:\n",
    "        V = np.zeros((c,c))\n",
    "        #Ueigs = np.linalg.eig(A@np.matrix.getH(A)) #Using Numpy's eigenvalue solver.\n",
    "        Ueigs = QREig(A@np.matrix.getH(A))\n",
    "        U = Ueigs[1]\n",
    "        D = np.hstack((np.diag(Ueigs[0]),np.zeros((r,c-r))))\n",
    "        for j in range(0,r):\n",
    "            if D[j,j] < tol: #The eigenvalues should not be negative.\n",
    "                D[j,j] = 0\n",
    "                V[:,j] = np.random.random(c)\n",
    "                GS = True\n",
    "            else:\n",
    "                D[j,j] = np.sqrt(D[j,j])\n",
    "                V[:,j] = np.matmul(np.matrix.getH(A), U[:,j])/D[j,j]\n",
    "        if GS == True:\n",
    "            V = np.linalg.qr(V)[0]\n",
    "    else:\n",
    "        U = np.zeros((r,r))\n",
    "        #Veigs = np.linalg.eig(np.matrix.getH(A)@A) #Using Numpy's eigenvalue solver.\n",
    "        Veigs = QREig(np.matrix.getH(A)@A)\n",
    "        V = Veigs[1]\n",
    "        D = np.vstack((np.diag(Veigs[0]),np.zeros((r-c,c))))\n",
    "        for j in range(0,c):\n",
    "            if D[j,j] < tol: #The eigenvalues should not be negative.\n",
    "                D[j,j] = 0\n",
    "                U[:,j] = np.random.random(r)\n",
    "                GS = True\n",
    "            else:\n",
    "                D[j,j] = np.sqrt(D[j,j])\n",
    "                U[:,j] = np.matmul(A, V[:,j])/D[j,j]\n",
    "        if GS == True:\n",
    "            U = np.linalg.qr(U)[0] #We can also use our own Gram-Schmidt algorithm.\n",
    "                                   #There may be sign ambiguity errors.\n",
    "                                   #Our eigenvalue solver may not be properly constructed to deal with this scenario.\n",
    "    \n",
    "    return U,D,V"
   ]
  },
  {
   "cell_type": "code",
   "execution_count": 8,
   "metadata": {},
   "outputs": [
    {
     "name": "stdout",
     "output_type": "stream",
     "text": [
      "[[13  2  3]\n",
      " [ 8  2  7]\n",
      " [ 1  4  2]\n",
      " [ 5  9  6]]\n",
      "[[ 0.63982798 -0.59116779 -0.52314173  0.        ]\n",
      " [ 0.53283156 -0.11389604  0.87558851  0.        ]\n",
      " [ 0.17002634  0.38026986 -0.15447242  0.        ]\n",
      " [ 0.52999878  0.72010302 -0.17616423  0.        ]]\n",
      "[[19.48482429+0.j  0.        +0.j  0.        +0.j]\n",
      " [ 0.        +0.j  8.21760161+0.j  0.        +0.j]\n",
      " [ 0.        +0.j  0.        +0.j  3.29733252+0.j]\n",
      " [ 0.        +0.j  0.        +0.j  0.        +0.j]]\n",
      "[[ 0.79019149 -0.55876327 -0.25175587]\n",
      " [ 0.39741658  0.77989077 -0.48356018]\n",
      " [ 0.46653775  0.28205319  0.83832483]]\n",
      "[[13.  2.  3.]\n",
      " [ 8.  2.  7.]\n",
      " [ 1.  4.  2.]\n",
      " [ 5.  9.  6.]]\n"
     ]
    },
    {
     "name": "stderr",
     "output_type": "stream",
     "text": [
      "c:\\users\\dionh\\appdata\\local\\programs\\python\\python36\\lib\\site-packages\\ipykernel_launcher.py:34: ComplexWarning: Casting complex values to real discards the imaginary part\n"
     ]
    }
   ],
   "source": [
    "A = np.array([[13,2,3],[8,2,7],[1,4,2],[5,9,6]])\n",
    "print(A)\n",
    "U,D,V = SVD(A)\n",
    "print(U)\n",
    "print(D)\n",
    "print(V)\n",
    "print(np.real(U@D@np.matrix.getH(V)))"
   ]
  },
  {
   "cell_type": "code",
   "execution_count": null,
   "metadata": {},
   "outputs": [],
   "source": []
  }
 ],
 "metadata": {
  "kernelspec": {
   "display_name": "Python 3",
   "language": "python",
   "name": "python3"
  },
  "language_info": {
   "codemirror_mode": {
    "name": "ipython",
    "version": 3
   },
   "file_extension": ".py",
   "mimetype": "text/x-python",
   "name": "python",
   "nbconvert_exporter": "python",
   "pygments_lexer": "ipython3",
   "version": "3.6.7"
  }
 },
 "nbformat": 4,
 "nbformat_minor": 2
}
