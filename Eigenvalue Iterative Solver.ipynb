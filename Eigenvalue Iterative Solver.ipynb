{
 "cells": [
  {
   "cell_type": "code",
   "execution_count": 1,
   "metadata": {},
   "outputs": [],
   "source": [
    "import numpy as np\n",
    "import math\n",
    "import time\n",
    "import scipy\n",
    "from math import pi, exp, factorial, sin, cos\n",
    "from matplotlib import pyplot as plt"
   ]
  },
  {
   "cell_type": "code",
   "execution_count": 2,
   "metadata": {},
   "outputs": [],
   "source": [
    "def QR_Householder(A): #UPGRADE: Let the algorithm accept non-square matrices?\n",
    "    n = np.shape(A)[0]\n",
    "    R = np.copy(A)\n",
    "    Q = np.eye(n)\n",
    "    V = np.zeros((n,n))\n",
    "    for k in range(0,n):\n",
    "        x = R[k:,k]\n",
    "        e1 = np.zeros(np.size(x))\n",
    "        e1[0] = 1\n",
    "        v = np.sign(x[0])*np.linalg.norm(x,2)*e1 + x\n",
    "        v = v/np.linalg.norm(v,2)\n",
    "        V[0:(n-k),k] = v\n",
    "        F = np.eye(n-k,n-k) - 2*np.outer(v,v)\n",
    "        R[k:,k:] =  F@R[k:,k:]\n",
    "        Q[k:,:] = F@np.copy(Q[k:,:]) #Modification to get Q.\n",
    "    return R, V, np.matrix.getH(Q)\n",
    "        "
   ]
  },
  {
   "cell_type": "code",
   "execution_count": 3,
   "metadata": {},
   "outputs": [],
   "source": [
    "def QR_GS_gen(A): #This uses Gram-Schmitz, but can accept non-square matrix inputs.\n",
    "    n = np.shape(A)\n",
    "    Q = np.zeros((n[0],n[1]))\n",
    "    R = np.zeros((n[1],n[1]))\n",
    "    for j in range(0,n[1]):\n",
    "        S = A[:,j]\n",
    "        for i in range(0,j):\n",
    "            R[i,j] = np.dot(np.matrix.getH(Q[:,i]),A[:,j])\n",
    "            S = S - R[i,j]*Q[:,i]\n",
    "        R[j,j] = np.linalg.norm(S)\n",
    "        Q[:,j] = S/R[j,j]\n",
    "    return Q, R"
   ]
  },
  {
   "cell_type": "code",
   "execution_count": 4,
   "metadata": {},
   "outputs": [],
   "source": [
    "def QREig(A, maxiter = 1000, tol = 1e-8):\n",
    "    n = np.shape(A)[0]\n",
    "    eig = np.empty(n, dtype = \"cfloat\")\n",
    "    if n == 1:\n",
    "        return A[0,0]\n",
    "    if n == 2:\n",
    "        alpha = np.matrix.trace(A[0:2,0:2])\n",
    "        beta = np.linalg.det(A[0:2,0:2])\n",
    "        eig[0] = 0.5*(alpha+np.sqrt(alpha**2 - 4*beta + 0j))\n",
    "        eig[1] = 0.5*(alpha-np.sqrt(alpha**2 - 4*beta + 0j))\n",
    "        return eig\n",
    "    if n == 3:\n",
    "        for j in range(1,50):\n",
    "            AO = A\n",
    "            Q,R = np.linalg.qr(A)\n",
    "            A = np.matmul(R,Q)\n",
    "    for j in range(1,maxiter):\n",
    "        AO = A\n",
    "        Q,R = np.linalg.qr(A)\n",
    "        A = np.matmul(R,Q)\n",
    "        if np.linalg.norm(np.tril(A,-2),ord=np.inf) < tol:\n",
    "            i = 0\n",
    "            while i < n-1:\n",
    "                if abs(A[i+1,i]) < tol**0.5:\n",
    "                    eig[i] = A[i,i]\n",
    "                    i += 1\n",
    "                else:\n",
    "                    alpha = np.matrix.trace(A[i:(i+2),i:(i+2)])\n",
    "                    beta = np.linalg.det(A[i:(i+2),i:(i+2)])\n",
    "                    im = np.sqrt(alpha**2 - 4*beta + 0j)\n",
    "                    eig[i] = 0.5*(alpha+im)\n",
    "                    eig[i+1] = 0.5*(alpha-im)\n",
    "                    i += 2\n",
    "            if i >= n:\n",
    "                return eig\n",
    "            else:\n",
    "                eig[n-1] = A[n-1,n-1]\n",
    "                return eig"
   ]
  },
  {
   "cell_type": "code",
   "execution_count": 5,
   "metadata": {},
   "outputs": [
    {
     "name": "stdout",
     "output_type": "stream",
     "text": [
      "[ 3.0000000e+00 -4.4408921e-16  3.0000000e+00]\n",
      "[3.+0.j 3.+0.j 0.+0.j]\n"
     ]
    }
   ],
   "source": [
    "B = np.random.random((6,6))\n",
    "A = np.array([[2,-1,-1],[-1,2,-1],[-1,-1,2]])\n",
    "print(np.linalg.eig(A)[0])\n",
    "print(QREig(A))"
   ]
  },
  {
   "cell_type": "code",
   "execution_count": null,
   "metadata": {},
   "outputs": [],
   "source": []
  },
  {
   "cell_type": "code",
   "execution_count": null,
   "metadata": {},
   "outputs": [],
   "source": []
  }
 ],
 "metadata": {
  "kernelspec": {
   "display_name": "Python 3",
   "language": "python",
   "name": "python3"
  },
  "language_info": {
   "codemirror_mode": {
    "name": "ipython",
    "version": 3
   },
   "file_extension": ".py",
   "mimetype": "text/x-python",
   "name": "python",
   "nbconvert_exporter": "python",
   "pygments_lexer": "ipython3",
   "version": "3.6.7"
  }
 },
 "nbformat": 4,
 "nbformat_minor": 2
}
