{
 "cells": [
  {
   "cell_type": "code",
   "execution_count": 1,
   "metadata": {},
   "outputs": [],
   "source": [
    "import numpy as np\n",
    "import math\n",
    "import time\n",
    "import scipy\n",
    "from math import pi, exp, factorial, sin, cos\n",
    "from matplotlib import pyplot as plt"
   ]
  },
  {
   "cell_type": "code",
   "execution_count": 2,
   "metadata": {},
   "outputs": [],
   "source": [
    "def QR_Householder(A): #UPGRADE: Let the algorithm accept non-square matrices?\n",
    "    n = np.shape(A)[0]\n",
    "    R = np.copy(A)\n",
    "    Q = np.eye(n)\n",
    "    V = np.zeros((n,n))\n",
    "    for k in range(0,n):\n",
    "        x = R[k:,k]\n",
    "        e1 = np.zeros(np.size(x))\n",
    "        e1[0] = 1\n",
    "        v = np.sign(x[0])*np.linalg.norm(x,2)*e1 + x\n",
    "        v = v/np.linalg.norm(v,2)\n",
    "        V[0:(n-k),k] = v\n",
    "        F = np.eye(n-k,n-k) - 2*np.outer(v,v)\n",
    "        R[k:,k:] =  F@R[k:,k:]\n",
    "        Q[k:,:] = F@np.copy(Q[k:,:]) #Modification to get Q.\n",
    "    return R, V, np.matrix.getH(Q)\n",
    "        "
   ]
  },
  {
   "cell_type": "code",
   "execution_count": 3,
   "metadata": {},
   "outputs": [],
   "source": [
    "def QR_GS_gen(A): #This uses Gram-Schmitz, but can accept non-square matrix inputs.\n",
    "    n = np.shape(A)\n",
    "    Q = np.zeros((n[0],n[1]))\n",
    "    R = np.zeros((n[1],n[1]))\n",
    "    for j in range(0,n[1]):\n",
    "        S = A[:,j]\n",
    "        for i in range(0,j):\n",
    "            R[i,j] = np.dot(np.matrix.getH(Q[:,i]),A[:,j])\n",
    "            S = S - R[i,j]*Q[:,i]\n",
    "        R[j,j] = np.linalg.norm(S)\n",
    "        Q[:,j] = S/R[j,j]\n",
    "    return Q, R"
   ]
  },
  {
   "cell_type": "code",
   "execution_count": 4,
   "metadata": {},
   "outputs": [],
   "source": [
    "def QREig(A, maxiter = 2000, tol = 1e-7, printiter = False):\n",
    "    n = np.shape(A)[0]\n",
    "    eig = np.empty(n, dtype = \"cfloat\")\n",
    "    ev = np.eye(n)\n",
    "    if n == 1:\n",
    "        return A[0,0]\n",
    "    if n == 2:\n",
    "        alpha = np.matrix.trace(A[0:2,0:2])\n",
    "        beta = np.linalg.det(A[0:2,0:2])\n",
    "        eig[0] = 0.5*(alpha+np.sqrt(alpha**2 - 4*beta + 0j))\n",
    "        eig[1] = 0.5*(alpha-np.sqrt(alpha**2 - 4*beta + 0j))\n",
    "        v2_1 = -(A[0,0] - eig1)/A[0,1]\n",
    "        v2_2 = -(A[0,0] - eig2)/A[0,1]\n",
    "        return eig, np.matrix([[1,1],[v2_1,v2_2]])\n",
    "    if n == 3:\n",
    "        for j in range(1,50):\n",
    "            AO = A\n",
    "            R,u,Q = QR_Householder(A) #QR algorithm goes here.\n",
    "            ev = np.matmul(ev,Q)\n",
    "            A = np.matmul(R,Q)\n",
    "    for j in range(1,maxiter):\n",
    "        AO = A\n",
    "        R,u,Q = QR_Householder(A) #QR algorithm goes here.\n",
    "        ev = np.matmul(ev,Q)\n",
    "        A = np.matmul(R,Q)\n",
    "        if np.linalg.norm(np.tril(A,-2)) < tol:\n",
    "            i = 0\n",
    "            while i < n-1:\n",
    "                if abs(A[i+1,i]) < tol**0.5:\n",
    "                    eig[i] = A[i,i]\n",
    "                    i += 1\n",
    "                else:\n",
    "                    alpha = np.matrix.trace(A[i:(i+2),i:(i+2)])\n",
    "                    beta = np.linalg.det(A[i:(i+2),i:(i+2)])\n",
    "                    im = np.sqrt(alpha**2 - 4*beta + 0j)\n",
    "                    eig[i] = 0.5*(alpha+im)\n",
    "                    eig[i+1] = 0.5*(alpha-im)\n",
    "                    i += 2\n",
    "            if i >= n:\n",
    "                if printiter == True:\n",
    "                    print(\"Iterations used =\",j)\n",
    "                return eig, ev\n",
    "            else:\n",
    "                eig[n-1] = A[n-1,n-1]\n",
    "                if printiter == True:\n",
    "                    print(\"Iterations used =\",j)\n",
    "                return eig, ev"
   ]
  },
  {
   "cell_type": "code",
   "execution_count": 105,
   "metadata": {},
   "outputs": [
    {
     "name": "stdout",
     "output_type": "stream",
     "text": [
      "[[1. 2. 3.]\n",
      " [4. 5. 6.]\n",
      " [7. 8. 9.]]\n",
      "[[-0.21483724  0.88723069  0.40824829]\n",
      " [-0.52058739  0.24964395 -0.81649658]\n",
      " [-0.82633754 -0.38794278  0.40824829]]\n",
      "[[1.68481034e+01 0.00000000e+00 0.00000000e+00]\n",
      " [0.00000000e+00 1.06836951e+00 0.00000000e+00]\n",
      " [0.00000000e+00 0.00000000e+00 4.41842475e-16]]\n",
      "[[-0.47967118 -0.57236779 -0.66506441]\n",
      " [-0.77669099 -0.07568647  0.62531805]\n",
      " [-0.40824829  0.81649658 -0.40824829]]\n"
     ]
    }
   ],
   "source": [
    "B = np.random.random((6,6))\n",
    "C = np.array([[1,2,3],[4,5,6],[7,8,9]])\n",
    "u,s,vh = np.linalg.svd(C)\n",
    "print(u*s@vh)\n",
    "print(u)\n",
    "print(np.diag(s))\n",
    "print(vh)"
   ]
  },
  {
   "cell_type": "code",
   "execution_count": 96,
   "metadata": {},
   "outputs": [
    {
     "data": {
      "text/plain": [
       "array([[ 66,  78,  90],\n",
       "       [ 78,  93, 108],\n",
       "       [ 90, 108, 126]])"
      ]
     },
     "execution_count": 96,
     "metadata": {},
     "output_type": "execute_result"
    }
   ],
   "source": [
    "C = np.array([[1,4,7],[2,5,8],[3,6,9]])\n",
    "np.matrix.getH(C@np.matrix.getH(C))"
   ]
  },
  {
   "cell_type": "code",
   "execution_count": 119,
   "metadata": {},
   "outputs": [
    {
     "data": {
      "text/plain": [
       "array([[ 1.00000000e+00, -3.88578059e-16,  4.44089210e-16],\n",
       "       [-2.22044605e-16,  1.00000000e+00,  2.22044605e-16],\n",
       "       [-6.66133815e-16, -6.10622664e-16,  1.00000000e+00]])"
      ]
     },
     "execution_count": 119,
     "metadata": {},
     "output_type": "execute_result"
    }
   ],
   "source": [
    "Y = np.array([[1,2,1],[1,0,1],[2,3,1]])\n",
    "np.linalg.pinv(Y)"
   ]
  },
  {
   "cell_type": "code",
   "execution_count": null,
   "metadata": {},
   "outputs": [],
   "source": []
  },
  {
   "cell_type": "code",
   "execution_count": null,
   "metadata": {},
   "outputs": [],
   "source": []
  }
 ],
 "metadata": {
  "kernelspec": {
   "display_name": "Python 3",
   "language": "python",
   "name": "python3"
  },
  "language_info": {
   "codemirror_mode": {
    "name": "ipython",
    "version": 3
   },
   "file_extension": ".py",
   "mimetype": "text/x-python",
   "name": "python",
   "nbconvert_exporter": "python",
   "pygments_lexer": "ipython3",
   "version": "3.6.7"
  }
 },
 "nbformat": 4,
 "nbformat_minor": 2
}
