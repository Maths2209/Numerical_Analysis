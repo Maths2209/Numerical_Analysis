{
 "cells": [
  {
   "cell_type": "code",
   "execution_count": 1,
   "metadata": {},
   "outputs": [],
   "source": [
    "import numpy as np\n",
    "import math\n",
    "import time\n",
    "import scipy\n",
    "from math import pi, exp, factorial, sin, cos\n",
    "from matplotlib import pyplot as plt"
   ]
  },
  {
   "cell_type": "code",
   "execution_count": 2,
   "metadata": {},
   "outputs": [],
   "source": [
    "def QR_GS(A): #This uses Gram-Schmitz.\n",
    "    n = np.shape(A)[0]\n",
    "    Q = np.zeros((n,n))\n",
    "    R = np.zeros((n,n))\n",
    "    for j in range(0,n):\n",
    "        S = A[:,j]\n",
    "        for i in range(0,j):\n",
    "            R[i,j] = np.dot(np.matrix.getH(Q[:,i]),A[:,j])\n",
    "            S = S - R[i,j]*Q[:,i]\n",
    "        R[j,j] = np.linalg.norm(S)\n",
    "        Q[:,j] = S/np.linalg.norm(S)\n",
    "    return Q, R"
   ]
  },
  {
   "cell_type": "code",
   "execution_count": 3,
   "metadata": {},
   "outputs": [],
   "source": [
    "def QR_GS_gen(A): #This uses Gram-Schmitz, but can accept non-square matrix inputs.\n",
    "    n = np.shape(A)\n",
    "    Q = np.zeros((n[0],n[1]))\n",
    "    R = np.zeros((n[1],n[1]))\n",
    "    for j in range(0,n[1]):\n",
    "        S = A[:,j]\n",
    "        for i in range(0,j):\n",
    "            R[i,j] = np.matmul(np.matrix.getH(Q[:,i]),A[:,j])\n",
    "            S = S - R[i,j]*Q[:,i]\n",
    "        R[j,j] = np.linalg.norm(S)\n",
    "        Q[:,j] = S/R[j,j]\n",
    "    return Q, R"
   ]
  },
  {
   "cell_type": "code",
   "execution_count": 4,
   "metadata": {},
   "outputs": [],
   "source": [
    "def QR_GS_modified(A): #This uses a modified version of Gram-Schmitz which avoids possible numerical instability.\n",
    "    n = np.shape(A)\n",
    "    Q = np.zeros((n[0],n[1]))\n",
    "    R = np.zeros((n[1],n[1]))\n",
    "    S = np.copy(A)*1.0\n",
    "    for j in range(0,n[1]):\n",
    "        R[j,j] = np.linalg.norm(S[:,j])\n",
    "        Q[:,j] = S[:,j]/R[j,j]\n",
    "        for i in range(j+1,n[1]):\n",
    "            R[j,i] = np.matmul(np.matrix.getH(Q[:,j]),A[:,i])\n",
    "            S[:,i] -= R[j,i]*Q[:,j]\n",
    "    return Q, R"
   ]
  },
  {
   "cell_type": "code",
   "execution_count": 5,
   "metadata": {},
   "outputs": [],
   "source": [
    "def QR_Householder(A):\n",
    "    n = np.shape(A)[0]\n",
    "    R = np.copy(A)*1.0\n",
    "    Q = np.eye(n)*1.0\n",
    "    V = np.zeros((n,n))\n",
    "    for k in range(0,n):\n",
    "        x = R[k:,k]\n",
    "        e1 = np.zeros(np.size(x))\n",
    "        e1[0] = 1\n",
    "        v = np.sign(x[0])*np.linalg.norm(x,2)*e1 + x\n",
    "        v = v/np.linalg.norm(v,2)\n",
    "        V[0:(n-k),k] = v\n",
    "        F = np.eye(n-k,n-k) - 2*np.outer(v,v)\n",
    "        R[k:,k:] =  F@R[k:,k:]\n",
    "        Q[k:,:] = F@np.copy(Q[k:,:]) #Modification to get Q.\n",
    "    return R, V, np.matrix.getH(Q)\n",
    "        "
   ]
  },
  {
   "cell_type": "code",
   "execution_count": 6,
   "metadata": {},
   "outputs": [
    {
     "name": "stdout",
     "output_type": "stream",
     "text": [
      "[[ 0.12216944  0.66303852  0.21320072]\n",
      " [ 0.48867778  0.18417737 -0.85280287]\n",
      " [ 0.85518611 -0.29468379  0.42640143]\n",
      " [ 0.12216944  0.66303852  0.21320072]] Modified Gram-Schmitz\n",
      "True\n",
      "-1.609823385706477e-15\n"
     ]
    }
   ],
   "source": [
    "B = np.array([[1,2,3],[4,5,6],[7,8,20],[1,2,3]])\n",
    "#print(B, \"Input Array\")\n",
    "A = np.random.random((10,10))\n",
    "Q,R = QR_GS_modified(B)\n",
    "print(Q, \"Modified Gram-Schmitz\")\n",
    "#print(R)\n",
    "#print(Q@R)\n",
    "print(np.allclose(Q@R,B))\n",
    "print(np.dot(Q[2],Q[1]))"
   ]
  },
  {
   "cell_type": "code",
   "execution_count": 7,
   "metadata": {},
   "outputs": [
    {
     "name": "stdout",
     "output_type": "stream",
     "text": [
      "True\n",
      "-1.609823385706477e-15\n"
     ]
    }
   ],
   "source": [
    "B = np.array([[1,2,3],[4,5,6],[7,8,20],[1,2,3]])\n",
    "A = np.random.random((10,10))\n",
    "Q,R = QR_GS_gen(B)\n",
    "#print(Q, \"Gram-Schmitz\")\n",
    "#print(R)\n",
    "print(np.allclose(B,Q@R))\n",
    "print(np.dot(Q[2],Q[1]))"
   ]
  },
  {
   "cell_type": "code",
   "execution_count": 8,
   "metadata": {},
   "outputs": [
    {
     "name": "stdout",
     "output_type": "stream",
     "text": [
      "[[-0.12309149  0.90453403 -0.40824829]\n",
      " [-0.49236596  0.30151134  0.81649658]\n",
      " [-0.86164044 -0.30151134 -0.40824829]]\n",
      "[[-8.12403840e+00 -9.60113630e+00 -2.05562790e+01]\n",
      " [ 7.21644966e-16  9.04534034e-01 -1.50755672e+00]\n",
      " [ 7.77156117e-16 -6.17221305e-17 -4.49073120e+00]]\n",
      "[[ 1.  2.  3.]\n",
      " [ 4.  5.  6.]\n",
      " [ 7.  8. 20.]]\n"
     ]
    }
   ],
   "source": [
    "B = np.array([[1,2,3],[4,5,6],[7,8,20]])\n",
    "R,V,Q = QR_Householder(B)\n",
    "\n",
    "print(Q)\n",
    "print(R)\n",
    "print(Q@R)"
   ]
  },
  {
   "cell_type": "code",
   "execution_count": 13,
   "metadata": {},
   "outputs": [
    {
     "name": "stdout",
     "output_type": "stream",
     "text": [
      "[[ 66  78  90]\n",
      " [ 78  93 108]\n",
      " [ 90 108 126]]\n"
     ]
    },
    {
     "data": {
      "text/plain": [
       "(array([[ 0.48471791, -0.77355147, -0.77158684],\n",
       "        [ 0.57284844, -0.07195828, -0.06727587],\n",
       "        [ 0.66097897,  0.62963492,  0.63255649]]),\n",
       " array([[1.36161669e+02, 1.62468632e+02, 1.88775595e+02],\n",
       "        [0.00000000e+00, 9.71436730e-01, 1.94287346e+00],\n",
       "        [0.00000000e+00, 0.00000000e+00, 3.16064994e-12]]))"
      ]
     },
     "execution_count": 13,
     "metadata": {},
     "output_type": "execute_result"
    }
   ],
   "source": [
    "B = np.array([[1,4,7],[2,5,8],[3,6,9]])\n",
    "C = B@np.matrix.getH(B)\n",
    "print(C)\n",
    "QR_GS_modified(C)"
   ]
  },
  {
   "cell_type": "code",
   "execution_count": null,
   "metadata": {},
   "outputs": [],
   "source": []
  }
 ],
 "metadata": {
  "kernelspec": {
   "display_name": "Python 3",
   "language": "python",
   "name": "python3"
  },
  "language_info": {
   "codemirror_mode": {
    "name": "ipython",
    "version": 3
   },
   "file_extension": ".py",
   "mimetype": "text/x-python",
   "name": "python",
   "nbconvert_exporter": "python",
   "pygments_lexer": "ipython3",
   "version": "3.6.7"
  }
 },
 "nbformat": 4,
 "nbformat_minor": 2
}
